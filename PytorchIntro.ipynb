{
  "nbformat": 4,
  "nbformat_minor": 0,
  "metadata": {
    "colab": {
      "name": "PytorchIntro.ipynb",
      "provenance": [],
      "authorship_tag": "ABX9TyOn+w+Pp+c/7sJgmCos/SC/",
      "include_colab_link": true
    },
    "kernelspec": {
      "name": "python3",
      "display_name": "Python 3"
    },
    "accelerator": "GPU"
  },
  "cells": [
    {
      "cell_type": "markdown",
      "metadata": {
        "id": "view-in-github",
        "colab_type": "text"
      },
      "source": [
        "<a href=\"https://colab.research.google.com/github/MSR806/DL/blob/master/PytorchIntro.ipynb\" target=\"_parent\"><img src=\"https://colab.research.google.com/assets/colab-badge.svg\" alt=\"Open In Colab\"/></a>"
      ]
    },
    {
      "cell_type": "code",
      "metadata": {
        "id": "AqMi-R89UYG-"
      },
      "source": [
        "import torch\n",
        "import numpy as np\n",
        "import matplotlib.pyplot as plt"
      ],
      "execution_count": 1,
      "outputs": []
    },
    {
      "cell_type": "markdown",
      "metadata": {
        "id": "s09ptPntUyEr"
      },
      "source": [
        "#**Intialise tensors**"
      ]
    },
    {
      "cell_type": "code",
      "metadata": {
        "id": "srrUszhvUv7g",
        "outputId": "34af4420-43d3-46e8-ff75-987b83f3e4c1",
        "colab": {
          "base_uri": "https://localhost:8080/"
        }
      },
      "source": [
        "x = torch.ones(3,2)\n",
        "print(x)\n",
        "x = torch.zeros(3,2)\n",
        "print(x)\n",
        "x = torch.rand(3,2)\n",
        "print(x)"
      ],
      "execution_count": null,
      "outputs": [
        {
          "output_type": "stream",
          "text": [
            "tensor([[1., 1.],\n",
            "        [1., 1.],\n",
            "        [1., 1.]])\n",
            "tensor([[0., 0.],\n",
            "        [0., 0.],\n",
            "        [0., 0.]])\n",
            "tensor([[0.0660, 0.5827],\n",
            "        [0.5846, 0.0253],\n",
            "        [0.2127, 0.7580]])\n"
          ],
          "name": "stdout"
        }
      ]
    },
    {
      "cell_type": "code",
      "metadata": {
        "id": "KrbvZDS4VNkg",
        "outputId": "4d0448fe-dc21-404f-fd80-cfa8ef6bffe5",
        "colab": {
          "base_uri": "https://localhost:8080/"
        }
      },
      "source": [
        "x = torch.empty(3,2)\n",
        "print(x)\n",
        "x = torch.zeros_like(x)\n",
        "print(x)"
      ],
      "execution_count": null,
      "outputs": [
        {
          "output_type": "stream",
          "text": [
            "tensor([[5.1632e-36, 0.0000e+00],\n",
            "        [3.3631e-44, 0.0000e+00],\n",
            "        [       nan, 6.1657e-44]])\n",
            "tensor([[0., 0.],\n",
            "        [0., 0.],\n",
            "        [0., 0.]])\n"
          ],
          "name": "stdout"
        }
      ]
    },
    {
      "cell_type": "code",
      "metadata": {
        "id": "-YT2tdsrVZVS",
        "outputId": "ee1eb6c2-58e0-48d2-cc11-2afe38033fa7",
        "colab": {
          "base_uri": "https://localhost:8080/"
        }
      },
      "source": [
        "x = torch.linspace(0, 1, steps = 5)\n",
        "print(x)"
      ],
      "execution_count": null,
      "outputs": [
        {
          "output_type": "stream",
          "text": [
            "tensor([0.0000, 0.2500, 0.5000, 0.7500, 1.0000])\n"
          ],
          "name": "stdout"
        }
      ]
    },
    {
      "cell_type": "code",
      "metadata": {
        "id": "KEZcp-UcVlnf",
        "outputId": "4700fec8-d6d0-4b76-c620-2759b6561050",
        "colab": {
          "base_uri": "https://localhost:8080/"
        }
      },
      "source": [
        "x = torch.tensor([[1,2],\n",
        "                  [3, 4],\n",
        "                  [5,6]])\n",
        "print(x)"
      ],
      "execution_count": null,
      "outputs": [
        {
          "output_type": "stream",
          "text": [
            "tensor([[1, 2],\n",
            "        [3, 4],\n",
            "        [5, 6]])\n"
          ],
          "name": "stdout"
        }
      ]
    },
    {
      "cell_type": "markdown",
      "metadata": {
        "id": "dN43ETHqV6Gy"
      },
      "source": [
        "#**Slicing tensors**"
      ]
    },
    {
      "cell_type": "code",
      "metadata": {
        "id": "NJXYMz9QVwUE",
        "outputId": "bdf2468e-a08e-427b-f82b-774e0bd065af",
        "colab": {
          "base_uri": "https://localhost:8080/"
        }
      },
      "source": [
        "print(x.size())\n",
        "print(x[:,1])\n",
        "print(x[0,:])"
      ],
      "execution_count": null,
      "outputs": [
        {
          "output_type": "stream",
          "text": [
            "torch.Size([3, 2])\n",
            "tensor([2, 4, 6])\n",
            "tensor([1, 2])\n"
          ],
          "name": "stdout"
        }
      ]
    },
    {
      "cell_type": "code",
      "metadata": {
        "id": "1gepVPU_WI8j",
        "outputId": "47297ecf-2738-4a3a-88f3-59557b188c62",
        "colab": {
          "base_uri": "https://localhost:8080/"
        }
      },
      "source": [
        "y = x[1,1]\n",
        "print(y)\n",
        "print(y.item())"
      ],
      "execution_count": null,
      "outputs": [
        {
          "output_type": "stream",
          "text": [
            "tensor(4)\n",
            "4\n"
          ],
          "name": "stdout"
        }
      ]
    },
    {
      "cell_type": "code",
      "metadata": {
        "id": "ZMISordlWY4n",
        "outputId": "f7a736b6-b3b1-47cf-ed16-6bb774fe43d6",
        "colab": {
          "base_uri": "https://localhost:8080/",
          "height": 171
        }
      },
      "source": [
        "print(x.item())"
      ],
      "execution_count": null,
      "outputs": [
        {
          "output_type": "error",
          "ename": "ValueError",
          "evalue": "ignored",
          "traceback": [
            "\u001b[0;31m---------------------------------------------------------------------------\u001b[0m",
            "\u001b[0;31mValueError\u001b[0m                                Traceback (most recent call last)",
            "\u001b[0;32m<ipython-input-12-95a4debbca18>\u001b[0m in \u001b[0;36m<module>\u001b[0;34m()\u001b[0m\n\u001b[0;32m----> 1\u001b[0;31m \u001b[0mprint\u001b[0m\u001b[0;34m(\u001b[0m\u001b[0mx\u001b[0m\u001b[0;34m.\u001b[0m\u001b[0mitem\u001b[0m\u001b[0;34m(\u001b[0m\u001b[0;34m)\u001b[0m\u001b[0;34m)\u001b[0m\u001b[0;34m\u001b[0m\u001b[0;34m\u001b[0m\u001b[0m\n\u001b[0m",
            "\u001b[0;31mValueError\u001b[0m: only one element tensors can be converted to Python scalars"
          ]
        }
      ]
    },
    {
      "cell_type": "markdown",
      "metadata": {
        "id": "5XHiRXbqWgw6"
      },
      "source": [
        "#**Reshaping tensors**"
      ]
    },
    {
      "cell_type": "code",
      "metadata": {
        "id": "SqfsJ30IWcfY",
        "outputId": "786a8935-0883-4266-87d9-6deaaa91fbc5",
        "colab": {
          "base_uri": "https://localhost:8080/"
        }
      },
      "source": [
        "print(x)\n",
        "y = x.view(2,3)\n",
        "print(y)"
      ],
      "execution_count": null,
      "outputs": [
        {
          "output_type": "stream",
          "text": [
            "tensor([[1, 2],\n",
            "        [3, 4],\n",
            "        [5, 6]])\n",
            "tensor([[1, 2, 3],\n",
            "        [4, 5, 6]])\n"
          ],
          "name": "stdout"
        }
      ]
    },
    {
      "cell_type": "code",
      "metadata": {
        "id": "AHJZIUwpWrxq",
        "outputId": "70d57ae8-f8d6-4d83-d8ab-66b4338c2ef9",
        "colab": {
          "base_uri": "https://localhost:8080/"
        }
      },
      "source": [
        "y = x.view(6, -1)\n",
        "print(y)\n",
        "y = x.view(6, 1)\n",
        "print(y)"
      ],
      "execution_count": null,
      "outputs": [
        {
          "output_type": "stream",
          "text": [
            "tensor([[1],\n",
            "        [2],\n",
            "        [3],\n",
            "        [4],\n",
            "        [5],\n",
            "        [6]])\n",
            "tensor([[1],\n",
            "        [2],\n",
            "        [3],\n",
            "        [4],\n",
            "        [5],\n",
            "        [6]])\n"
          ],
          "name": "stdout"
        }
      ]
    },
    {
      "cell_type": "markdown",
      "metadata": {
        "id": "8cWHyDOzXb0k"
      },
      "source": [
        "#**Simple Tensor Operations**"
      ]
    },
    {
      "cell_type": "code",
      "metadata": {
        "id": "QuRNkAGDW_7w",
        "outputId": "49168e0b-1161-426e-dff1-ccb17a6ce205",
        "colab": {
          "base_uri": "https://localhost:8080/"
        }
      },
      "source": [
        "x = torch.ones(3,2)\n",
        "y = torch.ones(3,2)\n",
        "z = x + y\n",
        "print(z)\n",
        "z = x - y\n",
        "print(z)\n",
        "z = x * y\n",
        "print(z)"
      ],
      "execution_count": null,
      "outputs": [
        {
          "output_type": "stream",
          "text": [
            "tensor([[2., 2.],\n",
            "        [2., 2.],\n",
            "        [2., 2.]])\n",
            "tensor([[0., 0.],\n",
            "        [0., 0.],\n",
            "        [0., 0.]])\n",
            "tensor([[1., 1.],\n",
            "        [1., 1.],\n",
            "        [1., 1.]])\n"
          ],
          "name": "stdout"
        }
      ]
    },
    {
      "cell_type": "code",
      "metadata": {
        "id": "4oQ3aQCBXw_E",
        "outputId": "9faad72a-4ea7-47e1-d7c8-887544cef28e",
        "colab": {
          "base_uri": "https://localhost:8080/"
        }
      },
      "source": [
        "z = y.add(x)\n",
        "print(z)\n",
        "print(y)"
      ],
      "execution_count": null,
      "outputs": [
        {
          "output_type": "stream",
          "text": [
            "tensor([[2., 2.],\n",
            "        [2., 2.],\n",
            "        [2., 2.]])\n",
            "tensor([[1., 1.],\n",
            "        [1., 1.],\n",
            "        [1., 1.]])\n"
          ],
          "name": "stdout"
        }
      ]
    },
    {
      "cell_type": "markdown",
      "metadata": {
        "id": "o1VyxlEUYHey"
      },
      "source": [
        "Adding in place"
      ]
    },
    {
      "cell_type": "code",
      "metadata": {
        "id": "pWbXsDSYYA4n",
        "outputId": "800935aa-f937-4a2b-eee9-aef352a34431",
        "colab": {
          "base_uri": "https://localhost:8080/"
        }
      },
      "source": [
        "z = y.add_(x)\n",
        "print(z)\n",
        "print(y)"
      ],
      "execution_count": null,
      "outputs": [
        {
          "output_type": "stream",
          "text": [
            "tensor([[2., 2.],\n",
            "        [2., 2.],\n",
            "        [2., 2.]])\n",
            "tensor([[2., 2.],\n",
            "        [2., 2.],\n",
            "        [2., 2.]])\n"
          ],
          "name": "stdout"
        }
      ]
    },
    {
      "cell_type": "markdown",
      "metadata": {
        "id": "4sMS7ayLYNoy"
      },
      "source": [
        "#**Numpy <> Pytorch**"
      ]
    },
    {
      "cell_type": "code",
      "metadata": {
        "id": "k0LY3AecYEML",
        "outputId": "33e74d9c-ef0b-4aaa-8514-928274aa4f08",
        "colab": {
          "base_uri": "https://localhost:8080/"
        }
      },
      "source": [
        "x_np = x.numpy()\n",
        "print(type(x),type(x_np))\n",
        "print(x_np)"
      ],
      "execution_count": null,
      "outputs": [
        {
          "output_type": "stream",
          "text": [
            "<class 'torch.Tensor'> <class 'numpy.ndarray'>\n",
            "[[1. 1.]\n",
            " [1. 1.]\n",
            " [1. 1.]]\n"
          ],
          "name": "stdout"
        }
      ]
    },
    {
      "cell_type": "code",
      "metadata": {
        "id": "16AlEgFhYvz4",
        "outputId": "8137ab76-f5ba-47d4-c54a-a716c3c0bd52",
        "colab": {
          "base_uri": "https://localhost:8080/"
        }
      },
      "source": [
        "a = np.random.randn(5)\n",
        "print(a)\n",
        "a_pt = torch.from_numpy(a)\n",
        "print(type(a),type(a_pt))\n",
        "print(a_pt)"
      ],
      "execution_count": null,
      "outputs": [
        {
          "output_type": "stream",
          "text": [
            "[-1.12637876 -1.35509264 -0.37622986 -0.80225175 -1.54590669]\n",
            "<class 'numpy.ndarray'> <class 'torch.Tensor'>\n",
            "tensor([-1.1264, -1.3551, -0.3762, -0.8023, -1.5459], dtype=torch.float64)\n"
          ],
          "name": "stdout"
        }
      ]
    },
    {
      "cell_type": "code",
      "metadata": {
        "id": "5M-x7jfNZDbQ",
        "outputId": "e79d27f7-ce34-47ff-f019-f49504b789a2",
        "colab": {
          "base_uri": "https://localhost:8080/"
        }
      },
      "source": [
        "np.add(a, 1, out=a)\n",
        "print(a)\n",
        "print(a_pt)"
      ],
      "execution_count": null,
      "outputs": [
        {
          "output_type": "stream",
          "text": [
            "[-0.12637876 -0.35509264  0.62377014  0.19774825 -0.54590669]\n",
            "tensor([-0.1264, -0.3551,  0.6238,  0.1977, -0.5459], dtype=torch.float64)\n"
          ],
          "name": "stdout"
        }
      ]
    },
    {
      "cell_type": "code",
      "metadata": {
        "id": "PYNogDCqZjT_",
        "outputId": "6ef16007-8860-454c-fec3-e6ca1c575b7e",
        "colab": {
          "base_uri": "https://localhost:8080/"
        }
      },
      "source": [
        "%%time\n",
        "for i in range(10):\n",
        "  a = np.random.randn(10000,10000)\n",
        "  b = np.random.randn(10000,10000)\n",
        "  c = a + b\n",
        "  #c = a*b\n",
        "  #c = np.matmul(a,b)"
      ],
      "execution_count": null,
      "outputs": [
        {
          "output_type": "stream",
          "text": [
            "CPU times: user 1min 36s, sys: 1.41 s, total: 1min 37s\n",
            "Wall time: 1min 37s\n"
          ],
          "name": "stdout"
        }
      ]
    },
    {
      "cell_type": "code",
      "metadata": {
        "id": "MW3wqEGMaFEk",
        "outputId": "f0767f5e-ba32-4e68-8897-213693ace69d",
        "colab": {
          "base_uri": "https://localhost:8080/"
        }
      },
      "source": [
        "%%time\n",
        "for i in range(10):\n",
        "  a = torch.randn(10000,10000)\n",
        "  b = torch.randn(10000,10000)\n",
        "  c = a + b\n",
        "  #c = a*b\n",
        "  #c = torch.matmul(a,b)"
      ],
      "execution_count": null,
      "outputs": [
        {
          "output_type": "stream",
          "text": [
            "CPU times: user 22.7 s, sys: 12.6 ms, total: 22.7 s\n",
            "Wall time: 22.7 s\n"
          ],
          "name": "stdout"
        }
      ]
    },
    {
      "cell_type": "markdown",
      "metadata": {
        "id": "0KAk7LS4c_ZM"
      },
      "source": [
        "#**CUDA Support**"
      ]
    },
    {
      "cell_type": "code",
      "metadata": {
        "id": "A9ZWAk4qaKYk",
        "outputId": "31f3bc99-2a76-4743-9c4b-e933d2556d3a",
        "colab": {
          "base_uri": "https://localhost:8080/"
        }
      },
      "source": [
        "print(torch.cuda.device_count())"
      ],
      "execution_count": 56,
      "outputs": [
        {
          "output_type": "stream",
          "text": [
            "1\n"
          ],
          "name": "stdout"
        }
      ]
    },
    {
      "cell_type": "code",
      "metadata": {
        "id": "Tez5zBlYdUvR",
        "outputId": "3e31455b-512e-494d-e3c0-5c358131f380",
        "colab": {
          "base_uri": "https://localhost:8080/"
        }
      },
      "source": [
        "print(torch.cuda.device(0))\n",
        "print(torch.cuda.get_device_name(0))"
      ],
      "execution_count": 57,
      "outputs": [
        {
          "output_type": "stream",
          "text": [
            "<torch.cuda.device object at 0x7ff170abff28>\n",
            "Tesla T4\n"
          ],
          "name": "stdout"
        }
      ]
    },
    {
      "cell_type": "code",
      "metadata": {
        "id": "7MaVXJondgqE"
      },
      "source": [
        "cuda0 = torch.device('cuda:0')"
      ],
      "execution_count": 58,
      "outputs": []
    },
    {
      "cell_type": "code",
      "metadata": {
        "id": "_AmV2LOpeH5-",
        "outputId": "f8732565-f292-4b46-b54b-33edae424910",
        "colab": {
          "base_uri": "https://localhost:8080/"
        }
      },
      "source": [
        "a = torch.ones(3, 2, device=cuda0)\n",
        "b = torch.ones(3, 2, device=cuda0)\n",
        "c = a + b\n",
        "print(c)"
      ],
      "execution_count": null,
      "outputs": [
        {
          "output_type": "stream",
          "text": [
            "tensor([[2., 2.],\n",
            "        [2., 2.],\n",
            "        [2., 2.]], device='cuda:0')\n"
          ],
          "name": "stdout"
        }
      ]
    },
    {
      "cell_type": "code",
      "metadata": {
        "id": "AUuNfBfMeZLx",
        "outputId": "7087ad4e-71ce-4383-c58b-98424e8084ac",
        "colab": {
          "base_uri": "https://localhost:8080/"
        }
      },
      "source": [
        "%%time\n",
        "for i in range(10):\n",
        "  a = torch.randn(10000,10000, device=cuda0)\n",
        "  b = torch.randn(10000,10000, device=cuda0)\n",
        "  b.add_(a)"
      ],
      "execution_count": null,
      "outputs": [
        {
          "output_type": "stream",
          "text": [
            "CPU times: user 983 µs, sys: 0 ns, total: 983 µs\n",
            "Wall time: 984 µs\n"
          ],
          "name": "stdout"
        }
      ]
    },
    {
      "cell_type": "code",
      "metadata": {
        "id": "dUEEjTlxevI5",
        "outputId": "16eee5b8-9a1e-4c1b-f15d-1451b7cda7c5",
        "colab": {
          "base_uri": "https://localhost:8080/"
        }
      },
      "source": [
        "%%time\n",
        "for i in range(10):\n",
        "  a = torch.randn(10000,10000, device=cuda0)\n",
        "  b = torch.randn(10000,10000, device=cuda0)\n",
        "  torch.matmul(b,a)"
      ],
      "execution_count": 62,
      "outputs": [
        {
          "output_type": "stream",
          "text": [
            "CPU times: user 2.08 ms, sys: 1 µs, total: 2.08 ms\n",
            "Wall time: 1.51 ms\n"
          ],
          "name": "stdout"
        }
      ]
    },
    {
      "cell_type": "markdown",
      "metadata": {
        "id": "QPx2cn0rfKGK"
      },
      "source": [
        "The above code will take ~9min with Numpy and ~4min with Pytorch on CPU"
      ]
    },
    {
      "cell_type": "markdown",
      "metadata": {
        "id": "paMIZ-jbfXf9"
      },
      "source": [
        "#**Autograd**"
      ]
    },
    {
      "cell_type": "code",
      "metadata": {
        "id": "zC7ueqtEfF04",
        "outputId": "cba79a52-6c32-4d11-a1d0-c91831207424",
        "colab": {
          "base_uri": "https://localhost:8080/"
        }
      },
      "source": [
        "x = torch.ones(3,2, requires_grad=True)\n",
        "print(x)"
      ],
      "execution_count": 7,
      "outputs": [
        {
          "output_type": "stream",
          "text": [
            "tensor([[1., 1.],\n",
            "        [1., 1.],\n",
            "        [1., 1.]], requires_grad=True)\n"
          ],
          "name": "stdout"
        }
      ]
    },
    {
      "cell_type": "code",
      "metadata": {
        "id": "mwOzeQthiSq5",
        "outputId": "61992e8f-cdb5-4ede-a113-e98855e9af1f",
        "colab": {
          "base_uri": "https://localhost:8080/"
        }
      },
      "source": [
        "y = x + 6\n",
        "print(y)"
      ],
      "execution_count": 10,
      "outputs": [
        {
          "output_type": "stream",
          "text": [
            "tensor([[7., 7.],\n",
            "        [7., 7.],\n",
            "        [7., 7.]], grad_fn=<AddBackward0>)\n"
          ],
          "name": "stdout"
        }
      ]
    },
    {
      "cell_type": "code",
      "metadata": {
        "id": "K30HV5bEiE4o",
        "outputId": "39b4f5b9-037d-46a4-e70d-406e9322c76d",
        "colab": {
          "base_uri": "https://localhost:8080/"
        }
      },
      "source": [
        "z = y*y + 1\n",
        "print(z)"
      ],
      "execution_count": 11,
      "outputs": [
        {
          "output_type": "stream",
          "text": [
            "tensor([[50., 50.],\n",
            "        [50., 50.],\n",
            "        [50., 50.]], grad_fn=<AddBackward0>)\n"
          ],
          "name": "stdout"
        }
      ]
    },
    {
      "cell_type": "code",
      "metadata": {
        "id": "LdIMr-WUiQhL",
        "outputId": "d6dad164-a4fd-455f-8d04-0ee13680df86",
        "colab": {
          "base_uri": "https://localhost:8080/"
        }
      },
      "source": [
        "t = torch.sum(z)\n",
        "print(t)"
      ],
      "execution_count": 12,
      "outputs": [
        {
          "output_type": "stream",
          "text": [
            "tensor(300., grad_fn=<SumBackward0>)\n"
          ],
          "name": "stdout"
        }
      ]
    },
    {
      "cell_type": "code",
      "metadata": {
        "id": "ttwrziqcifjv"
      },
      "source": [
        "t.backward()"
      ],
      "execution_count": 13,
      "outputs": []
    },
    {
      "cell_type": "code",
      "metadata": {
        "id": "xRLIKh-7ijkf",
        "outputId": "f6819f3a-c612-4372-9d25-70ccda40acfe",
        "colab": {
          "base_uri": "https://localhost:8080/"
        }
      },
      "source": [
        "print(x.grad)"
      ],
      "execution_count": 14,
      "outputs": [
        {
          "output_type": "stream",
          "text": [
            "tensor([[14., 14.],\n",
            "        [14., 14.],\n",
            "        [14., 14.]])\n"
          ],
          "name": "stdout"
        }
      ]
    },
    {
      "cell_type": "code",
      "metadata": {
        "id": "ERZEU6jQil0g",
        "outputId": "01530938-349f-4ae0-f943-fb3e09cadb38",
        "colab": {
          "base_uri": "https://localhost:8080/"
        }
      },
      "source": [
        "x = torch.ones(3,2, requires_grad=True)\n",
        "y = x + 5\n",
        "r = 1/(1 + torch.exp(-y))\n",
        "print(r)\n",
        "s = torch.sum(r)\n",
        "s.backward()\n",
        "print(x.grad)"
      ],
      "execution_count": 16,
      "outputs": [
        {
          "output_type": "stream",
          "text": [
            "tensor([[0.9975, 0.9975],\n",
            "        [0.9975, 0.9975],\n",
            "        [0.9975, 0.9975]], grad_fn=<MulBackward0>)\n",
            "tensor([[0.0025, 0.0025],\n",
            "        [0.0025, 0.0025],\n",
            "        [0.0025, 0.0025]])\n"
          ],
          "name": "stdout"
        }
      ]
    },
    {
      "cell_type": "code",
      "metadata": {
        "id": "FG47ul1BjhT7",
        "outputId": "0956d476-5f14-47f2-bdeb-f6dd0e01c1f9",
        "colab": {
          "base_uri": "https://localhost:8080/"
        }
      },
      "source": [
        "x = torch.ones(3,2, requires_grad=True)\n",
        "y = x + 5\n",
        "r = 1/(1 + torch.exp(-y))\n",
        "a = torch.ones(3,2)\n",
        "r.backward(a)\n",
        "print(x.grad)"
      ],
      "execution_count": 17,
      "outputs": [
        {
          "output_type": "stream",
          "text": [
            "tensor([[0.0025, 0.0025],\n",
            "        [0.0025, 0.0025],\n",
            "        [0.0025, 0.0025]])\n"
          ],
          "name": "stdout"
        }
      ]
    },
    {
      "cell_type": "markdown",
      "metadata": {
        "id": "FeyWYvzxlQqu"
      },
      "source": [
        "$\\frac{\\partial s}{\\partial x} = \\frac{\\partial s}{\\partial r}.\\frac{\\partial r}{\\partial x}$\n",
        "\n",
        "For the above code a represents the $\\frac{\\partial s}{\\partial r}$ and then $x.grad$ directly gives $\\frac{\\partial s}{\\partial x}$"
      ]
    },
    {
      "cell_type": "markdown",
      "metadata": {
        "id": "Gg9TjVWKoGXl"
      },
      "source": [
        "#**Autograd Example**"
      ]
    },
    {
      "cell_type": "code",
      "metadata": {
        "id": "XtOPyh0SlP6y"
      },
      "source": [
        "x  = torch.randn(20, 1, requires_grad=True)\n",
        "y = 3*x - 2"
      ],
      "execution_count": 39,
      "outputs": []
    },
    {
      "cell_type": "code",
      "metadata": {
        "id": "j_Iz0GOnlOmH"
      },
      "source": [
        "w = torch.tensor([1.], requires_grad=True)\n",
        "b = torch.tensor([1.], requires_grad=True)\n",
        "\n",
        "y_hat = w*x + b\n",
        "\n",
        "loss = torch.sum((y_hat - y)**2)"
      ],
      "execution_count": 40,
      "outputs": []
    },
    {
      "cell_type": "code",
      "metadata": {
        "id": "sujuZolapENq",
        "outputId": "be0baf97-b38e-45c5-8ea4-0de07ceb2b9e",
        "colab": {
          "base_uri": "https://localhost:8080/"
        }
      },
      "source": [
        "print(loss)"
      ],
      "execution_count": 41,
      "outputs": [
        {
          "output_type": "stream",
          "text": [
            "tensor(206.5119, grad_fn=<SumBackward0>)\n"
          ],
          "name": "stdout"
        }
      ]
    },
    {
      "cell_type": "code",
      "metadata": {
        "id": "5ZFeNLX6pF73"
      },
      "source": [
        "loss.backward()"
      ],
      "execution_count": 42,
      "outputs": []
    },
    {
      "cell_type": "code",
      "metadata": {
        "id": "cuFnipxIpfaK",
        "outputId": "d2fa1d33-0317-43ed-a871-58117a1d6a80",
        "colab": {
          "base_uri": "https://localhost:8080/"
        }
      },
      "source": [
        "print(w.grad, b.grad)"
      ],
      "execution_count": 43,
      "outputs": [
        {
          "output_type": "stream",
          "text": [
            "tensor([-45.4035]) tensor([107.4056])\n"
          ],
          "name": "stdout"
        }
      ]
    },
    {
      "cell_type": "markdown",
      "metadata": {
        "id": "OSQ76UnsqbHj"
      },
      "source": [
        "#**Do it in a Loop**"
      ]
    },
    {
      "cell_type": "code",
      "metadata": {
        "id": "9Z9DgI0YpkFf",
        "outputId": "6875db15-f9a0-4448-aa60-85f13bc945fa",
        "colab": {
          "base_uri": "https://localhost:8080/"
        }
      },
      "source": [
        "%%time\n",
        "\n",
        "learning_rate = 0.001\n",
        "N = 1000000\n",
        "epochs = 200\n",
        "w = torch.rand(N, requires_grad=True)\n",
        "b = torch.tensor([1.], requires_grad=True)\n",
        "\n",
        "#print(torch.mean(w).item(), b.item())\n",
        "\n",
        "for i in range(epochs):\n",
        "  x = torch.randn(N)\n",
        "  y = torch.dot(3*torch.ones(N), x) - 2\n",
        "\n",
        "  y_hat = torch.dot(w,x) + b\n",
        "  loss = torch.sum((y_hat - y)**2)\n",
        "\n",
        "  loss.backward()\n",
        "\n",
        "  with torch.no_grad():\n",
        "    w -= learning_rate * w.grad\n",
        "    b -= learning_rate * b.grad\n",
        "  \n",
        "  w.grad.zero_()\n",
        "  b.grad.zero_()\n",
        "\n",
        "#print(torch.mean(w).item(), b.item())"
      ],
      "execution_count": 72,
      "outputs": [
        {
          "output_type": "stream",
          "text": [
            "CPU times: user 3.6 s, sys: 57.7 ms, total: 3.66 s\n",
            "Wall time: 3.66 s\n"
          ],
          "name": "stdout"
        }
      ]
    },
    {
      "cell_type": "code",
      "metadata": {
        "id": "jxDEqXZDsURO",
        "outputId": "17384fe3-f5a5-4c97-c1bf-b3a6a4391bcc",
        "colab": {
          "base_uri": "https://localhost:8080/"
        }
      },
      "source": [
        "%%time\n",
        "\n",
        "learning_rate = 0.001\n",
        "N = 1000000\n",
        "epochs = 200\n",
        "w = torch.rand(N, requires_grad=True, device=cuda0)\n",
        "b = torch.tensor([1.], requires_grad=True, device=cuda0)\n",
        "\n",
        "#print(torch.mean(w).item(), b.item())\n",
        "\n",
        "for i in range(epochs):\n",
        "  x = torch.randn(N, device=cuda0)\n",
        "  y = torch.dot(3*torch.ones(N, device=cuda0), x) - 2\n",
        "\n",
        "  y_hat = torch.dot(w,x) + b\n",
        "  loss = torch.sum((y_hat - y)**2)\n",
        "\n",
        "  loss.backward()\n",
        "\n",
        "  with torch.no_grad():\n",
        "    w -= learning_rate * w.grad\n",
        "    b -= learning_rate * b.grad\n",
        "  \n",
        "  w.grad.zero_()\n",
        "  b.grad.zero_()\n",
        "\n",
        "#print(torch.mean(w).item(), b.item())"
      ],
      "execution_count": 73,
      "outputs": [
        {
          "output_type": "stream",
          "text": [
            "CPU times: user 161 ms, sys: 15.9 ms, total: 177 ms\n",
            "Wall time: 177 ms\n"
          ],
          "name": "stdout"
        }
      ]
    },
    {
      "cell_type": "code",
      "metadata": {
        "id": "7pnbEbehywhV"
      },
      "source": [
        ""
      ],
      "execution_count": null,
      "outputs": []
    }
  ]
}