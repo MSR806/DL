{
  "nbformat": 4,
  "nbformat_minor": 0,
  "metadata": {
    "colab": {
      "name": "DL_MP_Neuron&Perceptron.ipynb",
      "provenance": [],
      "collapsed_sections": [
        "227BsLWVV8jb",
        "NRqw2mFBZYDd",
        "XnAqJGLc9FXp",
        "pZQHw69lcB5P",
        "scMfUkDCCBfC"
      ],
      "authorship_tag": "ABX9TyOHhbRWTu+y4bwK2VsNwLPV",
      "include_colab_link": true
    },
    "kernelspec": {
      "name": "python3",
      "display_name": "Python 3"
    }
  },
  "cells": [
    {
      "cell_type": "markdown",
      "metadata": {
        "id": "view-in-github",
        "colab_type": "text"
      },
      "source": [
        "<a href=\"https://colab.research.google.com/github/MSR806/DL/blob/master/DL_MP_Neuron%26Perceptron.ipynb\" target=\"_parent\"><img src=\"https://colab.research.google.com/assets/colab-badge.svg\" alt=\"Open In Colab\"/></a>"
      ]
    },
    {
      "cell_type": "code",
      "metadata": {
        "id": "lgbajAh3tawR",
        "colab_type": "code",
        "colab": {}
      },
      "source": [
        "import sklearn.datasets\n",
        "import numpy as np"
      ],
      "execution_count": 277,
      "outputs": []
    },
    {
      "cell_type": "markdown",
      "metadata": {
        "id": "227BsLWVV8jb",
        "colab_type": "text"
      },
      "source": [
        "#Load Dataset"
      ]
    },
    {
      "cell_type": "code",
      "metadata": {
        "id": "iRYP7CYXvNqF",
        "colab_type": "code",
        "colab": {}
      },
      "source": [
        "breast_cancer = sklearn.datasets.load_breast_cancer()"
      ],
      "execution_count": 278,
      "outputs": []
    },
    {
      "cell_type": "code",
      "metadata": {
        "id": "PPO9p5oNwK7J",
        "colab_type": "code",
        "colab": {
          "base_uri": "https://localhost:8080/",
          "height": 0
        },
        "outputId": "2888794c-f4e4-48ad-d3e9-730dfd0e1af0"
      },
      "source": [
        "type(breast_cancer)"
      ],
      "execution_count": 279,
      "outputs": [
        {
          "output_type": "execute_result",
          "data": {
            "text/plain": [
              "sklearn.utils.Bunch"
            ]
          },
          "metadata": {
            "tags": []
          },
          "execution_count": 279
        }
      ]
    },
    {
      "cell_type": "code",
      "metadata": {
        "id": "tCIYXmaPwhbQ",
        "colab_type": "code",
        "colab": {}
      },
      "source": [
        "X = breast_cancer.data\n",
        "Y = breast_cancer.target"
      ],
      "execution_count": 280,
      "outputs": []
    },
    {
      "cell_type": "code",
      "metadata": {
        "id": "ZZJfWFl8wzdx",
        "colab_type": "code",
        "colab": {
          "base_uri": "https://localhost:8080/",
          "height": 0
        },
        "outputId": "35a4b94f-e5ad-4424-80cf-cb0529a53d95"
      },
      "source": [
        "print(X)\n",
        "print(Y)"
      ],
      "execution_count": 281,
      "outputs": [
        {
          "output_type": "stream",
          "text": [
            "[[1.799e+01 1.038e+01 1.228e+02 ... 2.654e-01 4.601e-01 1.189e-01]\n",
            " [2.057e+01 1.777e+01 1.329e+02 ... 1.860e-01 2.750e-01 8.902e-02]\n",
            " [1.969e+01 2.125e+01 1.300e+02 ... 2.430e-01 3.613e-01 8.758e-02]\n",
            " ...\n",
            " [1.660e+01 2.808e+01 1.083e+02 ... 1.418e-01 2.218e-01 7.820e-02]\n",
            " [2.060e+01 2.933e+01 1.401e+02 ... 2.650e-01 4.087e-01 1.240e-01]\n",
            " [7.760e+00 2.454e+01 4.792e+01 ... 0.000e+00 2.871e-01 7.039e-02]]\n",
            "[0 0 0 0 0 0 0 0 0 0 0 0 0 0 0 0 0 0 0 1 1 1 0 0 0 0 0 0 0 0 0 0 0 0 0 0 0\n",
            " 1 0 0 0 0 0 0 0 0 1 0 1 1 1 1 1 0 0 1 0 0 1 1 1 1 0 1 0 0 1 1 1 1 0 1 0 0\n",
            " 1 0 1 0 0 1 1 1 0 0 1 0 0 0 1 1 1 0 1 1 0 0 1 1 1 0 0 1 1 1 1 0 1 1 0 1 1\n",
            " 1 1 1 1 1 1 0 0 0 1 0 0 1 1 1 0 0 1 0 1 0 0 1 0 0 1 1 0 1 1 0 1 1 1 1 0 1\n",
            " 1 1 1 1 1 1 1 1 0 1 1 1 1 0 0 1 0 1 1 0 0 1 1 0 0 1 1 1 1 0 1 1 0 0 0 1 0\n",
            " 1 0 1 1 1 0 1 1 0 0 1 0 0 0 0 1 0 0 0 1 0 1 0 1 1 0 1 0 0 0 0 1 1 0 0 1 1\n",
            " 1 0 1 1 1 1 1 0 0 1 1 0 1 1 0 0 1 0 1 1 1 1 0 1 1 1 1 1 0 1 0 0 0 0 0 0 0\n",
            " 0 0 0 0 0 0 0 1 1 1 1 1 1 0 1 0 1 1 0 1 1 0 1 0 0 1 1 1 1 1 1 1 1 1 1 1 1\n",
            " 1 0 1 1 0 1 0 1 1 1 1 1 1 1 1 1 1 1 1 1 1 0 1 1 1 0 1 0 1 1 1 1 0 0 0 1 1\n",
            " 1 1 0 1 0 1 0 1 1 1 0 1 1 1 1 1 1 1 0 0 0 1 1 1 1 1 1 1 1 1 1 1 0 0 1 0 0\n",
            " 0 1 0 0 1 1 1 1 1 0 1 1 1 1 1 0 1 1 1 0 1 1 0 0 1 1 1 1 1 1 0 1 1 1 1 1 1\n",
            " 1 0 1 1 1 1 1 0 1 1 0 1 1 1 1 1 1 1 1 1 1 1 1 0 1 0 0 1 0 1 1 1 1 1 0 1 1\n",
            " 0 1 0 1 1 0 1 0 1 1 1 1 1 1 1 1 0 0 1 1 1 1 1 1 0 1 1 1 1 1 1 1 1 1 1 0 1\n",
            " 1 1 1 1 1 1 0 1 0 1 1 0 1 1 1 1 1 0 0 1 0 1 0 1 1 1 1 1 0 1 1 0 1 0 1 0 0\n",
            " 1 1 1 0 1 1 1 1 1 1 1 1 1 1 1 0 1 0 0 1 1 1 1 1 1 1 1 1 1 1 1 1 1 1 1 1 1\n",
            " 1 1 1 1 1 1 1 0 0 0 0 0 0 1]\n"
          ],
          "name": "stdout"
        }
      ]
    },
    {
      "cell_type": "code",
      "metadata": {
        "id": "hS9JdAAtxjWr",
        "colab_type": "code",
        "colab": {
          "base_uri": "https://localhost:8080/",
          "height": 0
        },
        "outputId": "be8d7afd-641d-4b73-e904-1bba3c193efd"
      },
      "source": [
        "type(X)"
      ],
      "execution_count": 282,
      "outputs": [
        {
          "output_type": "execute_result",
          "data": {
            "text/plain": [
              "numpy.ndarray"
            ]
          },
          "metadata": {
            "tags": []
          },
          "execution_count": 282
        }
      ]
    },
    {
      "cell_type": "code",
      "metadata": {
        "id": "vhRmZ2R3xvWp",
        "colab_type": "code",
        "colab": {
          "base_uri": "https://localhost:8080/",
          "height": 0
        },
        "outputId": "6116c943-0e9d-4b3c-fea3-af55ee24642e"
      },
      "source": [
        "print(X.shape, Y.shape)"
      ],
      "execution_count": 283,
      "outputs": [
        {
          "output_type": "stream",
          "text": [
            "(569, 30) (569,)\n"
          ],
          "name": "stdout"
        }
      ]
    },
    {
      "cell_type": "code",
      "metadata": {
        "id": "9wDtoQIXx22B",
        "colab_type": "code",
        "colab": {}
      },
      "source": [
        "import pandas as pd"
      ],
      "execution_count": 284,
      "outputs": []
    },
    {
      "cell_type": "code",
      "metadata": {
        "id": "_iaelPCoyhT6",
        "colab_type": "code",
        "colab": {}
      },
      "source": [
        "data = pd.DataFrame(breast_cancer.data, columns = breast_cancer.feature_names)"
      ],
      "execution_count": 285,
      "outputs": []
    },
    {
      "cell_type": "code",
      "metadata": {
        "id": "Hv2Llrvey0IJ",
        "colab_type": "code",
        "colab": {}
      },
      "source": [
        "data['class'] = breast_cancer.target"
      ],
      "execution_count": 286,
      "outputs": []
    },
    {
      "cell_type": "code",
      "metadata": {
        "id": "AdmKBekGy9Wh",
        "colab_type": "code",
        "colab": {
          "base_uri": "https://localhost:8080/",
          "height": 0
        },
        "outputId": "b3237041-4a29-4456-e0dc-55320d1ece57"
      },
      "source": [
        "data.head()"
      ],
      "execution_count": 287,
      "outputs": [
        {
          "output_type": "execute_result",
          "data": {
            "text/html": [
              "<div>\n",
              "<style scoped>\n",
              "    .dataframe tbody tr th:only-of-type {\n",
              "        vertical-align: middle;\n",
              "    }\n",
              "\n",
              "    .dataframe tbody tr th {\n",
              "        vertical-align: top;\n",
              "    }\n",
              "\n",
              "    .dataframe thead th {\n",
              "        text-align: right;\n",
              "    }\n",
              "</style>\n",
              "<table border=\"1\" class=\"dataframe\">\n",
              "  <thead>\n",
              "    <tr style=\"text-align: right;\">\n",
              "      <th></th>\n",
              "      <th>mean radius</th>\n",
              "      <th>mean texture</th>\n",
              "      <th>mean perimeter</th>\n",
              "      <th>mean area</th>\n",
              "      <th>mean smoothness</th>\n",
              "      <th>mean compactness</th>\n",
              "      <th>mean concavity</th>\n",
              "      <th>mean concave points</th>\n",
              "      <th>mean symmetry</th>\n",
              "      <th>mean fractal dimension</th>\n",
              "      <th>radius error</th>\n",
              "      <th>texture error</th>\n",
              "      <th>perimeter error</th>\n",
              "      <th>area error</th>\n",
              "      <th>smoothness error</th>\n",
              "      <th>compactness error</th>\n",
              "      <th>concavity error</th>\n",
              "      <th>concave points error</th>\n",
              "      <th>symmetry error</th>\n",
              "      <th>fractal dimension error</th>\n",
              "      <th>worst radius</th>\n",
              "      <th>worst texture</th>\n",
              "      <th>worst perimeter</th>\n",
              "      <th>worst area</th>\n",
              "      <th>worst smoothness</th>\n",
              "      <th>worst compactness</th>\n",
              "      <th>worst concavity</th>\n",
              "      <th>worst concave points</th>\n",
              "      <th>worst symmetry</th>\n",
              "      <th>worst fractal dimension</th>\n",
              "      <th>class</th>\n",
              "    </tr>\n",
              "  </thead>\n",
              "  <tbody>\n",
              "    <tr>\n",
              "      <th>0</th>\n",
              "      <td>17.99</td>\n",
              "      <td>10.38</td>\n",
              "      <td>122.80</td>\n",
              "      <td>1001.0</td>\n",
              "      <td>0.11840</td>\n",
              "      <td>0.27760</td>\n",
              "      <td>0.3001</td>\n",
              "      <td>0.14710</td>\n",
              "      <td>0.2419</td>\n",
              "      <td>0.07871</td>\n",
              "      <td>1.0950</td>\n",
              "      <td>0.9053</td>\n",
              "      <td>8.589</td>\n",
              "      <td>153.40</td>\n",
              "      <td>0.006399</td>\n",
              "      <td>0.04904</td>\n",
              "      <td>0.05373</td>\n",
              "      <td>0.01587</td>\n",
              "      <td>0.03003</td>\n",
              "      <td>0.006193</td>\n",
              "      <td>25.38</td>\n",
              "      <td>17.33</td>\n",
              "      <td>184.60</td>\n",
              "      <td>2019.0</td>\n",
              "      <td>0.1622</td>\n",
              "      <td>0.6656</td>\n",
              "      <td>0.7119</td>\n",
              "      <td>0.2654</td>\n",
              "      <td>0.4601</td>\n",
              "      <td>0.11890</td>\n",
              "      <td>0</td>\n",
              "    </tr>\n",
              "    <tr>\n",
              "      <th>1</th>\n",
              "      <td>20.57</td>\n",
              "      <td>17.77</td>\n",
              "      <td>132.90</td>\n",
              "      <td>1326.0</td>\n",
              "      <td>0.08474</td>\n",
              "      <td>0.07864</td>\n",
              "      <td>0.0869</td>\n",
              "      <td>0.07017</td>\n",
              "      <td>0.1812</td>\n",
              "      <td>0.05667</td>\n",
              "      <td>0.5435</td>\n",
              "      <td>0.7339</td>\n",
              "      <td>3.398</td>\n",
              "      <td>74.08</td>\n",
              "      <td>0.005225</td>\n",
              "      <td>0.01308</td>\n",
              "      <td>0.01860</td>\n",
              "      <td>0.01340</td>\n",
              "      <td>0.01389</td>\n",
              "      <td>0.003532</td>\n",
              "      <td>24.99</td>\n",
              "      <td>23.41</td>\n",
              "      <td>158.80</td>\n",
              "      <td>1956.0</td>\n",
              "      <td>0.1238</td>\n",
              "      <td>0.1866</td>\n",
              "      <td>0.2416</td>\n",
              "      <td>0.1860</td>\n",
              "      <td>0.2750</td>\n",
              "      <td>0.08902</td>\n",
              "      <td>0</td>\n",
              "    </tr>\n",
              "    <tr>\n",
              "      <th>2</th>\n",
              "      <td>19.69</td>\n",
              "      <td>21.25</td>\n",
              "      <td>130.00</td>\n",
              "      <td>1203.0</td>\n",
              "      <td>0.10960</td>\n",
              "      <td>0.15990</td>\n",
              "      <td>0.1974</td>\n",
              "      <td>0.12790</td>\n",
              "      <td>0.2069</td>\n",
              "      <td>0.05999</td>\n",
              "      <td>0.7456</td>\n",
              "      <td>0.7869</td>\n",
              "      <td>4.585</td>\n",
              "      <td>94.03</td>\n",
              "      <td>0.006150</td>\n",
              "      <td>0.04006</td>\n",
              "      <td>0.03832</td>\n",
              "      <td>0.02058</td>\n",
              "      <td>0.02250</td>\n",
              "      <td>0.004571</td>\n",
              "      <td>23.57</td>\n",
              "      <td>25.53</td>\n",
              "      <td>152.50</td>\n",
              "      <td>1709.0</td>\n",
              "      <td>0.1444</td>\n",
              "      <td>0.4245</td>\n",
              "      <td>0.4504</td>\n",
              "      <td>0.2430</td>\n",
              "      <td>0.3613</td>\n",
              "      <td>0.08758</td>\n",
              "      <td>0</td>\n",
              "    </tr>\n",
              "    <tr>\n",
              "      <th>3</th>\n",
              "      <td>11.42</td>\n",
              "      <td>20.38</td>\n",
              "      <td>77.58</td>\n",
              "      <td>386.1</td>\n",
              "      <td>0.14250</td>\n",
              "      <td>0.28390</td>\n",
              "      <td>0.2414</td>\n",
              "      <td>0.10520</td>\n",
              "      <td>0.2597</td>\n",
              "      <td>0.09744</td>\n",
              "      <td>0.4956</td>\n",
              "      <td>1.1560</td>\n",
              "      <td>3.445</td>\n",
              "      <td>27.23</td>\n",
              "      <td>0.009110</td>\n",
              "      <td>0.07458</td>\n",
              "      <td>0.05661</td>\n",
              "      <td>0.01867</td>\n",
              "      <td>0.05963</td>\n",
              "      <td>0.009208</td>\n",
              "      <td>14.91</td>\n",
              "      <td>26.50</td>\n",
              "      <td>98.87</td>\n",
              "      <td>567.7</td>\n",
              "      <td>0.2098</td>\n",
              "      <td>0.8663</td>\n",
              "      <td>0.6869</td>\n",
              "      <td>0.2575</td>\n",
              "      <td>0.6638</td>\n",
              "      <td>0.17300</td>\n",
              "      <td>0</td>\n",
              "    </tr>\n",
              "    <tr>\n",
              "      <th>4</th>\n",
              "      <td>20.29</td>\n",
              "      <td>14.34</td>\n",
              "      <td>135.10</td>\n",
              "      <td>1297.0</td>\n",
              "      <td>0.10030</td>\n",
              "      <td>0.13280</td>\n",
              "      <td>0.1980</td>\n",
              "      <td>0.10430</td>\n",
              "      <td>0.1809</td>\n",
              "      <td>0.05883</td>\n",
              "      <td>0.7572</td>\n",
              "      <td>0.7813</td>\n",
              "      <td>5.438</td>\n",
              "      <td>94.44</td>\n",
              "      <td>0.011490</td>\n",
              "      <td>0.02461</td>\n",
              "      <td>0.05688</td>\n",
              "      <td>0.01885</td>\n",
              "      <td>0.01756</td>\n",
              "      <td>0.005115</td>\n",
              "      <td>22.54</td>\n",
              "      <td>16.67</td>\n",
              "      <td>152.20</td>\n",
              "      <td>1575.0</td>\n",
              "      <td>0.1374</td>\n",
              "      <td>0.2050</td>\n",
              "      <td>0.4000</td>\n",
              "      <td>0.1625</td>\n",
              "      <td>0.2364</td>\n",
              "      <td>0.07678</td>\n",
              "      <td>0</td>\n",
              "    </tr>\n",
              "  </tbody>\n",
              "</table>\n",
              "</div>"
            ],
            "text/plain": [
              "   mean radius  mean texture  ...  worst fractal dimension  class\n",
              "0        17.99         10.38  ...                  0.11890      0\n",
              "1        20.57         17.77  ...                  0.08902      0\n",
              "2        19.69         21.25  ...                  0.08758      0\n",
              "3        11.42         20.38  ...                  0.17300      0\n",
              "4        20.29         14.34  ...                  0.07678      0\n",
              "\n",
              "[5 rows x 31 columns]"
            ]
          },
          "metadata": {
            "tags": []
          },
          "execution_count": 287
        }
      ]
    },
    {
      "cell_type": "code",
      "metadata": {
        "id": "lLA3f1Bhy_yy",
        "colab_type": "code",
        "colab": {
          "base_uri": "https://localhost:8080/",
          "height": 0
        },
        "outputId": "66025ac4-55e1-4723-a83d-3b19200ca669"
      },
      "source": [
        "type(data)"
      ],
      "execution_count": 288,
      "outputs": [
        {
          "output_type": "execute_result",
          "data": {
            "text/plain": [
              "pandas.core.frame.DataFrame"
            ]
          },
          "metadata": {
            "tags": []
          },
          "execution_count": 288
        }
      ]
    },
    {
      "cell_type": "code",
      "metadata": {
        "id": "faxrsbALzJkJ",
        "colab_type": "code",
        "colab": {
          "base_uri": "https://localhost:8080/",
          "height": 0
        },
        "outputId": "ac427aaa-f5f4-45e8-edf1-34ca79367267"
      },
      "source": [
        "data.describe()"
      ],
      "execution_count": 289,
      "outputs": [
        {
          "output_type": "execute_result",
          "data": {
            "text/html": [
              "<div>\n",
              "<style scoped>\n",
              "    .dataframe tbody tr th:only-of-type {\n",
              "        vertical-align: middle;\n",
              "    }\n",
              "\n",
              "    .dataframe tbody tr th {\n",
              "        vertical-align: top;\n",
              "    }\n",
              "\n",
              "    .dataframe thead th {\n",
              "        text-align: right;\n",
              "    }\n",
              "</style>\n",
              "<table border=\"1\" class=\"dataframe\">\n",
              "  <thead>\n",
              "    <tr style=\"text-align: right;\">\n",
              "      <th></th>\n",
              "      <th>mean radius</th>\n",
              "      <th>mean texture</th>\n",
              "      <th>mean perimeter</th>\n",
              "      <th>mean area</th>\n",
              "      <th>mean smoothness</th>\n",
              "      <th>mean compactness</th>\n",
              "      <th>mean concavity</th>\n",
              "      <th>mean concave points</th>\n",
              "      <th>mean symmetry</th>\n",
              "      <th>mean fractal dimension</th>\n",
              "      <th>radius error</th>\n",
              "      <th>texture error</th>\n",
              "      <th>perimeter error</th>\n",
              "      <th>area error</th>\n",
              "      <th>smoothness error</th>\n",
              "      <th>compactness error</th>\n",
              "      <th>concavity error</th>\n",
              "      <th>concave points error</th>\n",
              "      <th>symmetry error</th>\n",
              "      <th>fractal dimension error</th>\n",
              "      <th>worst radius</th>\n",
              "      <th>worst texture</th>\n",
              "      <th>worst perimeter</th>\n",
              "      <th>worst area</th>\n",
              "      <th>worst smoothness</th>\n",
              "      <th>worst compactness</th>\n",
              "      <th>worst concavity</th>\n",
              "      <th>worst concave points</th>\n",
              "      <th>worst symmetry</th>\n",
              "      <th>worst fractal dimension</th>\n",
              "      <th>class</th>\n",
              "    </tr>\n",
              "  </thead>\n",
              "  <tbody>\n",
              "    <tr>\n",
              "      <th>count</th>\n",
              "      <td>569.000000</td>\n",
              "      <td>569.000000</td>\n",
              "      <td>569.000000</td>\n",
              "      <td>569.000000</td>\n",
              "      <td>569.000000</td>\n",
              "      <td>569.000000</td>\n",
              "      <td>569.000000</td>\n",
              "      <td>569.000000</td>\n",
              "      <td>569.000000</td>\n",
              "      <td>569.000000</td>\n",
              "      <td>569.000000</td>\n",
              "      <td>569.000000</td>\n",
              "      <td>569.000000</td>\n",
              "      <td>569.000000</td>\n",
              "      <td>569.000000</td>\n",
              "      <td>569.000000</td>\n",
              "      <td>569.000000</td>\n",
              "      <td>569.000000</td>\n",
              "      <td>569.000000</td>\n",
              "      <td>569.000000</td>\n",
              "      <td>569.000000</td>\n",
              "      <td>569.000000</td>\n",
              "      <td>569.000000</td>\n",
              "      <td>569.000000</td>\n",
              "      <td>569.000000</td>\n",
              "      <td>569.000000</td>\n",
              "      <td>569.000000</td>\n",
              "      <td>569.000000</td>\n",
              "      <td>569.000000</td>\n",
              "      <td>569.000000</td>\n",
              "      <td>569.000000</td>\n",
              "    </tr>\n",
              "    <tr>\n",
              "      <th>mean</th>\n",
              "      <td>14.127292</td>\n",
              "      <td>19.289649</td>\n",
              "      <td>91.969033</td>\n",
              "      <td>654.889104</td>\n",
              "      <td>0.096360</td>\n",
              "      <td>0.104341</td>\n",
              "      <td>0.088799</td>\n",
              "      <td>0.048919</td>\n",
              "      <td>0.181162</td>\n",
              "      <td>0.062798</td>\n",
              "      <td>0.405172</td>\n",
              "      <td>1.216853</td>\n",
              "      <td>2.866059</td>\n",
              "      <td>40.337079</td>\n",
              "      <td>0.007041</td>\n",
              "      <td>0.025478</td>\n",
              "      <td>0.031894</td>\n",
              "      <td>0.011796</td>\n",
              "      <td>0.020542</td>\n",
              "      <td>0.003795</td>\n",
              "      <td>16.269190</td>\n",
              "      <td>25.677223</td>\n",
              "      <td>107.261213</td>\n",
              "      <td>880.583128</td>\n",
              "      <td>0.132369</td>\n",
              "      <td>0.254265</td>\n",
              "      <td>0.272188</td>\n",
              "      <td>0.114606</td>\n",
              "      <td>0.290076</td>\n",
              "      <td>0.083946</td>\n",
              "      <td>0.627417</td>\n",
              "    </tr>\n",
              "    <tr>\n",
              "      <th>std</th>\n",
              "      <td>3.524049</td>\n",
              "      <td>4.301036</td>\n",
              "      <td>24.298981</td>\n",
              "      <td>351.914129</td>\n",
              "      <td>0.014064</td>\n",
              "      <td>0.052813</td>\n",
              "      <td>0.079720</td>\n",
              "      <td>0.038803</td>\n",
              "      <td>0.027414</td>\n",
              "      <td>0.007060</td>\n",
              "      <td>0.277313</td>\n",
              "      <td>0.551648</td>\n",
              "      <td>2.021855</td>\n",
              "      <td>45.491006</td>\n",
              "      <td>0.003003</td>\n",
              "      <td>0.017908</td>\n",
              "      <td>0.030186</td>\n",
              "      <td>0.006170</td>\n",
              "      <td>0.008266</td>\n",
              "      <td>0.002646</td>\n",
              "      <td>4.833242</td>\n",
              "      <td>6.146258</td>\n",
              "      <td>33.602542</td>\n",
              "      <td>569.356993</td>\n",
              "      <td>0.022832</td>\n",
              "      <td>0.157336</td>\n",
              "      <td>0.208624</td>\n",
              "      <td>0.065732</td>\n",
              "      <td>0.061867</td>\n",
              "      <td>0.018061</td>\n",
              "      <td>0.483918</td>\n",
              "    </tr>\n",
              "    <tr>\n",
              "      <th>min</th>\n",
              "      <td>6.981000</td>\n",
              "      <td>9.710000</td>\n",
              "      <td>43.790000</td>\n",
              "      <td>143.500000</td>\n",
              "      <td>0.052630</td>\n",
              "      <td>0.019380</td>\n",
              "      <td>0.000000</td>\n",
              "      <td>0.000000</td>\n",
              "      <td>0.106000</td>\n",
              "      <td>0.049960</td>\n",
              "      <td>0.111500</td>\n",
              "      <td>0.360200</td>\n",
              "      <td>0.757000</td>\n",
              "      <td>6.802000</td>\n",
              "      <td>0.001713</td>\n",
              "      <td>0.002252</td>\n",
              "      <td>0.000000</td>\n",
              "      <td>0.000000</td>\n",
              "      <td>0.007882</td>\n",
              "      <td>0.000895</td>\n",
              "      <td>7.930000</td>\n",
              "      <td>12.020000</td>\n",
              "      <td>50.410000</td>\n",
              "      <td>185.200000</td>\n",
              "      <td>0.071170</td>\n",
              "      <td>0.027290</td>\n",
              "      <td>0.000000</td>\n",
              "      <td>0.000000</td>\n",
              "      <td>0.156500</td>\n",
              "      <td>0.055040</td>\n",
              "      <td>0.000000</td>\n",
              "    </tr>\n",
              "    <tr>\n",
              "      <th>25%</th>\n",
              "      <td>11.700000</td>\n",
              "      <td>16.170000</td>\n",
              "      <td>75.170000</td>\n",
              "      <td>420.300000</td>\n",
              "      <td>0.086370</td>\n",
              "      <td>0.064920</td>\n",
              "      <td>0.029560</td>\n",
              "      <td>0.020310</td>\n",
              "      <td>0.161900</td>\n",
              "      <td>0.057700</td>\n",
              "      <td>0.232400</td>\n",
              "      <td>0.833900</td>\n",
              "      <td>1.606000</td>\n",
              "      <td>17.850000</td>\n",
              "      <td>0.005169</td>\n",
              "      <td>0.013080</td>\n",
              "      <td>0.015090</td>\n",
              "      <td>0.007638</td>\n",
              "      <td>0.015160</td>\n",
              "      <td>0.002248</td>\n",
              "      <td>13.010000</td>\n",
              "      <td>21.080000</td>\n",
              "      <td>84.110000</td>\n",
              "      <td>515.300000</td>\n",
              "      <td>0.116600</td>\n",
              "      <td>0.147200</td>\n",
              "      <td>0.114500</td>\n",
              "      <td>0.064930</td>\n",
              "      <td>0.250400</td>\n",
              "      <td>0.071460</td>\n",
              "      <td>0.000000</td>\n",
              "    </tr>\n",
              "    <tr>\n",
              "      <th>50%</th>\n",
              "      <td>13.370000</td>\n",
              "      <td>18.840000</td>\n",
              "      <td>86.240000</td>\n",
              "      <td>551.100000</td>\n",
              "      <td>0.095870</td>\n",
              "      <td>0.092630</td>\n",
              "      <td>0.061540</td>\n",
              "      <td>0.033500</td>\n",
              "      <td>0.179200</td>\n",
              "      <td>0.061540</td>\n",
              "      <td>0.324200</td>\n",
              "      <td>1.108000</td>\n",
              "      <td>2.287000</td>\n",
              "      <td>24.530000</td>\n",
              "      <td>0.006380</td>\n",
              "      <td>0.020450</td>\n",
              "      <td>0.025890</td>\n",
              "      <td>0.010930</td>\n",
              "      <td>0.018730</td>\n",
              "      <td>0.003187</td>\n",
              "      <td>14.970000</td>\n",
              "      <td>25.410000</td>\n",
              "      <td>97.660000</td>\n",
              "      <td>686.500000</td>\n",
              "      <td>0.131300</td>\n",
              "      <td>0.211900</td>\n",
              "      <td>0.226700</td>\n",
              "      <td>0.099930</td>\n",
              "      <td>0.282200</td>\n",
              "      <td>0.080040</td>\n",
              "      <td>1.000000</td>\n",
              "    </tr>\n",
              "    <tr>\n",
              "      <th>75%</th>\n",
              "      <td>15.780000</td>\n",
              "      <td>21.800000</td>\n",
              "      <td>104.100000</td>\n",
              "      <td>782.700000</td>\n",
              "      <td>0.105300</td>\n",
              "      <td>0.130400</td>\n",
              "      <td>0.130700</td>\n",
              "      <td>0.074000</td>\n",
              "      <td>0.195700</td>\n",
              "      <td>0.066120</td>\n",
              "      <td>0.478900</td>\n",
              "      <td>1.474000</td>\n",
              "      <td>3.357000</td>\n",
              "      <td>45.190000</td>\n",
              "      <td>0.008146</td>\n",
              "      <td>0.032450</td>\n",
              "      <td>0.042050</td>\n",
              "      <td>0.014710</td>\n",
              "      <td>0.023480</td>\n",
              "      <td>0.004558</td>\n",
              "      <td>18.790000</td>\n",
              "      <td>29.720000</td>\n",
              "      <td>125.400000</td>\n",
              "      <td>1084.000000</td>\n",
              "      <td>0.146000</td>\n",
              "      <td>0.339100</td>\n",
              "      <td>0.382900</td>\n",
              "      <td>0.161400</td>\n",
              "      <td>0.317900</td>\n",
              "      <td>0.092080</td>\n",
              "      <td>1.000000</td>\n",
              "    </tr>\n",
              "    <tr>\n",
              "      <th>max</th>\n",
              "      <td>28.110000</td>\n",
              "      <td>39.280000</td>\n",
              "      <td>188.500000</td>\n",
              "      <td>2501.000000</td>\n",
              "      <td>0.163400</td>\n",
              "      <td>0.345400</td>\n",
              "      <td>0.426800</td>\n",
              "      <td>0.201200</td>\n",
              "      <td>0.304000</td>\n",
              "      <td>0.097440</td>\n",
              "      <td>2.873000</td>\n",
              "      <td>4.885000</td>\n",
              "      <td>21.980000</td>\n",
              "      <td>542.200000</td>\n",
              "      <td>0.031130</td>\n",
              "      <td>0.135400</td>\n",
              "      <td>0.396000</td>\n",
              "      <td>0.052790</td>\n",
              "      <td>0.078950</td>\n",
              "      <td>0.029840</td>\n",
              "      <td>36.040000</td>\n",
              "      <td>49.540000</td>\n",
              "      <td>251.200000</td>\n",
              "      <td>4254.000000</td>\n",
              "      <td>0.222600</td>\n",
              "      <td>1.058000</td>\n",
              "      <td>1.252000</td>\n",
              "      <td>0.291000</td>\n",
              "      <td>0.663800</td>\n",
              "      <td>0.207500</td>\n",
              "      <td>1.000000</td>\n",
              "    </tr>\n",
              "  </tbody>\n",
              "</table>\n",
              "</div>"
            ],
            "text/plain": [
              "       mean radius  mean texture  ...  worst fractal dimension       class\n",
              "count   569.000000    569.000000  ...               569.000000  569.000000\n",
              "mean     14.127292     19.289649  ...                 0.083946    0.627417\n",
              "std       3.524049      4.301036  ...                 0.018061    0.483918\n",
              "min       6.981000      9.710000  ...                 0.055040    0.000000\n",
              "25%      11.700000     16.170000  ...                 0.071460    0.000000\n",
              "50%      13.370000     18.840000  ...                 0.080040    1.000000\n",
              "75%      15.780000     21.800000  ...                 0.092080    1.000000\n",
              "max      28.110000     39.280000  ...                 0.207500    1.000000\n",
              "\n",
              "[8 rows x 31 columns]"
            ]
          },
          "metadata": {
            "tags": []
          },
          "execution_count": 289
        }
      ]
    },
    {
      "cell_type": "code",
      "metadata": {
        "id": "YrL4Gw7FzUtw",
        "colab_type": "code",
        "colab": {
          "base_uri": "https://localhost:8080/",
          "height": 0
        },
        "outputId": "a67f4629-9d3a-48fd-c4d4-1c721f4a7764"
      },
      "source": [
        "print(data['class'].value_counts())"
      ],
      "execution_count": 290,
      "outputs": [
        {
          "output_type": "stream",
          "text": [
            "1    357\n",
            "0    212\n",
            "Name: class, dtype: int64\n"
          ],
          "name": "stdout"
        }
      ]
    },
    {
      "cell_type": "code",
      "metadata": {
        "id": "bzzvSmp8zeUY",
        "colab_type": "code",
        "colab": {
          "base_uri": "https://localhost:8080/",
          "height": 0
        },
        "outputId": "9c115539-0c0f-4f25-fc74-d68c4f040859"
      },
      "source": [
        "print(breast_cancer.target_names)  "
      ],
      "execution_count": 291,
      "outputs": [
        {
          "output_type": "stream",
          "text": [
            "['malignant' 'benign']\n"
          ],
          "name": "stdout"
        }
      ]
    },
    {
      "cell_type": "code",
      "metadata": {
        "id": "UOuSovfaz3iZ",
        "colab_type": "code",
        "colab": {
          "base_uri": "https://localhost:8080/",
          "height": 0
        },
        "outputId": "57a857cd-3149-4213-ef1f-f6432fc6c55f"
      },
      "source": [
        "data.groupby('class').mean()"
      ],
      "execution_count": 292,
      "outputs": [
        {
          "output_type": "execute_result",
          "data": {
            "text/html": [
              "<div>\n",
              "<style scoped>\n",
              "    .dataframe tbody tr th:only-of-type {\n",
              "        vertical-align: middle;\n",
              "    }\n",
              "\n",
              "    .dataframe tbody tr th {\n",
              "        vertical-align: top;\n",
              "    }\n",
              "\n",
              "    .dataframe thead th {\n",
              "        text-align: right;\n",
              "    }\n",
              "</style>\n",
              "<table border=\"1\" class=\"dataframe\">\n",
              "  <thead>\n",
              "    <tr style=\"text-align: right;\">\n",
              "      <th></th>\n",
              "      <th>mean radius</th>\n",
              "      <th>mean texture</th>\n",
              "      <th>mean perimeter</th>\n",
              "      <th>mean area</th>\n",
              "      <th>mean smoothness</th>\n",
              "      <th>mean compactness</th>\n",
              "      <th>mean concavity</th>\n",
              "      <th>mean concave points</th>\n",
              "      <th>mean symmetry</th>\n",
              "      <th>mean fractal dimension</th>\n",
              "      <th>radius error</th>\n",
              "      <th>texture error</th>\n",
              "      <th>perimeter error</th>\n",
              "      <th>area error</th>\n",
              "      <th>smoothness error</th>\n",
              "      <th>compactness error</th>\n",
              "      <th>concavity error</th>\n",
              "      <th>concave points error</th>\n",
              "      <th>symmetry error</th>\n",
              "      <th>fractal dimension error</th>\n",
              "      <th>worst radius</th>\n",
              "      <th>worst texture</th>\n",
              "      <th>worst perimeter</th>\n",
              "      <th>worst area</th>\n",
              "      <th>worst smoothness</th>\n",
              "      <th>worst compactness</th>\n",
              "      <th>worst concavity</th>\n",
              "      <th>worst concave points</th>\n",
              "      <th>worst symmetry</th>\n",
              "      <th>worst fractal dimension</th>\n",
              "    </tr>\n",
              "    <tr>\n",
              "      <th>class</th>\n",
              "      <th></th>\n",
              "      <th></th>\n",
              "      <th></th>\n",
              "      <th></th>\n",
              "      <th></th>\n",
              "      <th></th>\n",
              "      <th></th>\n",
              "      <th></th>\n",
              "      <th></th>\n",
              "      <th></th>\n",
              "      <th></th>\n",
              "      <th></th>\n",
              "      <th></th>\n",
              "      <th></th>\n",
              "      <th></th>\n",
              "      <th></th>\n",
              "      <th></th>\n",
              "      <th></th>\n",
              "      <th></th>\n",
              "      <th></th>\n",
              "      <th></th>\n",
              "      <th></th>\n",
              "      <th></th>\n",
              "      <th></th>\n",
              "      <th></th>\n",
              "      <th></th>\n",
              "      <th></th>\n",
              "      <th></th>\n",
              "      <th></th>\n",
              "      <th></th>\n",
              "    </tr>\n",
              "  </thead>\n",
              "  <tbody>\n",
              "    <tr>\n",
              "      <th>0</th>\n",
              "      <td>17.462830</td>\n",
              "      <td>21.604906</td>\n",
              "      <td>115.365377</td>\n",
              "      <td>978.376415</td>\n",
              "      <td>0.102898</td>\n",
              "      <td>0.145188</td>\n",
              "      <td>0.160775</td>\n",
              "      <td>0.087990</td>\n",
              "      <td>0.192909</td>\n",
              "      <td>0.062680</td>\n",
              "      <td>0.609083</td>\n",
              "      <td>1.210915</td>\n",
              "      <td>4.323929</td>\n",
              "      <td>72.672406</td>\n",
              "      <td>0.006780</td>\n",
              "      <td>0.032281</td>\n",
              "      <td>0.041824</td>\n",
              "      <td>0.015060</td>\n",
              "      <td>0.020472</td>\n",
              "      <td>0.004062</td>\n",
              "      <td>21.134811</td>\n",
              "      <td>29.318208</td>\n",
              "      <td>141.370330</td>\n",
              "      <td>1422.286321</td>\n",
              "      <td>0.144845</td>\n",
              "      <td>0.374824</td>\n",
              "      <td>0.450606</td>\n",
              "      <td>0.182237</td>\n",
              "      <td>0.323468</td>\n",
              "      <td>0.091530</td>\n",
              "    </tr>\n",
              "    <tr>\n",
              "      <th>1</th>\n",
              "      <td>12.146524</td>\n",
              "      <td>17.914762</td>\n",
              "      <td>78.075406</td>\n",
              "      <td>462.790196</td>\n",
              "      <td>0.092478</td>\n",
              "      <td>0.080085</td>\n",
              "      <td>0.046058</td>\n",
              "      <td>0.025717</td>\n",
              "      <td>0.174186</td>\n",
              "      <td>0.062867</td>\n",
              "      <td>0.284082</td>\n",
              "      <td>1.220380</td>\n",
              "      <td>2.000321</td>\n",
              "      <td>21.135148</td>\n",
              "      <td>0.007196</td>\n",
              "      <td>0.021438</td>\n",
              "      <td>0.025997</td>\n",
              "      <td>0.009858</td>\n",
              "      <td>0.020584</td>\n",
              "      <td>0.003636</td>\n",
              "      <td>13.379801</td>\n",
              "      <td>23.515070</td>\n",
              "      <td>87.005938</td>\n",
              "      <td>558.899440</td>\n",
              "      <td>0.124959</td>\n",
              "      <td>0.182673</td>\n",
              "      <td>0.166238</td>\n",
              "      <td>0.074444</td>\n",
              "      <td>0.270246</td>\n",
              "      <td>0.079442</td>\n",
              "    </tr>\n",
              "  </tbody>\n",
              "</table>\n",
              "</div>"
            ],
            "text/plain": [
              "       mean radius  mean texture  ...  worst symmetry  worst fractal dimension\n",
              "class                             ...                                         \n",
              "0        17.462830     21.604906  ...        0.323468                 0.091530\n",
              "1        12.146524     17.914762  ...        0.270246                 0.079442\n",
              "\n",
              "[2 rows x 30 columns]"
            ]
          },
          "metadata": {
            "tags": []
          },
          "execution_count": 292
        }
      ]
    },
    {
      "cell_type": "code",
      "metadata": {
        "id": "deoIN11d0EyN",
        "colab_type": "code",
        "colab": {}
      },
      "source": [
        ""
      ],
      "execution_count": 292,
      "outputs": []
    },
    {
      "cell_type": "markdown",
      "metadata": {
        "id": "NRqw2mFBZYDd",
        "colab_type": "text"
      },
      "source": [
        "#Train test split"
      ]
    },
    {
      "cell_type": "code",
      "metadata": {
        "id": "fCpVWZ79ZcO1",
        "colab_type": "code",
        "colab": {}
      },
      "source": [
        "from sklearn.model_selection import train_test_split"
      ],
      "execution_count": 293,
      "outputs": []
    },
    {
      "cell_type": "code",
      "metadata": {
        "id": "HjBbE-6EZ3o2",
        "colab_type": "code",
        "colab": {}
      },
      "source": [
        "X = data.drop('class', axis=1)\n",
        "Y = data['class']"
      ],
      "execution_count": 294,
      "outputs": []
    },
    {
      "cell_type": "code",
      "metadata": {
        "id": "XWia0bmWaHZN",
        "colab_type": "code",
        "colab": {
          "base_uri": "https://localhost:8080/",
          "height": 0
        },
        "outputId": "79535a1e-5114-432b-b585-ccdfd58b6951"
      },
      "source": [
        "type(X)"
      ],
      "execution_count": 295,
      "outputs": [
        {
          "output_type": "execute_result",
          "data": {
            "text/plain": [
              "pandas.core.frame.DataFrame"
            ]
          },
          "metadata": {
            "tags": []
          },
          "execution_count": 295
        }
      ]
    },
    {
      "cell_type": "code",
      "metadata": {
        "id": "uBfvsSPFaJld",
        "colab_type": "code",
        "colab": {
          "base_uri": "https://localhost:8080/",
          "height": 0
        },
        "outputId": "1b289015-8d04-4735-d9ec-e05c82f9df55"
      },
      "source": [
        "X.head()"
      ],
      "execution_count": 296,
      "outputs": [
        {
          "output_type": "execute_result",
          "data": {
            "text/html": [
              "<div>\n",
              "<style scoped>\n",
              "    .dataframe tbody tr th:only-of-type {\n",
              "        vertical-align: middle;\n",
              "    }\n",
              "\n",
              "    .dataframe tbody tr th {\n",
              "        vertical-align: top;\n",
              "    }\n",
              "\n",
              "    .dataframe thead th {\n",
              "        text-align: right;\n",
              "    }\n",
              "</style>\n",
              "<table border=\"1\" class=\"dataframe\">\n",
              "  <thead>\n",
              "    <tr style=\"text-align: right;\">\n",
              "      <th></th>\n",
              "      <th>mean radius</th>\n",
              "      <th>mean texture</th>\n",
              "      <th>mean perimeter</th>\n",
              "      <th>mean area</th>\n",
              "      <th>mean smoothness</th>\n",
              "      <th>mean compactness</th>\n",
              "      <th>mean concavity</th>\n",
              "      <th>mean concave points</th>\n",
              "      <th>mean symmetry</th>\n",
              "      <th>mean fractal dimension</th>\n",
              "      <th>radius error</th>\n",
              "      <th>texture error</th>\n",
              "      <th>perimeter error</th>\n",
              "      <th>area error</th>\n",
              "      <th>smoothness error</th>\n",
              "      <th>compactness error</th>\n",
              "      <th>concavity error</th>\n",
              "      <th>concave points error</th>\n",
              "      <th>symmetry error</th>\n",
              "      <th>fractal dimension error</th>\n",
              "      <th>worst radius</th>\n",
              "      <th>worst texture</th>\n",
              "      <th>worst perimeter</th>\n",
              "      <th>worst area</th>\n",
              "      <th>worst smoothness</th>\n",
              "      <th>worst compactness</th>\n",
              "      <th>worst concavity</th>\n",
              "      <th>worst concave points</th>\n",
              "      <th>worst symmetry</th>\n",
              "      <th>worst fractal dimension</th>\n",
              "    </tr>\n",
              "  </thead>\n",
              "  <tbody>\n",
              "    <tr>\n",
              "      <th>0</th>\n",
              "      <td>17.99</td>\n",
              "      <td>10.38</td>\n",
              "      <td>122.80</td>\n",
              "      <td>1001.0</td>\n",
              "      <td>0.11840</td>\n",
              "      <td>0.27760</td>\n",
              "      <td>0.3001</td>\n",
              "      <td>0.14710</td>\n",
              "      <td>0.2419</td>\n",
              "      <td>0.07871</td>\n",
              "      <td>1.0950</td>\n",
              "      <td>0.9053</td>\n",
              "      <td>8.589</td>\n",
              "      <td>153.40</td>\n",
              "      <td>0.006399</td>\n",
              "      <td>0.04904</td>\n",
              "      <td>0.05373</td>\n",
              "      <td>0.01587</td>\n",
              "      <td>0.03003</td>\n",
              "      <td>0.006193</td>\n",
              "      <td>25.38</td>\n",
              "      <td>17.33</td>\n",
              "      <td>184.60</td>\n",
              "      <td>2019.0</td>\n",
              "      <td>0.1622</td>\n",
              "      <td>0.6656</td>\n",
              "      <td>0.7119</td>\n",
              "      <td>0.2654</td>\n",
              "      <td>0.4601</td>\n",
              "      <td>0.11890</td>\n",
              "    </tr>\n",
              "    <tr>\n",
              "      <th>1</th>\n",
              "      <td>20.57</td>\n",
              "      <td>17.77</td>\n",
              "      <td>132.90</td>\n",
              "      <td>1326.0</td>\n",
              "      <td>0.08474</td>\n",
              "      <td>0.07864</td>\n",
              "      <td>0.0869</td>\n",
              "      <td>0.07017</td>\n",
              "      <td>0.1812</td>\n",
              "      <td>0.05667</td>\n",
              "      <td>0.5435</td>\n",
              "      <td>0.7339</td>\n",
              "      <td>3.398</td>\n",
              "      <td>74.08</td>\n",
              "      <td>0.005225</td>\n",
              "      <td>0.01308</td>\n",
              "      <td>0.01860</td>\n",
              "      <td>0.01340</td>\n",
              "      <td>0.01389</td>\n",
              "      <td>0.003532</td>\n",
              "      <td>24.99</td>\n",
              "      <td>23.41</td>\n",
              "      <td>158.80</td>\n",
              "      <td>1956.0</td>\n",
              "      <td>0.1238</td>\n",
              "      <td>0.1866</td>\n",
              "      <td>0.2416</td>\n",
              "      <td>0.1860</td>\n",
              "      <td>0.2750</td>\n",
              "      <td>0.08902</td>\n",
              "    </tr>\n",
              "    <tr>\n",
              "      <th>2</th>\n",
              "      <td>19.69</td>\n",
              "      <td>21.25</td>\n",
              "      <td>130.00</td>\n",
              "      <td>1203.0</td>\n",
              "      <td>0.10960</td>\n",
              "      <td>0.15990</td>\n",
              "      <td>0.1974</td>\n",
              "      <td>0.12790</td>\n",
              "      <td>0.2069</td>\n",
              "      <td>0.05999</td>\n",
              "      <td>0.7456</td>\n",
              "      <td>0.7869</td>\n",
              "      <td>4.585</td>\n",
              "      <td>94.03</td>\n",
              "      <td>0.006150</td>\n",
              "      <td>0.04006</td>\n",
              "      <td>0.03832</td>\n",
              "      <td>0.02058</td>\n",
              "      <td>0.02250</td>\n",
              "      <td>0.004571</td>\n",
              "      <td>23.57</td>\n",
              "      <td>25.53</td>\n",
              "      <td>152.50</td>\n",
              "      <td>1709.0</td>\n",
              "      <td>0.1444</td>\n",
              "      <td>0.4245</td>\n",
              "      <td>0.4504</td>\n",
              "      <td>0.2430</td>\n",
              "      <td>0.3613</td>\n",
              "      <td>0.08758</td>\n",
              "    </tr>\n",
              "    <tr>\n",
              "      <th>3</th>\n",
              "      <td>11.42</td>\n",
              "      <td>20.38</td>\n",
              "      <td>77.58</td>\n",
              "      <td>386.1</td>\n",
              "      <td>0.14250</td>\n",
              "      <td>0.28390</td>\n",
              "      <td>0.2414</td>\n",
              "      <td>0.10520</td>\n",
              "      <td>0.2597</td>\n",
              "      <td>0.09744</td>\n",
              "      <td>0.4956</td>\n",
              "      <td>1.1560</td>\n",
              "      <td>3.445</td>\n",
              "      <td>27.23</td>\n",
              "      <td>0.009110</td>\n",
              "      <td>0.07458</td>\n",
              "      <td>0.05661</td>\n",
              "      <td>0.01867</td>\n",
              "      <td>0.05963</td>\n",
              "      <td>0.009208</td>\n",
              "      <td>14.91</td>\n",
              "      <td>26.50</td>\n",
              "      <td>98.87</td>\n",
              "      <td>567.7</td>\n",
              "      <td>0.2098</td>\n",
              "      <td>0.8663</td>\n",
              "      <td>0.6869</td>\n",
              "      <td>0.2575</td>\n",
              "      <td>0.6638</td>\n",
              "      <td>0.17300</td>\n",
              "    </tr>\n",
              "    <tr>\n",
              "      <th>4</th>\n",
              "      <td>20.29</td>\n",
              "      <td>14.34</td>\n",
              "      <td>135.10</td>\n",
              "      <td>1297.0</td>\n",
              "      <td>0.10030</td>\n",
              "      <td>0.13280</td>\n",
              "      <td>0.1980</td>\n",
              "      <td>0.10430</td>\n",
              "      <td>0.1809</td>\n",
              "      <td>0.05883</td>\n",
              "      <td>0.7572</td>\n",
              "      <td>0.7813</td>\n",
              "      <td>5.438</td>\n",
              "      <td>94.44</td>\n",
              "      <td>0.011490</td>\n",
              "      <td>0.02461</td>\n",
              "      <td>0.05688</td>\n",
              "      <td>0.01885</td>\n",
              "      <td>0.01756</td>\n",
              "      <td>0.005115</td>\n",
              "      <td>22.54</td>\n",
              "      <td>16.67</td>\n",
              "      <td>152.20</td>\n",
              "      <td>1575.0</td>\n",
              "      <td>0.1374</td>\n",
              "      <td>0.2050</td>\n",
              "      <td>0.4000</td>\n",
              "      <td>0.1625</td>\n",
              "      <td>0.2364</td>\n",
              "      <td>0.07678</td>\n",
              "    </tr>\n",
              "  </tbody>\n",
              "</table>\n",
              "</div>"
            ],
            "text/plain": [
              "   mean radius  mean texture  ...  worst symmetry  worst fractal dimension\n",
              "0        17.99         10.38  ...          0.4601                  0.11890\n",
              "1        20.57         17.77  ...          0.2750                  0.08902\n",
              "2        19.69         21.25  ...          0.3613                  0.08758\n",
              "3        11.42         20.38  ...          0.6638                  0.17300\n",
              "4        20.29         14.34  ...          0.2364                  0.07678\n",
              "\n",
              "[5 rows x 30 columns]"
            ]
          },
          "metadata": {
            "tags": []
          },
          "execution_count": 296
        }
      ]
    },
    {
      "cell_type": "code",
      "metadata": {
        "id": "5805Eu-yaNnM",
        "colab_type": "code",
        "colab": {}
      },
      "source": [
        "X_train, X_test, Y_train, Y_test = train_test_split(X,Y)"
      ],
      "execution_count": 297,
      "outputs": []
    },
    {
      "cell_type": "code",
      "metadata": {
        "id": "m6_3eJnU7GDM",
        "colab_type": "code",
        "colab": {
          "base_uri": "https://localhost:8080/",
          "height": 0
        },
        "outputId": "7eefd06e-8ae4-4926-ac77-7bce9c3d3285"
      },
      "source": [
        "print(X.shape, X_train.shape, X_test.shape)"
      ],
      "execution_count": 298,
      "outputs": [
        {
          "output_type": "stream",
          "text": [
            "(569, 30) (426, 30) (143, 30)\n"
          ],
          "name": "stdout"
        }
      ]
    },
    {
      "cell_type": "code",
      "metadata": {
        "id": "a3Pmsnco7Rpb",
        "colab_type": "code",
        "colab": {}
      },
      "source": [
        "X_train, X_test, Y_train, Y_test = train_test_split(X,Y, test_size = 0.1)"
      ],
      "execution_count": 299,
      "outputs": []
    },
    {
      "cell_type": "code",
      "metadata": {
        "id": "nZpF6WY-7n5q",
        "colab_type": "code",
        "colab": {
          "base_uri": "https://localhost:8080/",
          "height": 0
        },
        "outputId": "a302988c-7d86-4051-d8d5-8f455f8e9726"
      },
      "source": [
        "print(X.shape, X_train.shape, X_test.shape)"
      ],
      "execution_count": 300,
      "outputs": [
        {
          "output_type": "stream",
          "text": [
            "(569, 30) (512, 30) (57, 30)\n"
          ],
          "name": "stdout"
        }
      ]
    },
    {
      "cell_type": "code",
      "metadata": {
        "id": "r0ZJolQD7puh",
        "colab_type": "code",
        "colab": {
          "base_uri": "https://localhost:8080/",
          "height": 0
        },
        "outputId": "0dbabdc4-776f-45f1-fd8f-c10719348d49"
      },
      "source": [
        "print(Y.shape, Y_train.shape, Y_test.shape)"
      ],
      "execution_count": 301,
      "outputs": [
        {
          "output_type": "stream",
          "text": [
            "(569,) (512,) (57,)\n"
          ],
          "name": "stdout"
        }
      ]
    },
    {
      "cell_type": "code",
      "metadata": {
        "id": "e7KU-jcj789p",
        "colab_type": "code",
        "colab": {
          "base_uri": "https://localhost:8080/",
          "height": 0
        },
        "outputId": "76a32748-273a-41af-82db-ac7e998eaad3"
      },
      "source": [
        "print(Y.mean(), Y_train.mean(), Y_test.mean())"
      ],
      "execution_count": 302,
      "outputs": [
        {
          "output_type": "stream",
          "text": [
            "0.6274165202108963 0.64453125 0.47368421052631576\n"
          ],
          "name": "stdout"
        }
      ]
    },
    {
      "cell_type": "code",
      "metadata": {
        "id": "MAafny4H8G8p",
        "colab_type": "code",
        "colab": {}
      },
      "source": [
        "X_train, X_test, Y_train, Y_test = train_test_split(X,Y, test_size = 0.1, stratify = Y)"
      ],
      "execution_count": 303,
      "outputs": []
    },
    {
      "cell_type": "code",
      "metadata": {
        "id": "ryXfKLET8TNx",
        "colab_type": "code",
        "colab": {
          "base_uri": "https://localhost:8080/",
          "height": 0
        },
        "outputId": "61b9a35c-fda5-43b8-ed45-3533f1136376"
      },
      "source": [
        "print(Y.mean(), Y_train.mean(), Y_test.mean())"
      ],
      "execution_count": 304,
      "outputs": [
        {
          "output_type": "stream",
          "text": [
            "0.6274165202108963 0.626953125 0.631578947368421\n"
          ],
          "name": "stdout"
        }
      ]
    },
    {
      "cell_type": "code",
      "metadata": {
        "id": "xnSrFKYE8VDx",
        "colab_type": "code",
        "colab": {
          "base_uri": "https://localhost:8080/",
          "height": 0
        },
        "outputId": "ce22e939-280c-49c6-d7bb-312dcb4b5068"
      },
      "source": [
        "print(X.mean(), X_train.mean(), X_test.mean())"
      ],
      "execution_count": 305,
      "outputs": [
        {
          "output_type": "stream",
          "text": [
            "mean radius                 14.127292\n",
            "mean texture                19.289649\n",
            "mean perimeter              91.969033\n",
            "mean area                  654.889104\n",
            "mean smoothness              0.096360\n",
            "mean compactness             0.104341\n",
            "mean concavity               0.088799\n",
            "mean concave points          0.048919\n",
            "mean symmetry                0.181162\n",
            "mean fractal dimension       0.062798\n",
            "radius error                 0.405172\n",
            "texture error                1.216853\n",
            "perimeter error              2.866059\n",
            "area error                  40.337079\n",
            "smoothness error             0.007041\n",
            "compactness error            0.025478\n",
            "concavity error              0.031894\n",
            "concave points error         0.011796\n",
            "symmetry error               0.020542\n",
            "fractal dimension error      0.003795\n",
            "worst radius                16.269190\n",
            "worst texture               25.677223\n",
            "worst perimeter            107.261213\n",
            "worst area                 880.583128\n",
            "worst smoothness             0.132369\n",
            "worst compactness            0.254265\n",
            "worst concavity              0.272188\n",
            "worst concave points         0.114606\n",
            "worst symmetry               0.290076\n",
            "worst fractal dimension      0.083946\n",
            "dtype: float64 mean radius                 14.108795\n",
            "mean texture                19.273535\n",
            "mean perimeter              91.844531\n",
            "mean area                  652.969531\n",
            "mean smoothness              0.096279\n",
            "mean compactness             0.104419\n",
            "mean concavity               0.089422\n",
            "mean concave points          0.048838\n",
            "mean symmetry                0.181001\n",
            "mean fractal dimension       0.062861\n",
            "radius error                 0.403304\n",
            "texture error                1.211130\n",
            "perimeter error              2.853593\n",
            "area error                  40.026031\n",
            "smoothness error             0.007014\n",
            "compactness error            0.025662\n",
            "concavity error              0.032401\n",
            "concave points error         0.011773\n",
            "symmetry error               0.020564\n",
            "fractal dimension error      0.003825\n",
            "worst radius                16.231580\n",
            "worst texture               25.628750\n",
            "worst perimeter            106.997578\n",
            "worst area                 874.483398\n",
            "worst smoothness             0.132238\n",
            "worst compactness            0.255165\n",
            "worst concavity              0.274252\n",
            "worst concave points         0.114656\n",
            "worst symmetry               0.290804\n",
            "worst fractal dimension      0.084170\n",
            "dtype: float64 mean radius                 14.293439\n",
            "mean texture                19.434386\n",
            "mean perimeter              93.087368\n",
            "mean area                  672.131579\n",
            "mean smoothness              0.097091\n",
            "mean compactness             0.103643\n",
            "mean concavity               0.083208\n",
            "mean concave points          0.049648\n",
            "mean symmetry                0.182605\n",
            "mean fractal dimension       0.062225\n",
            "radius error                 0.421953\n",
            "texture error                1.268261\n",
            "perimeter error              2.978033\n",
            "area error                  43.131053\n",
            "smoothness error             0.007283\n",
            "compactness error            0.023829\n",
            "concavity error              0.027337\n",
            "concave points error         0.012005\n",
            "symmetry error               0.020349\n",
            "fractal dimension error      0.003525\n",
            "worst radius                16.607018\n",
            "worst texture               26.112632\n",
            "worst perimeter            109.629298\n",
            "worst area                 935.373684\n",
            "worst smoothness             0.133538\n",
            "worst compactness            0.246178\n",
            "worst concavity              0.253657\n",
            "worst concave points         0.114159\n",
            "worst symmetry               0.283535\n",
            "worst fractal dimension      0.081933\n",
            "dtype: float64\n"
          ],
          "name": "stdout"
        }
      ]
    },
    {
      "cell_type": "code",
      "metadata": {
        "id": "Cm3TrBts8hp5",
        "colab_type": "code",
        "colab": {}
      },
      "source": [
        "X_train, X_test, Y_train, Y_test = train_test_split(X,Y, test_size = 0.1, stratify = Y, random_state = 1)"
      ],
      "execution_count": 306,
      "outputs": []
    },
    {
      "cell_type": "code",
      "metadata": {
        "id": "mUzOfkT98z9-",
        "colab_type": "code",
        "colab": {
          "base_uri": "https://localhost:8080/",
          "height": 0
        },
        "outputId": "dde12801-7ce4-4b30-bcbf-cee76c4acc8f"
      },
      "source": [
        "print(X.mean(), X_train.mean(), X_test.mean())"
      ],
      "execution_count": 307,
      "outputs": [
        {
          "output_type": "stream",
          "text": [
            "mean radius                 14.127292\n",
            "mean texture                19.289649\n",
            "mean perimeter              91.969033\n",
            "mean area                  654.889104\n",
            "mean smoothness              0.096360\n",
            "mean compactness             0.104341\n",
            "mean concavity               0.088799\n",
            "mean concave points          0.048919\n",
            "mean symmetry                0.181162\n",
            "mean fractal dimension       0.062798\n",
            "radius error                 0.405172\n",
            "texture error                1.216853\n",
            "perimeter error              2.866059\n",
            "area error                  40.337079\n",
            "smoothness error             0.007041\n",
            "compactness error            0.025478\n",
            "concavity error              0.031894\n",
            "concave points error         0.011796\n",
            "symmetry error               0.020542\n",
            "fractal dimension error      0.003795\n",
            "worst radius                16.269190\n",
            "worst texture               25.677223\n",
            "worst perimeter            107.261213\n",
            "worst area                 880.583128\n",
            "worst smoothness             0.132369\n",
            "worst compactness            0.254265\n",
            "worst concavity              0.272188\n",
            "worst concave points         0.114606\n",
            "worst symmetry               0.290076\n",
            "worst fractal dimension      0.083946\n",
            "dtype: float64 mean radius                 14.058656\n",
            "mean texture                19.309668\n",
            "mean perimeter              91.530488\n",
            "mean area                  648.097266\n",
            "mean smoothness              0.096568\n",
            "mean compactness             0.105144\n",
            "mean concavity               0.089342\n",
            "mean concave points          0.048892\n",
            "mean symmetry                0.181961\n",
            "mean fractal dimension       0.062979\n",
            "radius error                 0.403659\n",
            "texture error                1.206856\n",
            "perimeter error              2.861173\n",
            "area error                  39.935506\n",
            "smoothness error             0.007067\n",
            "compactness error            0.025681\n",
            "concavity error              0.032328\n",
            "concave points error         0.011963\n",
            "symmetry error               0.020584\n",
            "fractal dimension error      0.003815\n",
            "worst radius                16.194275\n",
            "worst texture               25.644902\n",
            "worst perimeter            106.757715\n",
            "worst area                 871.647852\n",
            "worst smoothness             0.132592\n",
            "worst compactness            0.257415\n",
            "worst concavity              0.275623\n",
            "worst concave points         0.115454\n",
            "worst symmetry               0.291562\n",
            "worst fractal dimension      0.084402\n",
            "dtype: float64 mean radius                 14.743807\n",
            "mean texture                19.109825\n",
            "mean perimeter              95.908246\n",
            "mean area                  715.896491\n",
            "mean smoothness              0.094496\n",
            "mean compactness             0.097130\n",
            "mean concavity               0.083923\n",
            "mean concave points          0.049159\n",
            "mean symmetry                0.173981\n",
            "mean fractal dimension       0.061169\n",
            "radius error                 0.418767\n",
            "texture error                1.306656\n",
            "perimeter error              2.909946\n",
            "area error                  43.944193\n",
            "smoothness error             0.006809\n",
            "compactness error            0.023659\n",
            "concavity error              0.027989\n",
            "concave points error         0.010293\n",
            "symmetry error               0.020169\n",
            "fractal dimension error      0.003618\n",
            "worst radius                16.942105\n",
            "worst texture               25.967544\n",
            "worst perimeter            111.783860\n",
            "worst area                 960.843860\n",
            "worst smoothness             0.130357\n",
            "worst compactness            0.225973\n",
            "worst concavity              0.241340\n",
            "worst concave points         0.106994\n",
            "worst symmetry               0.276719\n",
            "worst fractal dimension      0.079852\n",
            "dtype: float64\n"
          ],
          "name": "stdout"
        }
      ]
    },
    {
      "cell_type": "markdown",
      "metadata": {
        "id": "XnAqJGLc9FXp",
        "colab_type": "text"
      },
      "source": [
        "#Binarisation of input"
      ]
    },
    {
      "cell_type": "code",
      "metadata": {
        "id": "-nJcceod9Lts",
        "colab_type": "code",
        "colab": {}
      },
      "source": [
        "import matplotlib.pyplot as plt"
      ],
      "execution_count": 308,
      "outputs": []
    },
    {
      "cell_type": "code",
      "metadata": {
        "id": "bZvAPwio-lDj",
        "colab_type": "code",
        "colab": {
          "base_uri": "https://localhost:8080/",
          "height": 0
        },
        "outputId": "fdadf8e4-d44e-4bf3-b33e-bd777b93e6d5"
      },
      "source": [
        "plt.plot(X_train, '*')\n",
        "plt.show()"
      ],
      "execution_count": 309,
      "outputs": [
        {
          "output_type": "display_data",
          "data": {
            "image/png": "[encoded data removed]",
            "text/plain": [
              "<Figure size 432x288 with 1 Axes>"
            ]
          },
          "metadata": {
            "tags": [],
            "needs_background": "light"
          }
        }
      ]
    },
    {
      "cell_type": "code",
      "metadata": {
        "id": "AriLFD1S-uR5",
        "colab_type": "code",
        "colab": {
          "base_uri": "https://localhost:8080/",
          "height": 0
        },
        "outputId": "d72d5ef5-184d-4054-e8a0-eb105526d10f"
      },
      "source": [
        "plt.plot(X_train.T, '*')\n",
        "plt.xticks(rotation = 'vertical')\n",
        "plt.show()"
      ],
      "execution_count": 310,
      "outputs": [
        {
          "output_type": "display_data",
          "data": {
            "image/png": "[encoded data removed]",
            "text/plain": [
              "<Figure size 432x288 with 1 Axes>"
            ]
          },
          "metadata": {
            "tags": [],
            "needs_background": "light"
          }
        }
      ]
    },
    {
      "cell_type": "code",
      "metadata": {
        "id": "SPPKFUBy-2gK",
        "colab_type": "code",
        "colab": {}
      },
      "source": [
        "X_binarised_3_train = X_train['mean area'].map(lambda x:0 if x < 1000 else 1 )"
      ],
      "execution_count": 311,
      "outputs": []
    },
    {
      "cell_type": "code",
      "metadata": {
        "id": "DsaSxjsTA_3b",
        "colab_type": "code",
        "colab": {
          "base_uri": "https://localhost:8080/",
          "height": 0
        },
        "outputId": "e8ca088b-05b2-411f-dfba-079c72e8188c"
      },
      "source": [
        "plt.plot(X_binarised_3_train, '*')\n",
        "plt.show()"
      ],
      "execution_count": 312,
      "outputs": [
        {
          "output_type": "display_data",
          "data": {
            "image/png": "[encoded data removed]",
            "text/plain": [
              "<Figure size 432x288 with 1 Axes>"
            ]
          },
          "metadata": {
            "tags": [],
            "needs_background": "light"
          }
        }
      ]
    },
    {
      "cell_type": "code",
      "metadata": {
        "id": "E4pFSrmwBHGp",
        "colab_type": "code",
        "colab": {}
      },
      "source": [
        "X_binarised_train = X_train.apply(pd.cut, bins=2, labels=[1,0])"
      ],
      "execution_count": 313,
      "outputs": []
    },
    {
      "cell_type": "code",
      "metadata": {
        "id": "WTKlHe_hBdey",
        "colab_type": "code",
        "colab": {
          "base_uri": "https://localhost:8080/",
          "height": 0
        },
        "outputId": "a7bbb517-31d6-459e-d1a3-ebe605faed37"
      },
      "source": [
        "plt.plot(X_binarised_train.T, '*')\n",
        "plt.xticks(rotation = 'vertical')\n",
        "plt.show()"
      ],
      "execution_count": 314,
      "outputs": [
        {
          "output_type": "display_data",
          "data": {
            "image/png": "[encoded data removed]",
            "text/plain": [
              "<Figure size 432x288 with 1 Axes>"
            ]
          },
          "metadata": {
            "tags": [],
            "needs_background": "light"
          }
        }
      ]
    },
    {
      "cell_type": "code",
      "metadata": {
        "id": "VUpsbwNpBvXZ",
        "colab_type": "code",
        "colab": {}
      },
      "source": [
        "X_binarised_test = X_test.apply(pd.cut, bins=2, labels=[1,0])"
      ],
      "execution_count": 315,
      "outputs": []
    },
    {
      "cell_type": "code",
      "metadata": {
        "id": "5mhBwYgkB60L",
        "colab_type": "code",
        "colab": {
          "base_uri": "https://localhost:8080/",
          "height": 0
        },
        "outputId": "45c1a8c3-0f2c-4ee4-b87a-0576bff644fa"
      },
      "source": [
        "plt.plot(X_binarised_test.T, '*')\n",
        "plt.xticks(rotation = 'vertical')\n",
        "plt.show()"
      ],
      "execution_count": 316,
      "outputs": [
        {
          "output_type": "display_data",
          "data": {
            "image/png": "[encoded data removed]",
            "text/plain": [
              "<Figure size 432x288 with 1 Axes>"
            ]
          },
          "metadata": {
            "tags": [],
            "needs_background": "light"
          }
        }
      ]
    },
    {
      "cell_type": "code",
      "metadata": {
        "id": "RNRbqgefB-bg",
        "colab_type": "code",
        "colab": {
          "base_uri": "https://localhost:8080/",
          "height": 0
        },
        "outputId": "d13ec6df-3f3a-4c15-88aa-d1ed5d13b36e"
      },
      "source": [
        "type(X_binarised_train)"
      ],
      "execution_count": 317,
      "outputs": [
        {
          "output_type": "execute_result",
          "data": {
            "text/plain": [
              "pandas.core.frame.DataFrame"
            ]
          },
          "metadata": {
            "tags": []
          },
          "execution_count": 317
        }
      ]
    },
    {
      "cell_type": "code",
      "metadata": {
        "id": "mPmDOJkACDrp",
        "colab_type": "code",
        "colab": {}
      },
      "source": [
        "X_binarised_train = X_binarised_train.values\n",
        "X_binarised_test = X_binarised_test.values"
      ],
      "execution_count": 318,
      "outputs": []
    },
    {
      "cell_type": "code",
      "metadata": {
        "id": "IckihRPSCTnC",
        "colab_type": "code",
        "colab": {
          "base_uri": "https://localhost:8080/",
          "height": 0
        },
        "outputId": "f5d2b018-95b2-46dc-8788-c50954f8fc41"
      },
      "source": [
        "type(X_binarised_train)"
      ],
      "execution_count": 319,
      "outputs": [
        {
          "output_type": "execute_result",
          "data": {
            "text/plain": [
              "numpy.ndarray"
            ]
          },
          "metadata": {
            "tags": []
          },
          "execution_count": 319
        }
      ]
    },
    {
      "cell_type": "markdown",
      "metadata": {
        "id": "pZQHw69lcB5P",
        "colab_type": "text"
      },
      "source": [
        "#MP_Neuron"
      ]
    },
    {
      "cell_type": "code",
      "metadata": {
        "id": "lxS8hkxseUrc",
        "colab_type": "code",
        "colab": {}
      },
      "source": [
        "from random import randint"
      ],
      "execution_count": 320,
      "outputs": []
    },
    {
      "cell_type": "code",
      "metadata": {
        "id": "HZ9vlL7ncBMA",
        "colab_type": "code",
        "colab": {
          "base_uri": "https://localhost:8080/",
          "height": 0
        },
        "outputId": "9073c312-f9f7-4923-d939-e9b5ba703a74"
      },
      "source": [
        "b = 3\n",
        "\n",
        "i = randint(0,X_binarised_train.shape[0])\n",
        "\n",
        "x = np.sum(X_binarised_train[i, :])\n",
        "\n",
        "if x >= b:\n",
        "  print(\"This maybe maligant\")\n",
        "else:\n",
        "  print(\"This may not maligant\")\n",
        "\n",
        "if Y_train[i] == 1:\n",
        "  print(\"This is maligant\")\n",
        "else:\n",
        "  print(\"This is not maligant\")"
      ],
      "execution_count": 321,
      "outputs": [
        {
          "output_type": "stream",
          "text": [
            "This maybe maligant\n",
            "This is not maligant\n"
          ],
          "name": "stdout"
        }
      ]
    },
    {
      "cell_type": "code",
      "metadata": {
        "id": "tBzo90gLdsmS",
        "colab_type": "code",
        "colab": {
          "base_uri": "https://localhost:8080/",
          "height": 0
        },
        "outputId": "f9e108de-721b-41f5-d5e1-81e05b43b17b"
      },
      "source": [
        "b = 3\n",
        "Y_pred_train = []\n",
        "acc_rows = 0\n",
        "for x,y in zip(X_binarised_train, Y_train):\n",
        "  Y_pred = (np.sum(x) >= b)\n",
        "  Y_pred_train.append(Y_pred)\n",
        "  acc_rows += (y==Y_pred)\n",
        "print(acc_rows/X_binarised_train.shape[0])\n",
        "\n"
      ],
      "execution_count": 322,
      "outputs": [
        {
          "output_type": "stream",
          "text": [
            "0.626953125\n"
          ],
          "name": "stdout"
        }
      ]
    },
    {
      "cell_type": "code",
      "metadata": {
        "id": "E9sEa4JWrOy0",
        "colab_type": "code",
        "colab": {
          "base_uri": "https://localhost:8080/",
          "height": 0
        },
        "outputId": "6436cd6e-061b-4d8d-8580-d230d40447b4"
      },
      "source": [
        "print(X_binarised_train.shape[1] + 1)"
      ],
      "execution_count": 323,
      "outputs": [
        {
          "output_type": "stream",
          "text": [
            "31\n"
          ],
          "name": "stdout"
        }
      ]
    },
    {
      "cell_type": "code",
      "metadata": {
        "id": "fo1ybnPpq6vB",
        "colab_type": "code",
        "colab": {
          "base_uri": "https://localhost:8080/",
          "height": 0
        },
        "outputId": "66886276-c094-4dc7-b09a-4dd61a8df36c"
      },
      "source": [
        "for b in range(X_binarised_train.shape[1] + 1):\n",
        "  Y_pred_train = []\n",
        "  acc_rows = 0\n",
        "  for x,y in zip(X_binarised_train, Y_train):\n",
        "    Y_pred = (np.sum(x) >= b)\n",
        "    Y_pred_train.append(Y_pred)\n",
        "    acc_rows += (y==Y_pred)\n",
        "  print(b,acc_rows, acc_rows/X_binarised_train.shape[0])\n"
      ],
      "execution_count": 324,
      "outputs": [
        {
          "output_type": "stream",
          "text": [
            "0 321 0.626953125\n",
            "1 321 0.626953125\n",
            "2 321 0.626953125\n",
            "3 321 0.626953125\n",
            "4 321 0.626953125\n",
            "5 321 0.626953125\n",
            "6 321 0.626953125\n",
            "7 321 0.626953125\n",
            "8 321 0.626953125\n",
            "9 321 0.626953125\n",
            "10 321 0.626953125\n",
            "11 321 0.626953125\n",
            "12 321 0.626953125\n",
            "13 321 0.626953125\n",
            "14 323 0.630859375\n",
            "15 324 0.6328125\n",
            "16 329 0.642578125\n",
            "17 332 0.6484375\n",
            "18 336 0.65625\n",
            "19 340 0.6640625\n",
            "20 344 0.671875\n",
            "21 352 0.6875\n",
            "22 359 0.701171875\n",
            "23 371 0.724609375\n",
            "24 387 0.755859375\n",
            "25 402 0.78515625\n",
            "26 419 0.818359375\n",
            "27 433 0.845703125\n",
            "28 435 0.849609375\n",
            "29 417 0.814453125\n",
            "30 389 0.759765625\n"
          ],
          "name": "stdout"
        }
      ]
    },
    {
      "cell_type": "code",
      "metadata": {
        "id": "KSTHjR30xYFY",
        "colab_type": "code",
        "colab": {}
      },
      "source": [
        "from sklearn.metrics import accuracy_score"
      ],
      "execution_count": 325,
      "outputs": []
    },
    {
      "cell_type": "code",
      "metadata": {
        "id": "U0RS4Hgq0Mde",
        "colab_type": "code",
        "colab": {
          "base_uri": "https://localhost:8080/",
          "height": 0
        },
        "outputId": "ed41e9bc-f517-4692-8890-83f69b675cd5"
      },
      "source": [
        "b = 28\n",
        "Y_pred_test = []\n",
        "\n",
        "for x in X_binarised_test:\n",
        "  Y_pred = (np.sum(x) >= b)\n",
        "  Y_pred_test.append(Y_pred)\n",
        "accuracy = accuracy_score(Y_pred_test, Y_test)\n",
        "print(b, accuracy)"
      ],
      "execution_count": 326,
      "outputs": [
        {
          "output_type": "stream",
          "text": [
            "28 0.7894736842105263\n"
          ],
          "name": "stdout"
        }
      ]
    },
    {
      "cell_type": "markdown",
      "metadata": {
        "id": "scMfUkDCCBfC",
        "colab_type": "text"
      },
      "source": [
        "#MP_Neuron Class"
      ]
    },
    {
      "cell_type": "code",
      "metadata": {
        "id": "rP39s9bu0-av",
        "colab_type": "code",
        "colab": {}
      },
      "source": [
        "class MPNeuron:\n",
        "  def __init__(self):\n",
        "    self.b = None\n",
        "  \n",
        "  def model(self, x):\n",
        "    return (sum(x) >= self.b)\n",
        "\n",
        "  def predict(self, X):\n",
        "    Y = []\n",
        "    for x in X:\n",
        "      result = self.model(x)\n",
        "      Y.append(result)\n",
        "    return np.array(Y)\n",
        "\n",
        "  def fit(self, X, Y):\n",
        "    accuracy = {}\n",
        "    for b in range(X.shape[1] + 1):\n",
        "      self.b = b\n",
        "      Y_pred = self.predict(X)\n",
        "      accuracy[b] = accuracy_score(Y_pred, Y)\n",
        "\n",
        "    best_b = max(accuracy, key= accuracy.get)\n",
        "    self.b = best_b\n",
        "    print(\"Optimal value of b is \",best_b)\n",
        "    print(\"Highest accuracy is \", accuracy[best_b])\n",
        "      "
      ],
      "execution_count": 327,
      "outputs": []
    },
    {
      "cell_type": "code",
      "metadata": {
        "id": "MMVGM7kcPOST",
        "colab_type": "code",
        "colab": {
          "base_uri": "https://localhost:8080/",
          "height": 0
        },
        "outputId": "24e0a440-30c4-4a30-c37f-6b174d1ee3d6"
      },
      "source": [
        "mp_neuron = MPNeuron()\n",
        "mp_neuron.fit(X_binarised_train,Y_train)"
      ],
      "execution_count": 328,
      "outputs": [
        {
          "output_type": "stream",
          "text": [
            "Optimal value of b is  28\n",
            "Highest accuracy is  0.849609375\n"
          ],
          "name": "stdout"
        }
      ]
    },
    {
      "cell_type": "code",
      "metadata": {
        "id": "oQPXaY2cPsrU",
        "colab_type": "code",
        "colab": {
          "base_uri": "https://localhost:8080/",
          "height": 0
        },
        "outputId": "cd5ec9b6-fdcb-48f4-d101-cee84815b5fc"
      },
      "source": [
        "mp_neuron.b"
      ],
      "execution_count": 329,
      "outputs": [
        {
          "output_type": "execute_result",
          "data": {
            "text/plain": [
              "28"
            ]
          },
          "metadata": {
            "tags": []
          },
          "execution_count": 329
        }
      ]
    },
    {
      "cell_type": "code",
      "metadata": {
        "id": "Fe8PGIJMQcjx",
        "colab_type": "code",
        "colab": {}
      },
      "source": [
        "Y_pred_test = mp_neuron.predict(X_binarised_test)\n",
        "accuracy_test = accuracy_score(Y_pred_test, Y_test)"
      ],
      "execution_count": 330,
      "outputs": []
    },
    {
      "cell_type": "code",
      "metadata": {
        "id": "nxb8T1syRpZv",
        "colab_type": "code",
        "colab": {
          "base_uri": "https://localhost:8080/",
          "height": 0
        },
        "outputId": "987ebb6e-e809-4270-861b-78cad5d2113c"
      },
      "source": [
        "print(accuracy_test)"
      ],
      "execution_count": 331,
      "outputs": [
        {
          "output_type": "stream",
          "text": [
            "0.7894736842105263\n"
          ],
          "name": "stdout"
        }
      ]
    },
    {
      "cell_type": "code",
      "metadata": {
        "id": "Fr1UufHmRr7s",
        "colab_type": "code",
        "colab": {
          "base_uri": "https://localhost:8080/",
          "height": 0
        },
        "outputId": "e7eec850-da7a-4e79-b751-a35030a4935a"
      },
      "source": [
        "type(mp_neuron)"
      ],
      "execution_count": 332,
      "outputs": [
        {
          "output_type": "execute_result",
          "data": {
            "text/plain": [
              "__main__.MPNeuron"
            ]
          },
          "metadata": {
            "tags": []
          },
          "execution_count": 332
        }
      ]
    },
    {
      "cell_type": "markdown",
      "metadata": {
        "id": "on9dpOFcR8N2",
        "colab_type": "text"
      },
      "source": [
        "#Perceptron"
      ]
    },
    {
      "cell_type": "code",
      "metadata": {
        "id": "MKERSEKKRDFL",
        "colab_type": "code",
        "colab": {}
      },
      "source": [
        "X_train = X_train.values\n",
        "X_test = X_test.values"
      ],
      "execution_count": 333,
      "outputs": []
    },
    {
      "cell_type": "markdown",
      "metadata": {
        "id": "UXshDDQZD-2f",
        "colab_type": "text"
      },
      "source": [
        "$y = 1, \\mbox{if} \\sum_i w_i x_i >= b$\n",
        "\n",
        "$y=0, \\mbox{otherwise}$"
      ]
    },
    {
      "cell_type": "code",
      "metadata": {
        "id": "fPZzAzlXSDkc",
        "colab_type": "code",
        "colab": {}
      },
      "source": [
        "class perceptron:\n",
        "\n",
        "  def __init__(self):\n",
        "    self.w = None\n",
        "    self.b = None\n",
        "\n",
        "  def model(self, x):\n",
        "    return 1 if (np.dot(self.w,x) >= self.b) else 0\n",
        "\n",
        "  def predict(self, X):\n",
        "    Y= []\n",
        "    for x in X:\n",
        "      result = self.model(x )\n",
        "      Y.append(result)\n",
        "    return np.array(Y)\n",
        "\n",
        "  def fit(self, X, Y, epochs=1, lr =1):\n",
        "    self.w = np.ones(X.shape[1])\n",
        "    self.b = 0\n",
        "    accuracy = {}\n",
        "    max_accuracy = 0\n",
        "    wt_matrix = []\n",
        "    for i in range(epochs):\n",
        "      for x,y in zip(X,Y):\n",
        "        y_pred = self.model(x)\n",
        "        if y == 1 and y_pred == 0:\n",
        "          self.w += lr * x\n",
        "          self.b += lr * 1\n",
        "        elif y == 0 and y_pred == 1:\n",
        "          self.w -= lr * x\n",
        "          self.b -= lr * 1\n",
        "      wt_matrix.append(list(self.w))\n",
        "      accuracy[i] = accuracy_score(self.predict(X), Y)\n",
        "      if accuracy[i] > max_accuracy:\n",
        "        max_accuracy = accuracy[i]\n",
        "        chkpt_w = self.w\n",
        "        chkpt_b = self.b\n",
        "\n",
        "    self.b = chkpt_b\n",
        "    self.w = chkpt_w\n",
        "\n",
        "    print(\"The max accuracy is \",max_accuracy)\n",
        "    plt.plot(*zip(*sorted(accuracy.items())))\n",
        "    plt.ylim([0,1])\n",
        "    plt.show()\n",
        "    return np.array(wt_matrix)\n",
        "    "
      ],
      "execution_count": 347,
      "outputs": []
    },
    {
      "cell_type": "code",
      "metadata": {
        "id": "2-F2F-6WQ3so",
        "colab_type": "code",
        "colab": {}
      },
      "source": [
        "perceptron = perceptron()"
      ],
      "execution_count": 348,
      "outputs": []
    },
    {
      "cell_type": "code",
      "metadata": {
        "id": "ZnrnkqIpRYnL",
        "colab_type": "code",
        "colab": {
          "base_uri": "https://localhost:8080/",
          "height": 287
        },
        "outputId": "87c0831d-bd19-4a84-e969-5a86ca6ee750"
      },
      "source": [
        "wt_mat = perceptron.fit(X_train, Y_train,100)"
      ],
      "execution_count": 349,
      "outputs": [
        {
          "output_type": "stream",
          "text": [
            "The max accuracy is  0.927734375\n"
          ],
          "name": "stdout"
        },
        {
          "output_type": "display_data",
          "data": {
            "image/png": "[encoded data removed]",
            "text/plain": [
              "<Figure size 432x288 with 1 Axes>"
            ]
          },
          "metadata": {
            "tags": [],
            "needs_background": "light"
          }
        }
      ]
    },
    {
      "cell_type": "code",
      "metadata": {
        "id": "5COWg0xM-2Ks",
        "colab_type": "code",
        "colab": {
          "base_uri": "https://localhost:8080/",
          "height": 35
        },
        "outputId": "d903677b-dc92-4db8-e256-ae895a6fa1b4"
      },
      "source": [
        "type(wt_mat)"
      ],
      "execution_count": 350,
      "outputs": [
        {
          "output_type": "execute_result",
          "data": {
            "text/plain": [
              "numpy.ndarray"
            ]
          },
          "metadata": {
            "tags": []
          },
          "execution_count": 350
        }
      ]
    },
    {
      "cell_type": "code",
      "metadata": {
        "id": "5lY0-QdP0JlC",
        "colab_type": "code",
        "colab": {
          "base_uri": "https://localhost:8080/",
          "height": 35
        },
        "outputId": "069ee3c1-4246-4eaf-ad73-d99be80926f4"
      },
      "source": [
        "Y_pred = perceptron.predict(X_test)\n",
        "print(accuracy_score(Y_pred,Y_test))"
      ],
      "execution_count": 339,
      "outputs": [
        {
          "output_type": "stream",
          "text": [
            "0.9298245614035088\n"
          ],
          "name": "stdout"
        }
      ]
    },
    {
      "cell_type": "code",
      "metadata": {
        "id": "Tz6UgOIO4dmR",
        "colab_type": "code",
        "colab": {
          "base_uri": "https://localhost:8080/",
          "height": 266
        },
        "outputId": "9e23efa7-24eb-4e45-ba52-7e1ff2a602d7"
      },
      "source": [
        "plt.plot(wt_mat[50,:])\n",
        "plt.show()"
      ],
      "execution_count": 352,
      "outputs": [
        {
          "output_type": "display_data",
          "data": {
            "image/png": "[encoded data removed]",
            "text/plain": [
              "<Figure size 432x288 with 1 Axes>"
            ]
          },
          "metadata": {
            "tags": [],
            "needs_background": "light"
          }
        }
      ]
    },
    {
      "cell_type": "code",
      "metadata": {
        "id": "YjCceut474Nb",
        "colab_type": "code",
        "colab": {}
      },
      "source": [
        "%matplotlib inline"
      ],
      "execution_count": 353,
      "outputs": []
    },
    {
      "cell_type": "code",
      "metadata": {
        "id": "U6IBpF848ELQ",
        "colab_type": "code",
        "colab": {}
      },
      "source": [
        "from matplotlib import animation, rc\n",
        "from IPython.display import HTML"
      ],
      "execution_count": 354,
      "outputs": []
    },
    {
      "cell_type": "code",
      "metadata": {
        "id": "t2aH3Nf58LRC",
        "colab_type": "code",
        "colab": {
          "base_uri": "https://localhost:8080/",
          "height": 265
        },
        "outputId": "9c1a432e-e196-438b-b18c-4e24a6046d85"
      },
      "source": [
        "# First set up the figure, the axis, and the plot element we want to animate\n",
        "fig, ax = plt.subplots()\n",
        "\n",
        "ax.set_xlim(( 0, wt_mat.shape[1]))\n",
        "ax.set_ylim((-13000, 26000))\n",
        "\n",
        "line, = ax.plot([], [], lw=2)"
      ],
      "execution_count": 355,
      "outputs": [
        {
          "output_type": "display_data",
          "data": {
            "image/png": "[encoded data removed]",
            "text/plain": [
              "<Figure size 432x288 with 1 Axes>"
            ]
          },
          "metadata": {
            "tags": [],
            "needs_background": "light"
          }
        }
      ]
    },
    {
      "cell_type": "code",
      "metadata": {
        "id": "iOz_X2Yq8M6o",
        "colab_type": "code",
        "colab": {}
      },
      "source": [
        "# animation function. This is called sequentially\n",
        "def animate(i):\n",
        "    x = list(range(wt_mat.shape[1]))\n",
        "    y = wt_mat[i,:]\n",
        "    line.set_data(x, y)\n",
        "    return (line,)"
      ],
      "execution_count": 356,
      "outputs": []
    },
    {
      "cell_type": "code",
      "metadata": {
        "id": "zuv1DLRe8RgL",
        "colab_type": "code",
        "colab": {}
      },
      "source": [
        "# call the animator. blit=True means only re-draw the parts that have changed.\n",
        "anim = animation.FuncAnimation(fig, animate, frames=100, interval=50, blit=True)"
      ],
      "execution_count": 358,
      "outputs": []
    },
    {
      "cell_type": "code",
      "metadata": {
        "id": "RKwd_LUE8Ufo",
        "colab_type": "code",
        "colab": {
          "base_uri": "https://localhost:8080/",
          "height": 308
        },
        "outputId": "3dd344ea-68e5-450f-9f42-15b4a6a5b494"
      },
      "source": [
        "HTML(anim.to_html5_video())"
      ],
      "execution_count": 359,
      "outputs": [
        {
          "output_type": "execute_result",
          "data": {
            "text/html": [
              "<video width=\"432\" height=\"288\" controls autoplay loop>\n",
              "  <source type=\"video/mp4\" src=\"data:video/mp4;base64,AAAAHGZ0eXBNNFYgAAACAGlzb21pc28yYXZjMQAAAAhmcmVlAABbj21kYXQAAAKuBgX//6rcRem9\n",
              "5tlIt5Ys2CDZI+7veDI2NCAtIGNvcmUgMTUyIHIyODU0IGU5YTU5MDMgLSBILjI2NC9NUEVHLTQg\n",
              "QVZDIGNvZGVjIC0gQ29weWxlZnQgMjAwMy0yMDE3IC0gaHR0cDovL3d3dy52aWRlb2xhbi5vcmcv\n",
              "eDI2NC5odG1sIC0gb3B0aW9uczogY2FiYWM9MSByZWY9MyBkZWJsb2NrPTE6MDowIGFuYWx5c2U9\n",
              "MHgzOjB4MTEzIG1lPWhleCBzdWJtZT03IHBzeT0xIHBzeV9yZD0xLjAwOjAuMDAgbWl4ZWRfcmVm\n",
              "PTEgbWVfcmFuZ2U9MTYgY2hyb21hX21lPTEgdHJlbGxpcz0xIDh4OGRjdD0xIGNxbT0wIGRlYWR6\n",
              "b25lPTIxLDExIGZhc3RfcHNraXA9MSBjaHJvbWFfcXBfb2Zmc2V0PS0yIHRocmVhZHM9MyBsb29r\n",
              "YWhlYWRfdGhyZWFkcz0xIHNsaWNlZF90aHJlYWRzPTAgbnI9MCBkZWNpbWF0ZT0xIGludGVybGFj\n",
              "ZWQ9MCBibHVyYXlfY29tcGF0PTAgY29uc3RyYWluZWRfaW50cmE9MCBiZnJhbWVzPTMgYl9weXJh\n",
              "bWlkPTIgYl9hZGFwdD0xIGJfYmlhcz0wIGRpcmVjdD0xIHdlaWdodGI9MSBvcGVuX2dvcD0wIHdl\n",
              "aWdodHA9MiBrZXlpbnQ9MjUwIGtleWludF9taW49MjAgc2NlbmVjdXQ9NDAgaW50cmFfcmVmcmVz\n",
              "aD0wIHJjX2xvb2thaGVhZD00MCByYz1jcmYgbWJ0cmVlPTEgY3JmPTIzLjAgcWNvbXA9MC42MCBx\n",
              "cG1pbj0wIHFwbWF4PTY5IHFwc3RlcD00IGlwX3JhdGlvPTEuNDAgYXE9MToxLjAwAIAAAA2WZYiE\n",
              "ADf//vbw/gU2O5jQlxHN6J0zH78VuLo0N73OAAADAAA33OZE/sqTBubAAAMLQbE8s3+LMAnJTLWl\n",
              "bwqXEnTdxuKb73KVUTEhmNO3J6KfqMsarIfrBAGLjalwcLGq9ns8Dc4sit4dvDulCXTwkbVs9704\n",
              "ArwbchGVmt0lAvokn8qjaMmXApdlq1vn9+O19X0bFF3GDvp2Tnk8yapFfBXS4Yv/YZhRHuZrYKrR\n",
              "VFIKDnaBOd3fFB4xfrLyCXNx5j6RwuuKQOp2WgY5Qfnp9+0O/bpFr6OopmWK/+rT+dW6LSdB1G29\n",
              "0NUfB4p7k265FDv8ScQA7CxG3Ua7gwFyzx6qVUBhPcgQmgekAJx5FenLGZIfqqac4YwOt3y0Bm5Y\n",
              "ErdgNZNKxrHLcYq8iSyczEmTHPOTpIAAAPaxU8F+w+N4h2oEBcT9S//ssi4s2a7Oxx3YdY0aVijr\n",
              "KAyMGm3FjePkdDim8acV0OxxwEz9TP0uH1WsOFuYhU4PT60iHw40wtF2kIlHfuwj6R9FHoGBYgH4\n",
              "Kpzf8vY28u8IzBjZ+ctyhEyCxqgzp3oWwSEIxydSwHug8SLSX3CdmhPJlPHz48op7cmvRphuH1JU\n",
              "9PhbekhIvnGjPIPXjkAS5inZ0ob0UhFwpBvMzzYMW8fmWZjhz/Psx/2ALf5gteK479/kS4P4Ybzs\n",
              "DDUArEy/LkCXFjDIzhd2KWiO+dCnyO+hGET0KLiQ+exiqSz1Lb6GLjHj0C/alq368vAQU9A3fceY\n",
              "VWunE0o0g5Go4pT5RXrdnMQ8iumXbcNI+vtQuSIEqiT6VhZYxCH5COwRJh0Mq3McmfSp4Ghsl2Kf\n",
              "/VGqsNm9e0/cpJimjhYissSdyRMCx+nzSMsrKA1KtBTWS23sE89YIxC4v9V0FGPJocLho4fbwqkk\n",
              "8swrT3cMIiMzyYWnQ6ugeNU5OlKq2McFKHvIXV4OSgw+wJ6JMoczg3MAF8DO7iTJffjjmsfNDulQ\n",
              "y7L2Gbo2Ic5y4m8+6lEVHo6oN816wYOJeK5RrLN8aYhL99YhndhgZKRlzskEQ2YwEbKkm3u9QgiJ\n",
              "39syYfckm/hiebPDtlnmgDiJDIA4fXahCx2hxy68/zq2xMe5hRi6/FbVBhNsJ8jSRO+mG4fUlT0+\n",
              "Ft6SEi+caM7NozsyuGeq0CNWbZ9bxx6TAKKqd1bbgV+b2ewAAZkme+hPPTeeNiAAD6WQS3JyOgJb\n",
              "f9Khdr5HlKIpWgwIPUqLwCSTl7Z775yKCvNcrilSzHDVM9wqPLdHC7AQTk8ax04/ZTmsBpNMNtdR\n",
              "eloBqyn9icfQbNbplufk0E5rfFpPycQrzNdR/bs3b0a2lqkZ8XIkU0jlhHMWg/y4Ifaq4vC4fVUA\n",
              "vvIdvzm4XNAdcavcFjdo3KeJGUCMjQWPqJNc3CHkIN6DSBTdEemi1yPPlvGYF3BFzgAQEy/aO6/w\n",
              "qmV5rDFf0or8DlYjgjBL9/tnpBjH2ksE6e2xCzqJbM9jX0bL5QVHv8uw3xl+0tJDQhvsQ6pf9P/r\n",
              "wqoZR+vM2R4TlNO3wdBdqcuiywL57KNyYmC2zAISYs9o2oxM1+T3Xg/3E/mZR0SMTnv+3z3ngrXr\n",
              "BRKShBk6fCv7Xo4E6mPjIN8oWLuRb4WDJeFvo1J/NS7FT0MqMY2CEuUR5DmTN7nMvwmeIQsI/w/L\n",
              "0iJz0t2Fv1UmqjhMvDpf2YHffr73qmEUNygmKcUFPz/8VbNFj5jtgX8Pag4qbPnoEuNvHK5MIzWs\n",
              "T8El5VPVIx3+VtcjLBIFGG6zc3HzgWwrvuNyQpjRQlWdM04EVp5o/Nrd09o66JISxwh1QnBnnTh6\n",
              "rAHwAsiFTAJ8U3n/5gSUzP+O9LIHUb+gCKfgYdJMmtupSCWvE0ODumxUUrd/cw85/NnVz0DmDwzd\n",
              "cJcDaWNiwf13dj4oCsIZVrTtbg1gXXMG7/du2LA1r36nH+Mcip1/NBY8hZ4FTh0DQ60E4L4agT/n\n",
              "t+xzqUCGXDoVHvskUZVJRMu26j/bpeWRdRD0WzBbumEZQdzVtbSMoqNgW3E/BQFb0FMiicD2ptzi\n",
              "gCbRhpuAWiJwVQoONMxx+fDzRAXkn9QhtLVOo6zM06n7c5ZXk3Gi8ewGPVivuSZbcED/6XkQUvId\n",
              "zJ4iKff4lCfsTlkA0FCcWC3DdQTLK9/wRZ/XgdS4IyqWJ3zeP6TPsFrP27Tb8phvgbuPz4BGHhhz\n",
              "2H4YYl1M1Z2Xy6EvO5zTlu+nshIZi7Un5aisJR9KEA/I73ZesNe9zugTWx7D7OWFwAOi33EKATU4\n",
              "VTCE9xhau4ZdmxAVT3EzpkRA7j/Dx2fJ0uPo9jg8K7TDwyJdVqmdjfq4CfGd7N/stZGVsXsc0eHi\n",
              "kPKWoLOlGtgS7JqJlgvswmBgMQRZf1hHTtyE3QG/mgmnWhE4e+GkCytDmAz8YhzbmvOqTSg+gfcY\n",
              "LXCvNDi0aSsG78L76qnoiUichHZLkj28X4bC23lkeg9/Ylw3jQGllcfEVjoNlScSW3W+CllagVhU\n",
              "rOBsTViGXKn1td9rg/9f2UDV7ZuNAXCspYRwFkuBt4I/87URLiwO973uMI/B3n3nkBPVEAjDjgol\n",
              "dK4HdKVfnvmnO4hkQBH6wp5Q71HDCouKb1tmXltUMlE/hP59pinRVsUd/aMYUrrwjhkvRT93UZo9\n",
              "QwG/rqR0pRJIG2jY4sr2JU2A2pSRI0BTS8Onmh8NAjTv9yQJM86NpqjF5jAwHZAI92FwJDixIICR\n",
              "8SblatZljz4TeriLytJkOONUgy4ARV6Vgnc8NQQD6kwVp/zVsrkwxcuh6gLW3Enjtw/mJdDykehG\n",
              "B2ETG/z0jkWzewE7x4UVMUZRPEDipfihkZWmBfheoRpv2Mn/1j95R/3yDrhTnEUYNCltZA0X7nMd\n",
              "07HtOAJHe52pvXRdzRPY354BrIPkrShZfWijp27ydzMzFt4Sfq4l0aIItMTBchwYsRPCcSUTkRBa\n",
              "jlWyDLju48c/Ndfu6/aHaegL8kUWW0lMfO+rZ8FVSZnAYGDB/uF/l7XtBGAlv2pqvsRgJBU9SNkR\n",
              "NE3pAdgXn5yHkpsvf2i2tIJ+dw/dWZzmeyGdgFxZHUXzVIb+r3BzD6nxKFNByI2JkcUy5Z9emW5t\n",
              "oHEPGf7f2GPDhX6f26k69x2NxBRtUACCvzq3+el5U4qJAQI2+DC95aFavsnQOXY0AcKgT0F/G2h4\n",
              "oe3Ei3w5uOpcVd5eXDIyR37p8SOHQHZpebWQ23UzhAq+T4H1dJVzdoSOnQcXpyQqZc+8LsZYRXlJ\n",
              "WU1OJ/UAh8Y2PeQEQMcnNKHrK99S9nlYr7LwaJFxuz72btmr829FrTnnp3OohKMk8x9+1eM39hKM\n",
              "K2+5TWKxpFMfDvlD9/RlFV6qg8YzdSxNPmpnYYSLPlcvKGQywlepdu9CSRfj8tlnI8XrpV0Iq6a+\n",
              "xD2qDb+PRk/6DENuCDJsLUWT+UP13PVQ8XMClHTCvDZNTr76cwkYAsGXbto+Z5ygz17OsJjeEcTG\n",
              "IisjTnXOBr/FWS4yHXjom2pd03INuYa1pMvA9jgvWi/n9UuGnm/Tz+lcJpyoEndTLjd6oAAwdZxr\n",
              "vpABEa58keJoDiKvuPxkBZBGHSGtqWfpmiXQ3JtFBvzvsJusXmv6CyS01x6WyAEWV3ZP0J49lY2f\n",
              "9b7MwgEtOHZKMeV9pIy+G0W7EXgABYJvq9EfA0bP+t9mYQCWj01WOUETVrNDyv7vvD3gCPUKUEKN\n",
              "KnE+AqOk29XWYxhtbT9AVIlvaV0N7k7dJe25v4jZ+eK7r28SNME6YjiuMrhaRszP7TpAKs/Ekn+s\n",
              "RAwytkoLaJkb1JzWTpmHrkclhYDrHp31TOT1o+QtOFRQzkjJjCxGRDOHGuVPA0yR/vIMmrEnLRFv\n",
              "v11yXSaEmfHMf4RBCIR4y09EghMp20Ct6VkdNklmOr4TvvzrU1LjbIgD+JPbcB8zwHuT9h19w3G3\n",
              "65eKdTrFPGIbnEjENqPIGckPaqgjBhL9DWHRwKj/t5FCsXwPw6BJkB+CHR+K34VnkyCasGqDhtU9\n",
              "fSvOONTo7B8iwh+/9IyFyFZwovn8I3WC4h8ucrVLHL8cSlDXG7J+RkwdlKf2UdVH2ad0lRtMhGsJ\n",
              "ikUp+zLQVttTlvf6XFsmGmu+iMcwxrhgWxhGXCUzjgknQb5vOb7Yn/w6/N1xS6C06FxnQ4bci2b6\n",
              "ijCaV8RAepneJjqfvFqwaa3o9bZuSwGLFUo0LUxhnJFoMzC7XQdUFjycL+bZrDtpia05pIdKI7ju\n",
              "JR2wiSYq6iPjzEnOb5IT41X37k2Y3SrLxSLeRNhexMXbAAoHlDX9wHRQ3f68icg24rdQMG6NjhQc\n",
              "epVPlLJpNqd2NUSSZrHXpGSpSDZlJXbbUml6oLhu5PR5Rs0EWmkx412d+FIY3CkhoIilPtzggZq/\n",
              "oJWVq6QULSmBHDWnsRTo3eQbszsoOYmYWpxZru5EA3WEPGsSC/AYPYr53pPmErFYm1hEkT2OTbHw\n",
              "rvEb54qEovTs8BT7s1JHP/5x2XHnJMIMwjUOoWqE/+O3Q4NHW6Vb86T1nNV58T1VbX1oaf5wcybm\n",
              "zKiuiHt5fL6gs5OeUQDF4HYVAHajQ4D6judJiJpgOls6M/Yi3+620RL+XaGmOVYD9xAFVAA6IQAA\n",
              "A39BmiFsQ3/+p4QA/LoH0BBRhJp+2sBX51/R8kNPlz8bqbipDgf87UOGxTjhV2Xfbw9yTz82pmAR\n",
              "YMSHRPv3j6daG0NPqCudcHzgc5/fpUgiVmmxuFfE7k6AkvPE11JMBmTtdaWRtkDQwTnjy5InT/Vf\n",
              "JzT8JBTd48F4hLWv57n/YbkRFHb6CqUsV1lUvEjkJbfO6rG7YwjIqGa3e3zw+asm7BiqygJkJmrQ\n",
              "WCgjTX96sn34fH86MckG/XsPw8Sg6A7pk5pG5qxtB8HijyubFgYngqS9C0YDnWWeECXfKkOI94eF\n",
              "W7D5pz/kNmsx1STIXizq+rQCNdFUvBJonF12anXpJ2powXVDtnKiyHRDJvt9qhaZD0I687Kjvn4R\n",
              "2kEI8rngrZjzoaUEJLae9OJd7oEIPS+SxsBhUUr/6v8g8gykvQrXWtEwymsFAjq+a3vpwulM91WU\n",
              "P+fmPD6PveTOQalgYVjJuMdNTFcCf/+XDQrEt15tO21S8GUVNrl9JL8kwDVFKe9yUOBD8NWUPnO+\n",
              "pTubAKicc4YyJ4I4qoJR1QpDoFgUXqufkgoWLaO7tCYQ+/RAu3Frszw6FpEMa7/tel12dRfgGKuz\n",
              "HTWDJcS/Xg6IFnepmDd8fqp4Mr+hkfItsO840lsUSmuY0Cvf5m4oZxiDitra4YL+yZWyulswKHlr\n",
              "xL7eFHuFj/7JAKwkV9ifmUC5CqylhVlO6FgJ63Bu9XUnEnjJ8iBUpk433tS/9ZtozlFjmbrMF0HO\n",
              "LDB7+UvbBpBL83m/qALEW3peRTVangWrCThS1LiStEEOKWrCSwLPEIuz4pnKBZG4hPIDrJh86h3b\n",
              "u0c4unYI/Xyjq0IpTV/TXXLvfOQLIeY/9iwf8v1mmYTQjunaOTZjx0PJ44GWfVSPeptNlh6a0MYb\n",
              "wvKWZSJGUiJTiJXQvrH5cbopbRkk7xWgl6z5k9QrRznEWaOyTieda581Fga+hvCfGL7f9CCKlXhx\n",
              "+GdM2fcWECR8kmomx1KpPXGV8cX8jQcJTP3G92bQthwjpJhDpQG5AJPBkvP9D2QawMXuJQu7W7wj\n",
              "TpykU8DS6k9OFiwWIUXFBSnPG96V9nY6/5HoAWLrAts2DZcl42daqWEH/FnkQh0j9oWc3RfPmnX2\n",
              "u1RBeYZ1NmiLFyS0YLf4G5ubonxZMcHGwCCNdIKqQZ+MgmTHIFGxHzWdAAACuUGaQjwhkymEN//+\n",
              "p4QAA2CyrwYO4pACMTr0wQ2lH8WVPmDUOe6FVZkc7bnk2JBMx7OLZ4IrdVC3q4MVEq9nCdr+5Wze\n",
              "EEbGo678XD4iE2bybXlSeQe2gkYNcgWijUuFe62+ejuMqHbB8r8IkmtmmTccI2K7PhY4CL9Ly6uz\n",
              "s8rdvFsNG27g4m074sX7dcktjSxEkMXtO6z00jH1z0lyIe0KbOF2QNSMCGrhYU2uqC2Sscdi8wwM\n",
              "+jfr5LgOSVFJ14IqLKB0//ZeR9EKjrfS5WFJOOI29fnkZG6I2XCbG04csqeWNHiYJyWZ2CpghKtL\n",
              "YLQuZg8tPSMDa1MKlrxDcC3Ae2o/u3xndkyc1aBZsUuqJe2PEqbTFX/A42jOKeWaxD9W1TUyzeUv\n",
              "rKThHORczt7HktSZmpJP9Orope5HCdBgh0mxFLP0hzNRZ3qGN2zRkIE34ZBzyNAZBExnY8UVoj5y\n",
              "sheXVvk/GARTJ6NB7bgJ6v34Ady3AHVo/EWptyrI2+a6KD9kHDkhVOMe8v6hwzt0EAmhCp/ob//4\n",
              "TI+P+k0gHBkcvqBQVmZxDE5Lu8RLCmOd/PhqQ0E+HRngiD0NNV4TXPbWHhHJ/Fh3Nv5aCQkUdp4J\n",
              "t8pyJyh68Zl+f3JZi1vGASz3RhgjTvm19xdtGsn6ueb1Efx9cwC13+wpLoy6vpgkP3tuH9AdlAi7\n",
              "tFiHqWK9f6yyqEEe02E681YoNXz+WJ/jKUgZkhpS/8xQ/ruX23YEyH4iNaL5YyDPnd+wBruk6g2s\n",
              "DHoTzKWmfe3VRNfRdgCRPug/06xvVP4W7nrwxaxktWdbeRb6CHnnpa8UuKFP3zsqvW9zfAh5tKNM\n",
              "KyF5Gr2N3lxjaemOrBwuTmolGnkR5QGMCRSI9oGUkRtopMmme9Mxe3JqwO8MnRT4kb5B8Z2T+KVz\n",
              "04EAAALZQZpkSeEPJlMFPDf//qeEAAbEcF6K7gEaEkn/TbTO2aFzQXEreqpfWiBtRxuoIaChBpqQ\n",
              "bB0KM0x+GgM+/kuRYqj9/VOco0ibuusc5g0Ex3q1aRunTRpG4vnO9ZCHAg4lr9Ch5nWlh4tm/jtk\n",
              "6N0LCDNGPGoOfnaqfuawIHTJ1x2q5vHnBjh8eGUwQHoTfuphep5FkhA1Nzjl7s3v9hMC8fjNQ1Gb\n",
              "YCQWV1p3GikvHIBmbQQWfZq3LOMeL5e5Mpih6Onh7qaJKC9+mAxQ2++Z/6GZ+5XjhLHf6N1wy7vs\n",
              "+Qa/Fz8zK2dl/N/7VPKDWyOwmxjfZ3oewk7w73dhGzBlsjX6TYwXB8X+tyaq9HEaBH0hxRVFlxqQ\n",
              "Y6qnqbEtIfm6nW+SY3a29s/h99mDIAMSMz7ORAYjmDfxm5GCcILPfnxoJC2IQ4hwQi7ly0FyjJMl\n",
              "WZVZOsk/CoMQZ444Eo8RDat7TVz2i6AFnOJDjguUYyYBqMN8NM9xUxlqhFx8JfVAUWmcSMMCFhNq\n",
              "KTN87fILziXNhc9EukcknOeT6oATbFDwv/q//o9lZakdi2i+8AZBuak9twDfEDst61jHxBKERnNH\n",
              "vg8Xv5EV91Rm91FTeWxmUmvtJ5UDWMB1wNecMn0OGPBOI1gLIMF2/fYRfNkQF05uVcZZIqTeFRPj\n",
              "j728x6185w0phnJ+eSfTjHkj6ADKJy+/f/zIE//Py3Omp7vEEV2t97MmBkA8O2zERQB8Vdps5+Ic\n",
              "FPgt6Ufw0+eY+aPyfUdfGrInE83vEuWFs5s3ysuff1aOKj7SMxK/WJk8w5PJDejo9FQVN5dbGIRe\n",
              "DjcDu9V8MpPVYjh5v/7sT5Auf1JpS2JlqHykBqkdPuRIfuCWTXQN4dC3/0gr8YE1z0s8ZyOMeHg/\n",
              "UJKrazZCWLW57GXjbyrn4scLj7sYulWrEyKNEkrBeHCkOmqS368XB7wNO3X7pl6WoIWAAAAAcQGe\n",
              "g2pCvwAFijPFlSmazruHbw8WxaGaGmp7NQAkGs71cUaVxOO+BE200/v2sFB3b20lHF9BkTdgkd+R\n",
              "IxxAxq9xHzpgucVHjg1J9HGPYLpgZtd3IKJc9r4w8fhL0XcqQQ1Q71tIbrXOIctGVaJDuSgFAAAB\n",
              "xUGahUnhDyZTAh3//qmWAANoRtjwPOgCMetqFLhq5g63voohR3xY/v+mWMJ7Vqciornf2jlY3OL0\n",
              "xnecAQJl0zjA/eVil1ex43F8KTa4PPjL5p6VDUr/wfVJ4/xYKn7x/nk2M93pVJ4Chu5EHWgVWh8K\n",
              "RimQ0nWu7yhiyPl+sGqNg8keXubkPkbpFLHrYlur7np+sha1lB2Ec8iiX1TyrtCZHFEKO5yCApRO\n",
              "VugZsiKqf/yl1oC6Oxh7g9dwdIgkmkTcXCNs61rPoYudnsZcylQNY5WvPeFPlUuXJGl88UjBms+k\n",
              "MvIGrBT+p1Z7MUujC4sJnsrehH0FGOJ8gVV/k/gWFaMPBO+7E0CCzz9jrRJHWrfQEdgSTjiHn4dJ\n",
              "tzAM2fVGAkMZWhzK7FFeSrb1ZDCWzGcI/L+NVfiUDIw6eaVp433qOisyNb62qrG1Pmb+5or2Sh/R\n",
              "g/8H4HY9vBiO/2nHFKDf/w7fefxbsQQqTO2nnuqApogWybISiHEI28u7meXBy1j33M6LzRqqIq/7\n",
              "Om0BD9P0z4ivkxF5coM75qQ8UCVQphHWMSpOTIqCWcrctbv7YJ9L36Mr0qDLwkVd38YGaaWFYQAA\n",
              "AaNBmqZJ4Q8mUwId//6plgADZJteO8W6dpYArcIyDskRLJ6eG6vhEMxSXum0xch+C+QmN5r5Nhi8\n",
              "JTlXPiNPCsnk+IUHLjmr4K1vov9P1J/QgSeik86OqDMTiXibSGVXDy2WzB3IIY5/rrTOVzkPNnUj\n",
              "WYV/cc85is73/qvJcVX24nFNi33uFFU2v5+zK14YK0KaDq13dXaUenzEW0c0FKcgmullSr+ikPRE\n",
              "ch9gS/KnQmdaNP4uH+p0guZ+gTtdLbaQKIVqqCjasEczErPvVVnZYvrXl7kBlgn3cXqNg3B82+zx\n",
              "LNP5dHms7Wx6wDN1bkAlycc0weHZxIhmP9gAMTNu5lcerVYo2STGoTOx0+mZihNxMgzCKnZ888cF\n",
              "BhysATxwIxaIO5eB6wVF0Ga4ox8uRVeGglm4RWeTbOi7Q1TQzAJSoHKKiIp9ZIidFDz9LCA2Pelg\n",
              "ouoH4kOWWIT5ydAC0muOUm6dOtAUTUfmRSor5UAfcRIl4Os/e5R16mCWWMHRfYMF6CLFH1XC6G+O\n",
              "3siOaM6jUoWUu9bZZpr5ytsyHorJ8QAAAjZBmshJ4Q8mUwURPDv//qmWAAbMoeRU0BCoPb+Ya3Q9\n",
              "FQ2Eps5nqrtQJHj9eppwVN60Lde/n9hYowsmdeu6uZPa9K//COIAHXl43ReRbswF1Psuc5s0fyIY\n",
              "AIqPYgyl57bFv1T/L+kKXcgz0BoC0Wlhe4YDOiWO9NPgXA2Gj+jw+9sSJC/bUceSj9xys7TU6cA8\n",
              "yVIM3ZT8TWDiSUzdJ0pKXQ8iDve90qqim6VdovEPdilJiRECktMoBYNOyz/+sJHwLXPF6XBVAgSa\n",
              "y32MMo6ZFgz0L44dZVDHoyyvd7Lrr8FQVoGP2ZN9Uzw7Xq7AeiZhomOHWyX3kUOTpf4cru7YxGe5\n",
              "mH6Na3LJLvnjN0ZEXSwn86Jg4IKPekTKqv85r894rL0j7eSaLSu0JtMza1Nk2T7p771si1Ba4BTq\n",
              "XQnBziH4G51w/ko8qf37j7XmhP7BD+v9qadVbE+JBS7FC2Pe6Y8zMszPCoDi8NkVFW5kmzDuC3Ix\n",
              "4ztHfUixbDmdXIWy0n4g/KdLVxA4BotcZLFfq3m7t1Xhc2cfo5S3vGrKNH42F8bX/sBTCfzS5c/r\n",
              "IG468/WxHHAbq7OqX1y8IohLySNuFgEaoVjj0OTo32ocBojFZBLzTTgx8fPEog7J2uo8OXUep9ug\n",
              "QEcNHZbz89+jmZD8qJEsLgI/9bpdf4Vtr5ylAFHOsq0JmPkDccT7f2t5a9eXqvdHn6BwcOLI57a3\n",
              "VlPZCsEHdCfvusmhrFhgmTEvjZFVgQAAAFQBnudqQr8ACxclbxbk/22N153MNGB8QzevnA7bdxda\n",
              "DdI+7yj5LcLJ9LetTCS78eV6lG1J3kyUdA1n6ODIFgA9SAWvpCFeDxut+td2CL4k+0FhZ8AAAAHH\n",
              "QZrqSeEPJlMFPD///qmWAAbQdIY1cAKZU9vhRE+n+U2mwjKFYg2h8vLct6RCY7NwrTtFg3jn2xgO\n",
              "yZ1rS7zyaBp1MKwO49pdMwCMAg3n3rFj/Zl2dNVwzTKBNKmpEnu8BXZ5kdmeaB6X3HHfP0cKRmvz\n",
              "cWYIHbryLC5J/3rM9FUXRgfX3EAYddQHdS5+cIhPt1yNBXGqjmG7LqcSk1S9aOfgA9I5DxKnDevT\n",
              "rN6WhVWOLJSC01ucnhYJ5qWdO06W7Ksz77izQgHn1v7eMrsCFeiUrVrOyVeTUOf7SwFf1le1/LmE\n",
              "vjw/4pxRXiRjZmNbySG3MCb1CUE76HQA9wn9jwlYCdudF/9ywhA8FHawbPug5fT/8sp+mA3Tzxvc\n",
              "5iPnLblg7t3GN2sk4sFQFT3RN+X64gAFf4zsjtC6s9hksN6PZ0j7lF6EGZMfnncYJeiAK/PoR4Wv\n",
              "GXDAawb/c3+bfEtXcI4t/g0RI0mATBXCtteFMTnG+x0ur7aN+iV/NagC/ZAsK5MYbYU1nJ4YhylY\n",
              "ZXQBJi5HsUQpHfoh5AWTm526BnAKcBAi6NxWxblUDKdIt/5SGBWSA5ME8qhf57p7qdkARMoRj5gA\n",
              "AABSAZ8JakK/AAsUYff0NrXDLOHNAsTNENKZ5hanm3nObySwUqW0Yca+u0uzL+ebEfHdxJ10FhzR\n",
              "XpuIXkRrtRkKo8yoMRLN7fgzAX/nAC/iyoGggQAAAkdBmw1J4Q8mUwIf//6plgAG0I6HYue8AOHu\n",
              "LOmko17rV1FFqUaD7Tv9rdzOfmuSPM98jrvlxwkN4uIxH8+0M7+vMRKXH8Hy7W4zrRT52lPHBlQ1\n",
              "QWlVkqo2yq0H5yLZL1c0aq+XQzz/pmoJsH9gY2ZqvKiSAwKgR3FupcSCyLlLhtRSYEiXBLH9S8Yt\n",
              "kLEon0yCD61+ZmpdvDz9SFY2eJKAWE4CTI1Psi8ikpQ6pyp+QeH8A96q17QgHW6gQsWgCZvA3XEB\n",
              "7egmuW6xvIki3ML/MnK86+EwL7bV4TDBquNkPbKpA/Dc2gc8RJXLZwZuQaEgtyh8/+gU7WWRdB0z\n",
              "yf8I0rc+vrvz0e9YuOp//olyHHDItBaXFyuSkpmJigq1ATA0q+jbv/5Xp2t97CjllVdr/gnChWjA\n",
              "aS/jjtK52g4adqKrCH5r1swuNeLUAYHDbxqWj3GGSijVxcNs6RC5yFFnqc/nrsPDPGQSIDhuuBAg\n",
              "JwLAF8W5KXNMXfAf4NmoJeNIZFBpq0AqBDfJ+oerKvS0AqLRxGCLMGHKNb5/BAhnHIgb2NxxaJuM\n",
              "ErM2IreAvv7kiSwEUFAv6QZHKMqRTnLeNDpBS6bMN+z3EAZU0DdGqckKmmUGiixuxlkbcu/bdkCI\n",
              "BXNqU0hYoUcnP06VaJa5zG7TI9daEqC6aARirXDEXyKY6n3rXEOYuDxESoOaEpTbKca89A9bYhQB\n",
              "CAN/s8WzJIpIYfYNiWNC12IWEFNeVMBbYQtF94mBEqBAIPRHeTy9YyaDQ+3pAAAAaUGfK0URPC//\n",
              "AAfqfcdUuLRVwUxhHshGQycALXJ5+KxtQZ1BZOCBTmkQX5/tc+Z3kYbMLnyhm6f3ELLCP8KUijQC\n",
              "xmumolt1mfmogNg30oyJNb9a7PChfMRWSCKeCFgbZWAIJcYtEWEaYAAAAFABn0xqQr8AFisDPv38\n",
              "f0xCr2mpYrhVipc4oXGmjSqoN5+ivCOw/lcG8Gd0DMVnLlhh0HWI5LXq6UIjkvx68Kx8rW0feb8p\n",
              "aRf6EZVb2KiPyQAAAs5Bm1FJqEFomUwIf//+qZYADZVLIJQABtnxrxfLYWst05H3T+IRRcjvGcsE\n",
              "3tVZcS2Ue68OZYYodBU1hfAlofmj03aVWojWXaacT8/ly7q4ivqNeOPuphr1GdtUXqxdWbVRVyab\n",
              "1dbtPZnywISfabTYvk1Z6cxoTk+dAVYtaOREcRcLprgZ1ljdGKfSifDXpQGsgT0wtHOy1qNqYEaI\n",
              "NtwinSz2TW05qbV0YZXsY0Vl1i4Fx5l8iEhxY9MY/qwPHOojL4bEbk4jJqUD8TOcL0T1dZx+JrZn\n",
              "okkUtZLADyEj1BcrBW2egY6h8tkmgnNnt5gN/zXdEivcqib3R8XZhZfPEpkea6SyBUEjio7lAJcG\n",
              "e8I8f8iSdtSm/GpsJG7i31FHc+lAEu0+vWkixKaASh4aLYn8dH8OZH+u13azYvQ2/93/JGpZehkp\n",
              "PHONXwSAmNSzUnwulLmD7lFGBJf70FLB0f9aHP3fD61/lqTaSLJWDkMUQfiT8HMzpYsRxV1H6D+2\n",
              "+hlxUxvpW0e3Spn8pWXK2EW0ysUA8+QOVqiBtH6Su2gzjEcz4nY7+37FFkYpq1516aAtW5I6vH41\n",
              "grEoTeCEIoYFD+ZSilunkJ8M2KNx0G73zr407YW0HQXoMTSxFqPHWL6KRWhV/pn3h8M6AWgGLYo5\n",
              "irrKvnCYFMZjtOV40wt8YYOMFMcrzCYBfwAl8va4TCqflVLSWPn1H5HLnDqUk4MzOWaUQAaSlBZq\n",
              "TN8UMtIDBuSvm967KENwb6f/uxrohf1kZ9DyYg8uWdPM6FDesrt5HcLzGy8FtgjtHMUZOYcLe1Cj\n",
              "rmh4iMIIokO8nuxky0IQzQOqEmn5Wps4Hf7GBoK7RTzKqUiYjqvDb0m0spDHrGzNNDhMWj6dCXfC\n",
              "vB1pwpPxJQHoxn4CngjoYt8zs2qQNTBgzLFfKitUKH/+agrtPx+nRRGL+dWYK+fBAAAAkUGfb0UR\n",
              "LDP/AAvwxd5bTtS3wFBN4LO1YXzx7R2GyttH72WWJzaDbR2F4omr79rLBIGzyEIwadXwV02NzPbq\n",
              "20IM/mqWo/LY8kc0EQd91sX441CUASAfWwdAO0MesYFgT48/ifOux9F9vPkqI9NYj3fzI0UBkKfJ\n",
              "mng4PtXt1PiN8onXytMsIuaeTttoM9y7oZUAAABBAZ+OdEK/ABXrMmzKL53Kc8kOq4SRFb+UqGXy\n",
              "GghmMsJnJExRE0UI+d0gGY08QcHCn8pix24+59tyfpiOWOv1FJAAAABMAZ+QakK/ABYo5WPXs+Ef\n",
              "XE526pqoBV6j2VvhtiAnAx1/lS9DZuFj7lHPG8RcXUKhXxUfRx7I31J5GmTp7c8c7jWIcWbHs5C1\n",
              "11xElAAAAiBBm5VJqEFsmUwIf//+qZYADaEclxIEMABGAeWEXbpucVL7EV7nsk6/s8/4c9WLPcdB\n",
              "yxPAMw++kfVxaFnZsHmGAMKRI5rmiJm77PsoVsOBaxb2y8iIkKi7g4axvKOwJ/UnYrLtJg0edv9I\n",
              "4cul2n3g85Vdwa8U9sBem4KXCTB5YLx5fNH5tHW/yNIFSJfxsJMryr1cKu/DqPF5yyA9gEiUiUlf\n",
              "ybdVgN3UNUnJXlLvXO3cYbbBATt4gqRDE2IS47Z0fcWxI1zMntoTmEr18+YvEnnSa4ZkhCmagq+H\n",
              "bdO1rp2UFwYx+hIVSL8ie+knlwicJBFJ8/Im20pz7vWv7kCIrbjXnC94FoDp8efwvxH2ItLFauyP\n",
              "Qsn5D1DIGt/B4g9/rXN8rIJpu/gBpfaewyX/ukQtydwOv4T7BAX5/gKJIMKkld1pvXNdWsu/5lae\n",
              "w8c0ZUSirBh3G3MnOYSk4yCSAcr2zdaepPXh82Mp1VzN47o0Tht2+QKk8kneSVTJxuncml2LiStl\n",
              "gr5scVKgz5bGqZuJOI7YP4kUbS5eqg5DVJQYLkg5/vJJCvufklIcuapS/0Uji8wgSEIqHzrLdbJ3\n",
              "12vlt9zcWpHaXR/9uaNoroYy9J+xGzXItgyhTlsnZYUzq3VcnVUeQ0GwA4SU2vGLCNz1XckQvApf\n",
              "rMcCfcSKOPWVYZakNDCcdiea5C8JKqiHBJdq86UMCK6oLSljMsvBAAAAXkGfs0UVLDP/AAvqw6wR\n",
              "VgP0jzGt6/RaCMAGY4Mlx7O6YU97jP3DWD6dc4rwFjlSYuhwgDwWiQoifZlt8YQE4hB8olbZ30T8\n",
              "Cx8yXKZfzCgVsHBZDk5jLT6jO8aDy+gAAAA+AZ/SdEK/ABYhg/pMtw8gT8TqCxjpqbHN874e4MOw\n",
              "dBT4vQWfweHT6B0bdWFSTSwrxkC3yYyz+SJRbsNxRMAAAAAtAZ/UakK/ABYo8NjSmgwHxVi7XVs0\n",
              "j/xoq6h9kqkfdsGAQAnlVDch5XqxVC+hAAAB+0Gb2UmoQWyZTAh///6plgAbTZ/8I5WnERK6bmDb\n",
              "IqjcRRo4SeVp6fSgbDiCls1Pv6WgCd+5QEmrGXV6Ifne7iViTv9kgUjrK6KQUX0beyiByejwggEa\n",
              "07YkS+smIWgc0SaUdvzwKozAYLezAczhA8hwBpf4NEE5opWcbQdRFpEZMz8FmQRzCkUeJUso3LBW\n",
              "5WMEFA+IsE69EacrZ8npho+wGBump9LcUyTovkKCo5oVsk9qx+xPxeiRB5gHG4FNGzVsr65iV/qq\n",
              "gWyZzOU0Ym+nfC1FMkX5qhdO1i9evYlaMDcNNH1mrv3n3sh66TU8rOokWwEzjlRGcgs2hv8eETom\n",
              "B/S5fdrrtMgXbGG/HFfNFHQkJhr5ekpRshixmNu65Kj/gUVGFEV6uGRFBVQFaC/X5jA6WzvsoTYi\n",
              "hPrIanjMKiRKiZvZ4TbOq6kLJ7q9LvC8lg+r/ZS/T0PKLEHXuxQaqX+vRn/+DV0hzLMA8feJupSe\n",
              "Fk/QCsmYgaYz5AijWzWOa5oeCi5BpOrP2hqeHjP79a3zf5HLmAKHujy3oJ1LWQaw0UzzLGdW/brX\n",
              "YnsCEAfW1ExuC0FOb5Fs3919h4v3pk0ypE3GU0XlvXR9JOmHRIlCqsUmpAX4EYT+PrSs6tTBffzH\n",
              "n4nHYWCMiC39rtNNuFJGp84vn6FxHQAAAFZBn/dFFSwz/wAX412bvbkqrrQkfqI2F8BgAY0zgXiV\n",
              "hCSX2ujPERTPz3a7MA1YMftVdCmgH6qN5UMS1lQwJtQjzp2fNWvHsShiKEW/LaryIQXzt9UywQAA\n",
              "ADIBnhZ0Qr8AFi6M5zKj7PflHxwBi/oyiHogtJZU+4odkhasBDsmw6sBKNlgGof3zpoOuQAAACwB\n",
              "nhhqQr8ALFX99SpUm3dTLvSuxQCKw2m2rCqvaXm0CJvLHJEJPiu88mBJwAAAAj9Bmh1JqEFsmUwI\n",
              "f//+qZYAGyqUkhCATvSUrjR2RdgwbYQAY5CmEaPqCy8RfedwRZyVLykBs+TL6JuRsde0aIvfdSYJ\n",
              "7UJa39nGFByrLtGYlI7rpTcTpktld+YAXYf1q3A4CVcumEEPfzI5as6Nw50OcqHG2y26N1RBnmX3\n",
              "BzHKGTRD8cEUmihRx1TNXR1As8Y+b8WchOOLPfJo/MWwEpJ5rSAufm69B0lWXBmrsb+8xckkpjR3\n",
              "eFSifhBe4dveyYm6OLrSEol7SYRGGJWNsR5peN6T+0QY0KJS6BPcxylhLIBHrB+Fp6xQlR+ijxmp\n",
              "u///MqGtY7oIwLkIKhQT/mZLq8bF5dL7+r96N4b9o30kRtfv1EQS5hmuXIWwUJfDcXtq9HucUsJ4\n",
              "nPPBaJkl7ytItgjaFf89saKKHe4Ew5vkTHdRr0021/PLMT2W4/6S14h65ejGTcs3yvm2h+SqQhb8\n",
              "Puj+f1sS16b/Zq5Z2f8/X9Hp0JFdz6/APJZkVvm2Y81NT6hBordS5hHq4TDFhzE4MK2/CAgHl6/4\n",
              "JOHdd4A4lqhx8t8qc2JcaFZQVcCCmcVV6joTqbhLyfZSQYAIQJ8iamT3k0M32rzj6dLpTktR+2Tv\n",
              "706RgINpyL2NsUL1XagZgAX/Iurs0kJNF4kLmCbioElcHrfKtT34J5e6+J85Bjb/d+aNqWuNVWFO\n",
              "7qnM5azopPIOHTHRdBGv5Ueru8lk7FSYSsMhGn1ZZUkfZ3sEJt9uOo0I3CQt88A+mMy6awAAAFdB\n",
              "njtFFSwz/wAX27a3HgrfdF3Ib926aq/w5hkWjVCDmuTUcWcSHsmPzTr83aaOVmSi/lEJHdxxW2pq\n",
              "YQO5MXPkgA/PYnTVGWycv5deRq2WWFs5i4Y/aMwAAAA+AZ5adEK/ACxdI7M8/W5VXULyQFaweNvW\n",
              "hX6MHEh9szh+MPjgboYO6T5d9QFBFRDwLhNe1gyDa9jZx6PonZEAAAA8AZ5cakK/ACxR4bGlSLvI\n",
              "R0bTMRzMZ9zSWA6tu+k+/UMGtZjPNLBmP8lUNPpMN+/kQTlrr93IDbmGaHpBAAABxUGaQUmoQWyZ\n",
              "TAh///6plgAbQjiefLxQAsLHU+6IfM0Mf1GvCUzmh/zaSQ1+hqmz9YTHnCF3BjBgSCJssvI3V7GL\n",
              "TGffmCSvMG6S1ydWeLAJUxdJ9XKFd6IUg/fkP5Hfn7gHpRVchE3DBtoG07mhXhEwwjxnjdjg0xNO\n",
              "odVTv/npyW7mdrEGNQHu62QuyV5snqaELzHQb6TXn0jiJNpW5dcpZLdIs3EQDfV60dhJtJ+QvBOB\n",
              "IB0C7Fgu/anLsqdgETVHzz9C5BbAby+7EGJCy8f4/zbSKwFzWHLE9mEeNT76LcxoDsG394BYU4JR\n",
              "8+y59/t5eREYQHznO9P8HqwcKSSgB1S6hRZuTw0RyxtIdsuhPpf7DNphi2TVntDoZfUZ9QhKbAzx\n",
              "IUnAx//XSzdzrlVGTlc5gP2DkQKnFk9FeosOST1lVo65mtQijP8xRdMn4dqbNSxN+KGY+zUYcIUD\n",
              "QR6jTnA+4EuTnKzpGE9sskxrep8iNkyU/LQfGBtKuSyVjOXGNxXr0tMvd0KARtavHzcZQxLDLlW4\n",
              "o3GmmDsQL7yxXdTbe51uSxgH2D1c7rtcpagkswxTil7nkNgOibSnU/2BctSvjAAAAGdBnn9FFSwz\n",
              "/wAX1YhKVVgZS3o8oVoRTv+5nvpXY18dTK+d3VlqGVImPvwu8cFVESQATBQSGTExYPigUse8cQ8n\n",
              "T4DK6+OILAAzaEV1NBKNgkOv3qTzLF0X+dIhfCWI8Jh9RtIjAL2AAAAARwGennRCvwAsQwf0mW0z\n",
              "u11LBhvHFjOw3uhaHv6+2h8Y31d3uncJ7xYkT9gcc8cr4mIJfdwyDax93XUjA6IZrO7GPKJUrJ0X\n",
              "AAAATgGegGpCvwAsUgyevVeVE5oPdIfjKQjgH/i12xvO4aAE5gouVNvmcQ8dJCVE9y8A8R33MXqH\n",
              "c8Z69RwIHOtEwAKkUCL6WXNxKUPWqobBQAAAAe1BmoVJqEFsmUwIf//+qZYAG0I2x4lbAEUNmbHs\n",
              "/kBsy3Vbpd9MN6fk7LwVQjJCUnh7JUXPuyhJzFoV9Wb2CwCDBO+iNidK+Q59GBpunqBRKX8N9a0L\n",
              "Pgb0aMzCSGH1rgMUTUzXPLRnc5kJh53MJNSOqhAxQVqjuJDqXsoB7eEZmFe3dowiY8bLartcbs3x\n",
              "K31y9fwKEW/1SCwktKFPMhNndgn/54WnkKwJ5iEy+niGj/ZFRHjjGr5rhZoSvGwv78B0j0/LWpLK\n",
              "47V3RLIMnfJs4rpHXNJLuaE1NkCmbp4fYnJFa09UMiihPc0ZvcPmazPkdPY9yiT1nDF4gPZ2/n1b\n",
              "cr00kcnyeQ24IkW9bPYwzSjbSdlNHeepTxCOziy2TC+X3ZSyRV9t3oHMcWN/6zqEM59GFqXokEVB\n",
              "FlZgRjpM2qr4msXMLfdSg+FZa7Z6F9ydziS/RVcweK7Idh9yiFBP7zLdkEoHdrmGzpnQSyjlOh8H\n",
              "ngwh5StAZw9dFrDk0M7ht7m41VKtRvEdA2FAgxFnE43/tMLP/V1UB2ewH0Hg2QOCWRBWxKjjIdoa\n",
              "kT6LtTL09AM0WknpKCUc99kSkohGw7Spwvf+EgA6WS+AxTV8dRqoO5Tc2T+O2+mX/8TvO5d692xc\n",
              "gC3+j9NAeuyhAAAAX0Geo0UVLDP/ABfkY36hShgYePkSt8WvUdwT4DJl0tcZwMTB6VlkzOd+Mpx3\n",
              "Ue0lFkhl9eIAFtRBFMpqjQVQDHuNPK17aocFZa5NZzFyZsW4uMoy68nCkJwgbOL1nD3gAAAARwGe\n",
              "wnRCvwAsTHPkdow5U71PPOTMjrkTGtxqfQlp9kl9j6QBrrVswAAV8TWL7hT5E9EL9AR/M0aDM4Ud\n",
              "yA+BPvP8YnSsrJvPAAAALwGexGpCvwAsUg1jFpqHOkVATrIikQwZGC7ZCZrqC8SeiPgypxfbup63\n",
              "8HzEqBgxAAACE0GayUmoQWyZTAh3//6plgA2ZQ0FmgkTW4mropL/meDhblJQPhxOo9AJtMbZeroT\n",
              "HO1CmQX4R0G81HrdAmarFBSz7ivsFTa31LcmYYe7wxd7iUCR9muHxuK6B5UAU1fWnmGIpRQx7Ez3\n",
              "sWcsGcierxj611iEWoRn4ep/E3dnNHeoir3Q1JXn5k/ON3nap++Z//znWKvId+CB82KBYATnJmK5\n",
              "vuB2REpNnBY0+4YTfcQIWs8m7A9ykndeDjq4E1nRmCmYiOxjhZH2iWkOzf6wynB2pU2NWwyR4Sm4\n",
              "l9o+RkARt4wABAkU39XfTUPNaNYMtF4mtAfXlTeJisUegqL2GoFqozf6qnjCMbm63z5eTwfH+N69\n",
              "wPShuXSWYUP1Cv8DZd8HP+glwRx1cawMXSANMd72A07j2vRCohDRGG1SBkKrfysay5W61TZYuf5m\n",
              "QWpaMvRStcogd2xp/btTEUWYpx0SU1wwDQQ40yBlIXwEjAIvSpwSJHT/lsR/NIFT504miiD9VG+O\n",
              "VgG004ixNCniB7x/hlBu1jAbMOgsOh710EQUow1rcTp2zK9iws3nYM3CIMn+10G27BX3GEXzW9nU\n",
              "ntvgL3cj7seXMpKMjSBMareRjYPgj6768MVKrZGhjCbvhS7lL7RB7yJt/vZauNxrE/ugcvrtQ8fR\n",
              "GMhZ+Sn8/r+LSFLShVV/2DdKbtEjxJQflRZ6xwAAAGFBnudFFSwz/wAvxruFtI6mqlLaqm7DjOoB\n",
              "EHlqq3r65obNSKIVSVh3JLXFZYYAKiDmtR5iBIFG/P3tyoqOydnmo2/+cYb4EXK1bovak+vb6vkI\n",
              "ndsd48LflRLqCPrBFN0JAAAAOAGfBnRCvwAsTD8o2obEtPCHrJmPAbqmH3w1/R+nlgJd0XclClWQ\n",
              "WVz2oykuimF460GZcc9MzmccAAAAOgGfCGpCvwBYpBp+lZ/2tGgZZxV0UVyUiRZH7uJzwViKUAQl\n",
              "b0l/0qCiACMpIn/jBhPtXkgUjbCNgZQAAAGDQZsLSahBbJlMFEw///6plgA2WBgnEiuWnoAXDTlJ\n",
              "mOfBJ8bDs/TyjpXh17qANoL6zvav+oXCaub9NLSeea5Ttpxv+KumbEuQcN2v/LbCCBbcDpNpTZ0w\n",
              "XsTMgp9GhtMEh0MIduVra8qxCWnN7FYVO4o5JCbHbbX+3ahyjb5M0jgYyTbAe5C/ScCoT6aYw/St\n",
              "xbTrNDePwg2gc2/4a3LZUjT1eyiV7kLh0nNoqioj6XwrdHokt5aBF8Nrka1xDE7eLdlp+Az4ovte\n",
              "hd7Ws3GX0P1fpl5D5RV9V2j3y/44ImcbIgjNUFoopj1kDhZrLVqc+XIU5TC0DKRVwvME6IVM++NB\n",
              "uYDiwCyIcJCbF5X7zW9KitmXN+g0C/imvOqd9xsP+tfaXMGIUDWoDcnr28kESRcYOg+5mSaP1a+A\n",
              "MKRg+ZgHOc/4HQhi4EzonKkR7ZQju0NGA2xNHG4ztEq5EEcwbDxER6uiOULJpRBhb6hEd7cSvDx/\n",
              "ehyW2k1SwX2DWnITJW+9AAAATQGfKmpCvwBYpBrP68mGLh+ekMMmwXMGXR4YVqafgY2sec51DsKz\n",
              "7rWRvoXA45wyCAOExBhoOISPHJvCBv5Fj04HNFjJfFdqKRGDeQt4AAABxkGbL0nhClJlMCH//qmW\n",
              "ADaDoQ8uAJRJbi4Vs+y9QCkitiDGSdI1A46BFPCJjJ7mMw3vHZM7syiOmGEucpGZgta5GepOiP5d\n",
              "7yFuk3fx9xyqCL0PgVGD4qEKl//3VXZJbqwGLhQ863halz98GSAJANJGVfpYXU1FYnrCTJZFHgku\n",
              "+FizD1pQNqJmHepU3HinUJNWb5d1Ll/rGRqQCDMQo9j886a5F3AP5++oJAjC6QMHskd6VMUVcckH\n",
              "HotD7BuPPuS9XHcuHbQvafglPFbHq4XQ4daaCRjSDKO02nwmMBmcf2nUZjagYRQjv+6FWR/apkZI\n",
              "7QdCJlxxhsudiVUCqsOVjqGPWbvWZTiwE5gLLiISNwgbuL0huSbJeJrWhEan/gHjEkduQUjilq1Q\n",
              "a74Ram2A8LuMK7CoIw8ZwWQqGvBOAwokZBq+S2CR4X2nBknoqNB4DWpJb5oLG1wpuZn/12lcfTQu\n",
              "R7xTDUdZQJbPf/wWXSNncAwvte3fByaI9Kl8zi8zOUEdWdKQHIwPIffFNvQ33aaE9uRPZen2ePcV\n",
              "rPCZNXYqtZgKhkC8fvxYcYpY3oguglKynOH1ffpICVg+HJniQ5PoUc0AAABrQZ9NRTRMM/8AL8jb\n",
              "OT7vpX/94WviewIyiYutBmj7STKFjwriabUG0wuj6oj4GJNFbYTaAdllHmX2k+kHaMuwAlOxWzuG\n",
              "8z/Fn5e+AuiMsvvu6sH54ZvLUGqEHVLlEBlz/wf0rhL34ZrTqaEAAAA2AZ9sdEK/AFikhGoxa1Lu\n",
              "YnPXkM9tm914peBZyDARtz9QQA7fGJqkwIK0WmfAt2kHIYmTKCl1AAAAOQGfbmpCvwBYusjx3Vcm\n",
              "U7xbwt9lJfGch+bAmaqKuAM+TmzOkiTrVe46qBtiaXKPYHCG6GBexLAOOQAAAchBm3NJqEFomUwI\n",
              "f//+qZYANoOhCz7PsidAC6cPOup0l29QD0IEosx/Y+y+JJDmgJW4YaDKfUS1g27t+zUS8PqKdZey\n",
              "zjBiuQFMP21FIEMbXX9nl6fhaVN+JqjoyV6DY79dcfDohNPLlVqNedbCjNFt1UGPNTQ+Lj/DowdD\n",
              "f6cB8GU1Xx0ZSBHGTdYYIjEX4lLL331iRmLhvNpxnrBwQJQVqhBIsfCumc4oJPf4XuXkRDwroLKi\n",
              "joZaPx5/M5mWIdsk3/CYf8qsH/pQsd/QQgmCD9axLRnaUtCepgCNuh55C/ngudCY/YGqIi6yMMLY\n",
              "2c4hyNpVMrvbene06xf9BAPdJBxudOtB636e+f97elMHlB2r7AEPPIENMyKr3BLf9Rj3IIUraaTB\n",
              "s8DCE1BHVnGM2QyLRzZS8FG+AD4FkrqJNRHooD1yW2eK415KlKe0dhqse9o//06+mASgIyb901R1\n",
              "VhAl8Dy0KkkfDrNmQ7Vc0kdhGyFUwQoGYIbDDz9LD0ehplBja+4paQfQsvQx6cGKbYsW9Ha9qBnv\n",
              "MVL5Bp/R5IhL36A7hGHhg0dK874AEpRJRaoZm0ohd0wIfXKFrBeQXVJMcgGeO4AAAABlQZ+RRREs\n",
              "M/8ALyi9bjUhtRqQ4aAxnTkmfyBzL3B/GQWFspEG28lvNeWG1mM0oNq6dI07Ry7e1IW32FZv3+fd\n",
              "mJr60HpJj2Vw0uTTzHn4joVgC460C38zDBzfyZVfEc2+uPJ92p8AAAAqAZ+wdEK/AFZTHTAu39Az\n",
              "Or5hjyP/WL07XqAarjKw5i8HsDrVA49bKHFBAAAAKAGfsmpCvwBWbA5JfgWogsoBOuxqCgkcWprb\n",
              "2elAMXvrlcQch379U9IAAAHOQZu3SahBbJlMCHf//qmWADaEfRVDSABNOGweYkdwMkg2TSpBYDp3\n",
              "MIlC6Q90gdeql1SvVXkCXPmY7GcCG3RvyojFWpKKW9ON43m2Q72F3eFDa+Qa0EeKS216sWG9W8Xd\n",
              "MzedXW05Xgha+qnFI1OVoH+ORKcAo+NraffDmVtvMO5iN4FUPBUdwlysT4W9tnwMfLW2TYnSfRCn\n",
              "yyPDwE6v6CiNQaggfh4a+I+KglMs3w3PWF/0Kduw/wyjTNj6cOOzC/AMw6F7/O7nDVTbx3EM+mZj\n",
              "/R1w3CoZyLNU8CB76KoL/6IRg9YP4G01ZaO5+NJewjV1fYdJ+amqdm4yed/GKbXNFAVu3gYxrcnP\n",
              "LMPCL2rU/O3qskHc9mezLPHLshYO8CvM5nhWr1cZhS9mh1D7aJB63NP8Rs0VVbhp+/Eb3pButHW3\n",
              "Ut2VChuJtCwogZe4rTJzBPNBHcT8SrMv8McXwLoKJEj0lhikybJqJ1ags4509q26AKrtHez3OCCP\n",
              "RGPrtlNzfZGeRnWBtBjNqQxUSdN+dQfgVhW6ZpdpMt76q5a+qmTEenr7Rg+CBZjUxWGGt0srfI0j\n",
              "FYCWhFshvxtyP17wFIluJ9bjUu2QOTl4AAAAWUGf1UUVLDP/AC/M585F+VjlqmWL1adEluRSpcpO\n",
              "1CXzeCMSDJOEVZ2a1WgdYGZk4u3oM8AJ2AAAAwAA9oIllq+mLIUiwhrwY/kmnvob7KzC+3Ap54dy\n",
              "oCOhAAAAOAGf9HRCvwBWUx0wJjQkxOjVex+w1NYWLPtPXMmBSsiTkQMBzTFbMEKH7fAbo4A9wr88\n",
              "UxTD8nmAAAAAOQGf9mpCvwBYsOIgQxWsk5g5zmI9lV8HhYzwBMHPUPQZXl6uCprXp3+Z3tC0BYyM\n",
              "9BgbrTAUZEeDgQAAAV5Bm/lJqEFsmUwUTD///qmWADZLNkUT3A5rqpoEi33k9ohdJWjfbMAoSh1m\n",
              "VKpcIjmDu4uIiURJ3GNfizduq5MbWPpExG4S+5xMp66RbuAeVxGeoSMErValbby18nckkaIVjVVj\n",
              "3TdI7jYm0HyZb6KOKmt6UqKNuiuHbKHcnD95raGSgm8oV45dE8zxUqKyZWU7Yv/AQfxbavU166GC\n",
              "5XYq0XfAjKVLwtCXw77E8+HDFSPHvdnALQFrYRYqlNckO+yG2/hTiYuIBZMk0B3eu9eVeEl1t4Z1\n",
              "s2lqeWBbqsFGJzrFBJkrqt03ifOLlLWQl798474VO67zotOsDfikDYwx7mnEk/sj2LvLYQS3f41y\n",
              "bI1RTpNK0MVFWbDKaiFwjEhDLsqqshROEnL9viTBqp06BkTjj1OrmiB+QQ7c3+h/SvT6LYvPLK1t\n",
              "fuGuc47jbqUfZBeYv2hiWLdQTJOZgQAAADMBnhhqQr8AHbr0dfNV1FU74uQXmuRpS5lS9v85yIXb\n",
              "uAP0OdkF9FK3N9rUxBmPrpAknsAAAAHaQZodSeEKUmUwIf/+qZYANlU0RUcxLnNAMyPOgjoggq90\n",
              "pgveL5TgNFslkj/1fEYDZBEDtbn+swACbj8B7J7/3C/MRaH3CQCUnHOrlEPKMwcMs5PVygpWF37Y\n",
              "b8yw9wW+6uR0U8kWJYg7dQBEZVc83S94BJ8IzoQKh8smbCmS346cMjAmlLatQqZluplL7vGkphjs\n",
              "8AtQKkzn05afKlejnjB1JbgFaELNAQ2p1wxEh6E8NZc4r+m+huUAQiPbIukAvrB8SZ1L0QCnvbjb\n",
              "K4sOsCQW8ZvOgD7xnm8aBPvSjNbH0xjJT/cvzyjrtMexsx2mFQBPm0LKNQvyZiVnJZA10EkgrXg9\n",
              "Rj6BqpHw0fCtfZwliu6xLli/iJ/P0YOARxeSXVdFc0sq0EdfOQo/KeOwVnia0xBnDC9ZgQ+t36Fr\n",
              "ghB7bxLsx19X8ChjlSlPREymZ3vexrzBPQB0OpkT6LhiT3jt1qdfPzHtmwXPhxcTUBMsV3Ri4mIp\n",
              "H734RK/pttpr+kqeM7FjAWfwW9UDR/HOjr6d4DT/9AjaXxN6qKH/VnovLqm4on7Wkxn7/GNOm3NV\n",
              "3yWxEhZVeEVpmsbl97fC8f2SIqw5Pvy1Qz0wpA7AZVagblL6AC9ACIaZAAAAU0GeO0U0TDP/AC/D\n",
              "RmRDOvR3oHXJgG6KbLSWykz16g/UsTBmh2TE+HUH1G76RQj6KB+MDfzQ0p8Ygd/25KY9qIxQYtmc\n",
              "g2bGvPJrL07YqMwsRUDwAAAAMAGeWnRCvwArOS/olUJPsBgQccNHyTW3wAAQm+wsKpjWIJILsV9a\n",
              "9gXlZfMBPbOOKQAAADABnlxqQr8AWKQaYHQzBu4WspLzP9yjNi3Qcz3fq2rjRYyLBHalIsNhMHqN\n",
              "CnsLH7EAAAGLQZpASahBaJlMCH///qmWADaEgGWOBui0KUA3RifE/TuoAW4CRfEaLq9QgOMggvr3\n",
              "cmQQ0XtQfeyJt+cvPtLLsHhJTNlLTamtLfYCdgO5CyXUdBMBKy/oJ6nFPOnvH+RDe0DvN8igA1Ly\n",
              "9PJ3Vw0LAVwLAUM+syZClbyOixFELJXAA7FnCn/9dGzgSTN3uSWos45OazKbiWCYZEEGx46d5hcy\n",
              "WS+YCuLUySg0DGZICaFRfrzaCsV0OLjwejkoAyikbZTiTuxMsik0WccP/zDP8Yc0DwBruBmKGmIh\n",
              "4zM8xmLiN6wJC2t6bm9giRntVCPqFFrzwxdKsqKX131+fe+j/qqBKb8BRGjMeLNOnkBjN9JKWjWR\n",
              "KPkVNkTUv/6qVze/mDnSXDCQUOxaHLXLNFK9IUFDaSIRQipPjkS9WATcoJgWiIJhJsslkt9hAEe7\n",
              "9JUXRX8RyFDvl//jHdbqZqzCcMfbghGdY1t0FXZpOXJ4chtQhB/eWSwAnuuTk82ipTvwFhukXbTf\n",
              "/QUWrHAAAAA+QZ5+RREsL/8AP4SfBkBbyfvhhQfOZHGtLb9PYu+kJz3+nkCSyIN/3bxHCBNW0SL+\n",
              "jqKUMIl+Swer+oXPTngAAAAwAZ6fakK/AFikiARvHbqfNLq6GaHn7fHpRqEIunednx6RDZHabKez\n",
              "snI+ZO0heLaBAAABq0GahEmoQWyZTAh///6plgBssnrvmgHz18sMpIUB9bFUTHJTDvMBar7US/G4\n",
              "IajaQrLp4CJh4IztMH7nPtKWo3qhQWr4sNIp59j7vMlZGtRC8OKjBQeQKKwEmwDu9P0uxwpgrkFj\n",
              "CbUTji3Dwa+I1YU5gA49n08oQxTRMGBDx5uGfhCSXKobADwITtoMh+tHYRze/52HhFmjIctVC7Wm\n",
              "BQG02XTak4Xbhzr2fPUpy3Ms/RqV8+7eFpZEnd74dfx3rJyAHWoPreq8LqawY2PjRICIpJrpi0Ta\n",
              "Ene7t7RwDF7zU5nXmqqzhYju+jM8U1+/lrPAMqKYoGbSWPrQDDMtV7M+O0rFwu4yULAyivnwelR4\n",
              "V0S8cspSWaJl1gttAyeKrDTzTxcprQRka1+kmTggzRmsq/1a2Ryly1Fz0qPDq53mh/IruFxzuZny\n",
              "wKo22ceeMymgitBdLGfoSJGrVnFRfn3v2Tk8hCUgXUQ/ixZ8ELf28k3JuXfVJ7RV1Uq4OsKbLpkq\n",
              "tDfao1lxlP/KGrbVcJMzRQGyxIBwJSDXjDA8H8PGMYBg87V2CiZkxOQAAABHQZ6iRRUsM/8AX2Mu\n",
              "Q1NKasgj2PLmPt3uv7HPpRhDVvY1rE/X7ZJ+uKl0IZNoPa+SBBIoAKwJsEhm34ltGb0j6EfBl8lX\n",
              "4+MAAAA1AZ7BdEK/ALFki36WUZfaMIVF6lukRwHdnNWPqPE+AW+SLxBI2raVWVBkgZ36vdXE0QVE\n",
              "E8IAAAAsAZ7DakK/ALFhw2iW4p1K2lxWhnAsvM3NeICHodwshBASD28weKO+jujuQMEAAAGbQZrI\n",
              "SahBbJlMCH///qmWAGzUSch94BCG07vt9l5ykrxd9uBrXiPd+x9zNAfT0GEOvrCBM65nLwtz9/YM\n",
              "/buJdiHyh/pReuKbTETgMYpenlGamFqYx14mQyHlFFNLLn+SGqdOMTivMtSxUaV6oW0l1CAtHIxu\n",
              "C7hkN1Gjvv/pQdToPO4J26tjJGRToRlxVsx2znqm9Wpp0aNGzztJ32HB8uZgl0Nhf7JSnW1FTXwM\n",
              "/0ajVq1RbdKk4UUIkVDIxEHQUAAW4Bc0iECVhi8jxEoC5nPA70GeXahjUy5yohzwQV/2vV2CfGqE\n",
              "CA6vIgYDu5YGcUpLx3+XIcNhHHBSwcRJy5QhoW2XCBCG08cKYZWWw/donL2/wKgzlUysjAz5AauE\n",
              "SG520/cwHZ5e3zuszIZFUqpPVYuUZ86+7UGs7Y7APfkITL6aXs5bdLXov66OjxN5H1cWHfuP3rGG\n",
              "1esr2qb+nTmGho2z4JvRP4vklJVlskOvJNtqpGui+S0Rc/1VWz1WZHkg4ProR4Pf9keUnfqxKydU\n",
              "1KMovl1lsjalAAAAXUGe5kUVLDP/AF9jMD4G9luYrmzt0g9aQgwEeMS4x9Ha90uZosTzK1Abg0i/\n",
              "rbaSSelPkaRyZy8EUkvuSLe4aUj0WF1TjRh9NGITGZDzsCPZJwaoPv/5PuVqSxTGfQAAADQBnwV0\n",
              "Qr8AsTD8axqthK7/6zgjPNn34/VQSqffv3g2GEAGixU0NGAqvAabOGuJwRqeDEzZAAAAUgGfB2pC\n",
              "vwCxNO8pabtpv9VHgyKpJwYqXtHCHjEsP6oVNWrCDz//A6WcCuS/ukwG98ihoE1/VdddEWJHFP4D\n",
              "EAKKDX73teNJW9PQBsE1ziUqH3AAAAFyQZsMSahBbJlMCH///qmWAG0HRpN6GxaFD8wzRves+MF3\n",
              "hqJUARtNXNfW6iiA/9delMof+15zYuhAfXKzVS2dSIG6H0OQLYeW8tI8R9yvhMC7D7f/baMVyJ/K\n",
              "Hd4dKAHlwOPR9heY+XoeYTbpkmdU+KYdkO0oVTELcNSa4jlilRqsW8Tt7+Kp9/P8vut18nFehWVN\n",
              "GqX/wJ6YUwzcGNgQ0gespAOdYMrWQWUOX1U1JGHcoPXNK638XlOqKz+eX0FsD+/GyHvlRRtIFGLk\n",
              "A3A8gVCjETQ47MltjrJA2YvO/1RWULJzUGrgCrb8wteKWXkG2KD28+Akm2eM9MT5coY9ktRV7luc\n",
              "CZgeIhrbJJzPUDpdC94sLjVn/PeTUTjfSojVhduAqZ1388z8GFML78BIEoXcFZDjvkKaP7bCTdGj\n",
              "/a9LPo/vl+4Eljy1tIhuN1hRxZNiMhae+OUbOpjBw4BzwW+YFYSimzuLv7nrSkv9Ur8HEwAAAFFB\n",
              "nypFFSwz/wBfYy5DU0pq7MFeniimnqiFe4tkIU7QQEsgolT9X0ifL6nhi1aEgl+4AXCJ3Isx8XvY\n",
              "BOGNv6jnNIWHCdzkujM1xnJW31iigh8AAAA5AZ9JdEK/ALF0Z8sVy1x9R0AKC+2XlCx7mjZTTfEM\n",
              "qOemTrd+SuS+4iTA1DasEKLqnKpLCgq1S3E/AAAAQwGfS2pCvwCxdWdNsZmbbteV3Wyh5dLKnAAw\n",
              "BavElg69+up1oNestsecoaaR/cXjZ0GtZw4PEz+tUoKCgy5ai8wPP54AAAEhQZtQSahBbJlMCH//\n",
              "/qmWAGzKFnckrwVEiAAhZJ37+3VbXfmKcIg+hSTTRVIio3unKRkKHigyfrpo7FiMZCo2waky4mo1\n",
              "Yofm1wdyAxWMwDdWhTDeTbDULTsIWVgTT8CH9DSOWpSaPmUjI0az6yW4v51ibGDgVQFHF1TFp1EE\n",
              "vYLtwYJUMV/4/OUZ1pp47KrqPuksvXeHWZF/zG0BPGWlWyKJJxe17QZ77zK9zMTQeXP47ZAAtNzh\n",
              "0F5U2VHjGqffWRJXhphqUz4p2gNZk/VCagwumfFdJ8OhGo79GLLHirDPnIhXiIKYeUGIuzjQ98eB\n",
              "KlM7jg9oRLGr5j7GlRupyBeDTms6PwAM756jRkDzuqTR99y0HLc3XI8GrBOFX3Sf4QAAAERBn25F\n",
              "FSwz/wBfkaGbySdyHa9EGQX7lNtvrBq7umhzw//yJarb2QQAABSdz2sn4oWWOZZma7ykwc3Dnuu9\n",
              "2gtmcYUG4QAAAEgBn410Qr8AsQzOuA65quCU3Fg7z628wba8kaGruGhUk8Od833SpNBjHCquNJgM\n",
              "UnVtRwQLXdMv/fBe/JTUnvoziC7UaHxET8EAAABEAZ+PakK/ALFeP+c/ZCEaRauS01h1tMrlDAY/\n",
              "LZHr3jJETTapJQFdlGksYURnuvJ7kIMKyC4wUxx4iK96Xm7BRMUICMgAAAFfQZuUSahBbJlMCH//\n",
              "/qmWAG0I0iIukRnEiAAjJaeGrnCAYakJgj1MxyvDywAhv1eTZZmnVSOM0gbqoeiBJlRuD9DEdOE7\n",
              "/MXHSnhuOU/RKaM93LZA7Ck28rei9tTcRxo7XM2CTPYvNiSHALoJ3sypXV/ZoxWF5VoYyP6pKFf+\n",
              "Pj1pRGOxDpCmjpaom2oBQ6kJ5SEcCKnhq+bYIAEdt3EfnJJnUr0FEfgk4iITM+Lyr5h2wKZcoOj2\n",
              "5Amc5DcT0LsnL2Zt8sigLQoDcel7piPOWuHC8XMeUktL/+63ixz+rHTpO+i7bZpfPbbp79OxjAAL\n",
              "IupLHAMB92QOIdY2pSW4iyo5oVKbNhY7zxIEDtjLU9MsP6JEQ+2cC3Ve2xtBRRqfnzouswoVgDJa\n",
              "SyEbY0ucfG9XGP83WFEF09HpGi6JiMHNiulJakQ6m7C3UI/GBHA09gFkYY/mmqBVvHJbTVGrAAAA\n",
              "P0GfskUVLDP/AF9ZPgasKfGeSH8ZiwLJ+Xb8OPZZohvaGny9IAW8xQfAAFFhOf3yNtzHuxwAaoID\n",
              "FMCqu1CCPwAAADsBn9F0Qr8AsXUtdFNA75Lchkv6nloxr7WWaQ1x2f+RpOVaD/z6r8jEEOuxr36h\n",
              "Mx0F8VrRY51S8BuHDAAAADcBn9NqQr8AsQIc69hrGlP5xaX5InybBztssymhFXscIBAYuVVrK9dX\n",
              "VcqmGvxkzNee82seFj6gAAABFUGb2EmoQWyZTAh3//6plgBsqlLScyxwlQ3Q3/NnyvtxUAQ2ZvH+\n",
              "GwuDSQ9B3O3zq+lbm2xoAKQDh8DSSuQsoym7S45rV+zYUZy/hpim/fi/MuFqjiebBAXNQkDYTjp1\n",
              "DNnG8ffTQVpU8z6IVYI3oTXFtuIZ6J92T/tcZ58nKWdht7vCj+d/bUtzJ34DEbonglsv1IHy+Hsk\n",
              "kPYVj78brRJklV4pPOH02tSzCTBVNXiUvogQHpxCUcdrsdbxtg/sPFNJtw85qLzz4s9abKTLBX4U\n",
              "rJ8I4WE6x+dxED9+m22Wb7NqoOIQzw0EnTfixza90WD2jnhACVVM1vnnpGVndLN/8ln7aaIX6mbd\n",
              "ZhXarB4qB0P1kJ0AAABZQZ/2RRUsM/8AX4ag+NDgOyz31YqiOD4QO5Dfivn3R7LVx4zL0DxGstMn\n",
              "88GMsKDNXMHJjLQAgw7flj5Kl4RjnNfc1E0J6uSDudxpJy4orcknWilsrxAw/oAAAAAvAZ4VdEK/\n",
              "ADtcBIhHjVzg6MnW1V+kTIVaczNCLAQCOkqFD5PUb1PLtotTro7QPSEAAAAzAZ4XakK/ALF1kgFb\n",
              "obv7VyHqLCosf59VpIDHAZFPqLwWImpCt5ywaZaaYhklOX3WFoLjAAAA3EGaHEmoQWyZTAh3//6p\n",
              "lgD7k7IYkM8BmdEzLCegSUdJrMVIAhdhKZ/2QfHutXf/wbtFw7MnJ2KH5bZmaagzev8c07/51dWC\n",
              "BufsE5hpwyY39FM1gnRa3ThDRifE+dDIsKkl2OBhckwZAcpJS6UiBiWmrzdBk6F65a+fvpr7DQT0\n",
              "NY0NdxgOe4WixkBGcxgYYF3wcqK/sf5UQpMla0swVNPCVCQclB86dxHP8XD7l8UGbETyANOim3JH\n",
              "drmCizOEFr1kCsXqjQYW5zI7g97Osm+0NpaL5DY57qC1rYAAAABSQZ46RRUsM/8AX4ag+NF7b4nW\n",
              "IuhkUt62b8MLp2p6zGkuc+LlfGJhJma3X06ABnb7U0S0KPKjzo/GuaUUFNQadHsD9j8SKFZEWYhe\n",
              "6I0BVBwHvQAAADABnll0Qr8BY8kwhg1pWiHPkSgHixxmabJwudW2IG8dBkZeRVD7gQ1udcNeT4AX\n",
              "yYEAAAA3AZ5bakK/AWNp/KCwydxz9Qfk1RtDDZu5Wk+xbJc3qGTjgmeCjTdiWRzKDmv17KvE5JBG\n",
              "W+kw4QAAAJNBmkBJqEFsmUwIb//+p4QB79Qezb7M9nQ20NUawovLO2n6z3hLhwXecgHlacw2umIg\n",
              "AlT1wYTaqDusknEb35B/XgB544BDkiUq5jN3+AxK13qfcbbTldUWCZ+pxxvyMwOtxQMG8uDwU4bf\n",
              "yT31V7zeHKl1q+UEA9SfRjtgSbIlhwgQ6oGyl2HupWIz47R6/mvnQdEAAAA7QZ5+RRUsM/8AH8YJ\n",
              "l+ed0x0KZCcOBfM+9bOEhSIcf8bApdqF0F0d4DTNwLwAzQZjYfqLXH5saubVEVAAAAAsAZ6ddEK/\n",
              "ALFvemPKHL/BZ52NDxVBSteigPv5f16VUHRhqpBSIYKyOkUIjQ0AAAA2AZ6fakK/ALFD/uLj0P1F\n",
              "1O6ZilXlkqLMFGjbCVNgsLuBbwJPf513/UToLNhwK+k+wn246EspAAAAcUGag0moQWyZTAhX//44\n",
              "QBxNeIiL97WRczGE6JNm+vQAlTS8ZHIfwN4r1mq+V5qjlSqa90r/rquejOqqDcnphcXzP79wOQah\n",
              "xaGjQc6aTzGE1z6r9BdUv6LxRjd70oSOEDO5gi6TgOE8S8INbfN44gWAAAAAQ0GeoUUVLC//AC1s\n",
              "Ja5u09gxTyGke7pOkBhBg1Hhvs180iJT0EcZw2qzbWuylGolnxd5Ni+pd1JBwxqRHJuZkXQIm4EA\n",
              "AAAtAZ7CakK/ADtspn9mpJP7BB5qM99DnLGpd0nj98GpZ94gar7XDfTHbZNiSOiAAAAHrm1vb3YA\n",
              "AABsbXZoZAAAAAAAAAAAAAAAAAAAA+gAABOIAAEAAAEAAAAAAAAAAAAAAAABAAAAAAAAAAAAAAAA\n",
              "AAAAAQAAAAAAAAAAAAAAAAAAQAAAAAAAAAAAAAAAAAAAAAAAAAAAAAAAAAAAAAAAAAIAAAbYdHJh\n",
              "awAAAFx0a2hkAAAAAwAAAAAAAAAAAAAAAQAAAAAAABOIAAAAAAAAAAAAAAAAAAAAAAABAAAAAAAA\n",
              "AAAAAAAAAAAAAQAAAAAAAAAAAAAAAAAAQAAAAAGwAAABIAAAAAAAJGVkdHMAAAAcZWxzdAAAAAAA\n",
              "AAABAAATiAAABAAAAQAAAAAGUG1kaWEAAAAgbWRoZAAAAAAAAAAAAAAAAAAAKAAAAMgAVcQAAAAA\n",
              "AC1oZGxyAAAAAAAAAAB2aWRlAAAAAAAAAAAAAAAAVmlkZW9IYW5kbGVyAAAABfttaW5mAAAAFHZt\n",
              "aGQAAAABAAAAAAAAAAAAAAAkZGluZgAAABxkcmVmAAAAAAAAAAEAAAAMdXJsIAAAAAEAAAW7c3Ri\n",
              "bAAAALNzdHNkAAAAAAAAAAEAAACjYXZjMQAAAAAAAAABAAAAAAAAAAAAAAAAAAAAAAGwASAASAAA\n",
              "AEgAAAAAAAAAAQAAAAAAAAAAAAAAAAAAAAAAAAAAAAAAAAAAAAAAAAAAABj//wAAADFhdmNDAWQA\n",
              "Ff/hABhnZAAVrNlBsJaEAAADAAQAAAMAoDxYtlgBAAZo6+PLIsAAAAAcdXVpZGtoQPJfJE/Fujml\n",
              "G88DI/MAAAAAAAAAGHN0dHMAAAAAAAAAAQAAAGQAAAIAAAAAFHN0c3MAAAAAAAAAAQAAAAEAAAMA\n",
              "Y3R0cwAAAAAAAABeAAAAAwAABAAAAAABAAAGAAAAAAEAAAIAAAAAAgAABAAAAAABAAAGAAAAAAEA\n",
              "AAIAAAAAAQAABgAAAAABAAACAAAAAAEAAAgAAAAAAgAAAgAAAAABAAAKAAAAAAEAAAQAAAAAAQAA\n",
              "AAAAAAABAAACAAAAAAEAAAoAAAAAAQAABAAAAAABAAAAAAAAAAEAAAIAAAAAAQAACgAAAAABAAAE\n",
              "AAAAAAEAAAAAAAAAAQAAAgAAAAABAAAKAAAAAAEAAAQAAAAAAQAAAAAAAAABAAACAAAAAAEAAAoA\n",
              "AAAAAQAABAAAAAABAAAAAAAAAAEAAAIAAAAAAQAACgAAAAABAAAEAAAAAAEAAAAAAAAAAQAAAgAA\n",
              "AAABAAAKAAAAAAEAAAQAAAAAAQAAAAAAAAABAAACAAAAAAEAAAYAAAAAAQAAAgAAAAABAAAKAAAA\n",
              "AAEAAAQAAAAAAQAAAAAAAAABAAACAAAAAAEAAAoAAAAAAQAABAAAAAABAAAAAAAAAAEAAAIAAAAA\n",
              "AQAACgAAAAABAAAEAAAAAAEAAAAAAAAAAQAAAgAAAAABAAAGAAAAAAEAAAIAAAAAAQAACgAAAAAB\n",
              "AAAEAAAAAAEAAAAAAAAAAQAAAgAAAAABAAAIAAAAAAIAAAIAAAAAAQAACgAAAAABAAAEAAAAAAEA\n",
              "AAAAAAAAAQAAAgAAAAABAAAKAAAAAAEAAAQAAAAAAQAAAAAAAAABAAACAAAAAAEAAAoAAAAAAQAA\n",
              "BAAAAAABAAAAAAAAAAEAAAIAAAAAAQAACgAAAAABAAAEAAAAAAEAAAAAAAAAAQAAAgAAAAABAAAK\n",
              "AAAAAAEAAAQAAAAAAQAAAAAAAAABAAACAAAAAAEAAAoAAAAAAQAABAAAAAABAAAAAAAAAAEAAAIA\n",
              "AAAAAQAACgAAAAABAAAEAAAAAAEAAAAAAAAAAQAAAgAAAAABAAAKAAAAAAEAAAQAAAAAAQAAAAAA\n",
              "AAABAAACAAAAAAEAAAgAAAAAAgAAAgAAAAAcc3RzYwAAAAAAAAABAAAAAQAAAGQAAAABAAABpHN0\n",
              "c3oAAAAAAAAAAAAAAGQAABBMAAADgwAAAr0AAALdAAAAdQAAAckAAAGnAAACOgAAAFgAAAHLAAAA\n",
              "VgAAAksAAABtAAAAVAAAAtIAAACVAAAARQAAAFAAAAIkAAAAYgAAAEIAAAAxAAAB/wAAAFoAAAA2\n",
              "AAAAMAAAAkMAAABbAAAAQgAAAEAAAAHJAAAAawAAAEsAAABSAAAB8QAAAGMAAABLAAAAMwAAAhcA\n",
              "AABlAAAAPAAAAD4AAAGHAAAAUQAAAcoAAABvAAAAOgAAAD0AAAHMAAAAaQAAAC4AAAAsAAAB0gAA\n",
              "AF0AAAA8AAAAPQAAAWIAAAA3AAAB3gAAAFcAAAA0AAAANAAAAY8AAABCAAAANAAAAa8AAABLAAAA\n",
              "OQAAADAAAAGfAAAAYQAAADgAAABWAAABdgAAAFUAAAA9AAAARwAAASUAAABIAAAATAAAAEgAAAFj\n",
              "AAAAQwAAAD8AAAA7AAABGQAAAF0AAAAzAAAANwAAAOAAAABWAAAANAAAADsAAACXAAAAPwAAADAA\n",
              "AAA6AAAAdQAAAEcAAAAxAAAAFHN0Y28AAAAAAAAAAQAAACwAAABidWR0YQAAAFptZXRhAAAAAAAA\n",
              "ACFoZGxyAAAAAAAAAABtZGlyYXBwbAAAAAAAAAAAAAAAAC1pbHN0AAAAJal0b28AAAAdZGF0YQAA\n",
              "AAEAAAAATGF2ZjU3LjgzLjEwMA==\n",
              "\">\n",
              "  Your browser does not support the video tag.\n",
              "</video>"
            ],
            "text/plain": [
              "<IPython.core.display.HTML object>"
            ]
          },
          "metadata": {
            "tags": []
          },
          "execution_count": 359
        }
      ]
    },
    {
      "cell_type": "code",
      "metadata": {
        "id": "XrVvGzr05moS",
        "colab_type": "code",
        "colab": {}
      },
      "source": [
        ""
      ],
      "execution_count": null,
      "outputs": []
    }
  ]
}